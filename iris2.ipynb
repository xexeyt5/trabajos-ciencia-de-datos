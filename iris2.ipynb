{
 "cells": [
  {
   "cell_type": "code",
   "execution_count": 1,
   "metadata": {},
   "outputs": [],
   "source": [
    "import pandas as pd\n",
    "df = pd.read_csv('iris.csv.txt',sep=',',header=0)\n",
    "df.head(4)\n",
    "features = ['sepal_length', 'sepal_width', 'petal_length', 'petal_width']\n",
    "label = 'species'"
   ]
  },
  {
   "cell_type": "code",
   "execution_count": 3,
   "metadata": {},
   "outputs": [],
   "source": [
    "from sklearn.model_selection import train_test_split\n",
    "from sklearn.preprocessing import LabelEncoder"
   ]
  },
  {
   "cell_type": "code",
   "execution_count": 4,
   "metadata": {},
   "outputs": [],
   "source": [
    "le = LabelEncoder()\n",
    "y = le.fit_transform(df[label])"
   ]
  },
  {
   "cell_type": "code",
   "execution_count": 5,
   "metadata": {},
   "outputs": [],
   "source": [
    "xtrain, xtest, ytrain, ytest = train_test_split(df[features], y, test_size=0.2, random_state=0)"
   ]
  },
  {
   "cell_type": "code",
   "execution_count": 6,
   "metadata": {},
   "outputs": [
    {
     "name": "stdout",
     "output_type": "stream",
     "text": [
      "(120, 4)\n",
      "(30, 4)\n",
      "120\n",
      "30\n"
     ]
    }
   ],
   "source": [
    "print(xtrain.shape)\n",
    "print(xtest.shape)\n",
    "print(len(ytrain))\n",
    "print(len(ytest))"
   ]
  },
  {
   "cell_type": "code",
   "execution_count": 7,
   "metadata": {},
   "outputs": [],
   "source": [
    "from sklearn.linear_model import LinearRegression"
   ]
  },
  {
   "cell_type": "code",
   "execution_count": 8,
   "metadata": {},
   "outputs": [],
   "source": [
    "svm = LinearRegression()\n",
    "modelo = svm.fit(xtrain, ytrain)\n",
    "prediccion = modelo.predict(xtest)"
   ]
  },
  {
   "cell_type": "code",
   "execution_count": 9,
   "metadata": {},
   "outputs": [
    {
     "name": "stdout",
     "output_type": "stream",
     "text": [
      "2 --> 2\n",
      "1 --> 2\n",
      "0 --> 2\n",
      "2 --> 2\n",
      "0 --> 2\n",
      "2 --> 2\n",
      "0 --> 2\n",
      "1 --> 2\n",
      "1 --> 2\n",
      "1 --> 2\n",
      "2 --> 2\n",
      "1 --> 2\n",
      "1 --> 2\n",
      "1 --> 2\n",
      "1 --> 2\n",
      "0 --> 2\n",
      "1 --> 2\n",
      "1 --> 2\n",
      "0 --> 2\n",
      "0 --> 2\n",
      "2 --> 2\n",
      "1 --> 2\n",
      "0 --> 2\n",
      "0 --> 2\n",
      "2 --> 2\n",
      "0 --> 2\n",
      "0 --> 2\n",
      "1 --> 2\n",
      "1 --> 2\n",
      "0 --> 2\n"
     ]
    }
   ],
   "source": [
    "prediccion_lista = prediccion.tolist()\n",
    "ytest_lista = ytest.tolist()\n",
    "\n",
    "i=0\n",
    "for pred in prediccion_lista:\n",
    "    print(round(pred), '-->', ytest[i])\n",
    "\n",
    "i += 1"
   ]
  },
  {
   "cell_type": "code",
   "execution_count": 10,
   "metadata": {},
   "outputs": [
    {
     "name": "stdout",
     "output_type": "stream",
     "text": [
      "score:  0.9059663899067814\n"
     ]
    }
   ],
   "source": [
    "print('score: ', modelo.score(xtest, ytest))"
   ]
  },
  {
   "cell_type": "code",
   "execution_count": 11,
   "metadata": {},
   "outputs": [],
   "source": [
    "from sklearn.metrics import mean_squared_error\n",
    "from sklearn.metrics import mean_absolute_error"
   ]
  },
  {
   "cell_type": "code",
   "execution_count": 12,
   "metadata": {},
   "outputs": [
    {
     "name": "stdout",
     "output_type": "stream",
     "text": [
      "mean_squared_error 0.05067366766134559\n",
      "mean_absolute_error 0.1849828335340648\n"
     ]
    }
   ],
   "source": [
    "print('mean_squared_error', mean_squared_error(prediccion, ytest))\n",
    "\n",
    "print('mean_absolute_error', mean_absolute_error(ytest, prediccion))"
   ]
  },
  {
   "cell_type": "code",
   "execution_count": 13,
   "metadata": {},
   "outputs": [],
   "source": [
    "from sklearn.linear_model import Ridge"
   ]
  },
  {
   "cell_type": "code",
   "execution_count": 14,
   "metadata": {},
   "outputs": [],
   "source": [
    "svm = Ridge()\n",
    "modelo = svm.fit(xtrain, ytrain)\n",
    "prediccion = modelo.predict(xtest)"
   ]
  },
  {
   "cell_type": "code",
   "execution_count": 15,
   "metadata": {},
   "outputs": [
    {
     "name": "stdout",
     "output_type": "stream",
     "text": [
      "score:  0.9047573189684948\n",
      "mean_squared_error 0.051325222555866676\n"
     ]
    }
   ],
   "source": [
    "print('score: ', modelo.score(xtest, ytest))\n",
    "\n",
    "print('mean_squared_error', mean_squared_error(prediccion, ytest))\n",
    "\n",
    "#print('mean_absolute_error', mean_absolute_error(ytest, prediccion))"
   ]
  },
  {
   "cell_type": "code",
   "execution_count": 16,
   "metadata": {},
   "outputs": [],
   "source": [
    "#Regresion lineal\n",
    "#score:  0.9059663899067814\n",
    "#mean_squared_error 0.05067366766134559\n",
    "#mean_absolute_error 0.1849828335340648\n",
    "\n",
    "\n",
    "#Ridge\n",
    "#score:  0.9047573189684948\n",
    "#mean_squared_error 0.051325222555866676"
   ]
  },
  {
   "cell_type": "code",
   "execution_count": 18,
   "metadata": {},
   "outputs": [],
   "source": [
    "from sklearn.linear_model import LogisticRegression"
   ]
  },
  {
   "cell_type": "code",
   "execution_count": 20,
   "metadata": {},
   "outputs": [],
   "source": [
    "svm = LogisticRegression(max_iter=1000)\n",
    "modelo = svm.fit(xtrain, ytrain)\n",
    "prediccion = modelo.predict(xtest)"
   ]
  },
  {
   "cell_type": "code",
   "execution_count": 22,
   "metadata": {},
   "outputs": [
    {
     "name": "stdout",
     "output_type": "stream",
     "text": [
      "score:  1.0\n",
      "mean_squared_error 0.0\n"
     ]
    }
   ],
   "source": [
    "print('score: ', modelo.score(xtest, ytest))\n",
    "\n",
    "print('mean_squared_error', mean_squared_error(prediccion, ytest))\n",
    "\n",
    "#print('mean_absolute_error', mean_absolute_error(ytest, prediccion))"
   ]
  },
  {
   "cell_type": "code",
   "execution_count": 23,
   "metadata": {},
   "outputs": [],
   "source": [
    "from sklearn.linear_model import Lasso"
   ]
  },
  {
   "cell_type": "code",
   "execution_count": 24,
   "metadata": {},
   "outputs": [],
   "source": [
    "svm = Lasso()\n",
    "modelo = svm.fit(xtrain, ytrain)\n",
    "prediccion = modelo.predict(xtest)"
   ]
  },
  {
   "cell_type": "code",
   "execution_count": 26,
   "metadata": {},
   "outputs": [
    {
     "name": "stdout",
     "output_type": "stream",
     "text": [
      "score:  0.40452814753038335\n",
      "mean_squared_error 0.3208931649419601\n"
     ]
    }
   ],
   "source": [
    "print('score: ', modelo.score(xtest, ytest))\n",
    "\n",
    "print('mean_squared_error', mean_squared_error(prediccion, ytest))\n",
    "\n",
    "#print('mean_absolute_error', mean_absolute_error(ytest, prediccion))"
   ]
  },
  {
   "cell_type": "code",
   "execution_count": 27,
   "metadata": {},
   "outputs": [],
   "source": [
    "from sklearn.linear_model import ElasticNet"
   ]
  },
  {
   "cell_type": "code",
   "execution_count": 28,
   "metadata": {},
   "outputs": [],
   "source": [
    "svm = ElasticNet()\n",
    "modelo = svm.fit(xtrain, ytrain)\n",
    "prediccion = modelo.predict(xtest)"
   ]
  },
  {
   "cell_type": "code",
   "execution_count": 29,
   "metadata": {},
   "outputs": [
    {
     "name": "stdout",
     "output_type": "stream",
     "text": [
      "score:  0.697404791467956\n",
      "mean_squared_error 0.16306519570893485\n"
     ]
    }
   ],
   "source": [
    "print('score: ', modelo.score(xtest, ytest))\n",
    "\n",
    "print('mean_squared_error', mean_squared_error(prediccion, ytest))\n",
    "\n",
    "#print('mean_absolute_error', mean_absolute_error(ytest, prediccion))"
   ]
  }
 ],
 "metadata": {
  "kernelspec": {
   "display_name": "base",
   "language": "python",
   "name": "python3"
  },
  "language_info": {
   "codemirror_mode": {
    "name": "ipython",
    "version": 3
   },
   "file_extension": ".py",
   "mimetype": "text/x-python",
   "name": "python",
   "nbconvert_exporter": "python",
   "pygments_lexer": "ipython3",
   "version": "3.10.12"
  }
 },
 "nbformat": 4,
 "nbformat_minor": 2
}
