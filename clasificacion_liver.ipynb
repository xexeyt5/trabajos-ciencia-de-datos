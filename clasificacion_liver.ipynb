{
  "cells": [
    {
      "cell_type": "code",
      "execution_count": 2,
      "metadata": {
        "id": "qqIWtfJ4noys"
      },
      "outputs": [],
      "source": [
        "import pandas as pd"
      ]
    },
    {
      "cell_type": "code",
      "execution_count": 3,
      "metadata": {
        "colab": {
          "base_uri": "https://localhost:8080/",
          "height": 175
        },
        "id": "9-0gPlUYojt1",
        "outputId": "c715558c-3e79-4e06-e397-e56856f2a42e"
      },
      "outputs": [
        {
          "data": {
            "text/html": [
              "<div>\n",
              "<style scoped>\n",
              "    .dataframe tbody tr th:only-of-type {\n",
              "        vertical-align: middle;\n",
              "    }\n",
              "\n",
              "    .dataframe tbody tr th {\n",
              "        vertical-align: top;\n",
              "    }\n",
              "\n",
              "    .dataframe thead th {\n",
              "        text-align: right;\n",
              "    }\n",
              "</style>\n",
              "<table border=\"1\" class=\"dataframe\">\n",
              "  <thead>\n",
              "    <tr style=\"text-align: right;\">\n",
              "      <th></th>\n",
              "      <th>Cirrhosis</th>\n",
              "      <th>Diagnosis Age</th>\n",
              "      <th>Disease Free (Months)</th>\n",
              "      <th>Disease Free Status</th>\n",
              "      <th>Mutation Count</th>\n",
              "      <th>Neoplasm Histologic Grade</th>\n",
              "      <th>Overall Survival Status</th>\n",
              "      <th>Overall Survival (Months)</th>\n",
              "      <th>Tumor Other Histologic Subtype</th>\n",
              "    </tr>\n",
              "  </thead>\n",
              "  <tbody>\n",
              "    <tr>\n",
              "      <th>0</th>\n",
              "      <td>4</td>\n",
              "      <td>44</td>\n",
              "      <td>86.9</td>\n",
              "      <td>DiseaseFree</td>\n",
              "      <td>62</td>\n",
              "      <td>I</td>\n",
              "      <td>Living</td>\n",
              "      <td>88.9</td>\n",
              "      <td>NBNC</td>\n",
              "    </tr>\n",
              "    <tr>\n",
              "      <th>1</th>\n",
              "      <td>3</td>\n",
              "      <td>59</td>\n",
              "      <td>38.1</td>\n",
              "      <td>Recurred</td>\n",
              "      <td>115</td>\n",
              "      <td>II</td>\n",
              "      <td>Living</td>\n",
              "      <td>88.9</td>\n",
              "      <td>NBNC</td>\n",
              "    </tr>\n",
              "    <tr>\n",
              "      <th>2</th>\n",
              "      <td>2</td>\n",
              "      <td>41</td>\n",
              "      <td>83.5</td>\n",
              "      <td>DiseaseFree</td>\n",
              "      <td>55</td>\n",
              "      <td>IIII</td>\n",
              "      <td>Living</td>\n",
              "      <td>88.1</td>\n",
              "      <td>HBV</td>\n",
              "    </tr>\n",
              "    <tr>\n",
              "      <th>3</th>\n",
              "      <td>2</td>\n",
              "      <td>44</td>\n",
              "      <td>10.3</td>\n",
              "      <td>Recurred</td>\n",
              "      <td>75</td>\n",
              "      <td>III</td>\n",
              "      <td>Deceased</td>\n",
              "      <td>58.2</td>\n",
              "      <td>NBNC</td>\n",
              "    </tr>\n",
              "  </tbody>\n",
              "</table>\n",
              "</div>"
            ],
            "text/plain": [
              "   Cirrhosis  Diagnosis Age  Disease Free (Months) Disease Free Status  \\\n",
              "0          4             44                   86.9         DiseaseFree   \n",
              "1          3             59                   38.1            Recurred   \n",
              "2          2             41                   83.5         DiseaseFree   \n",
              "3          2             44                   10.3            Recurred   \n",
              "\n",
              "   Mutation Count Neoplasm Histologic Grade Overall Survival Status  \\\n",
              "0              62                         I                  Living   \n",
              "1             115                        II                  Living   \n",
              "2              55                      IIII                  Living   \n",
              "3              75                       III                Deceased   \n",
              "\n",
              "   Overall Survival (Months) Tumor Other Histologic Subtype  \n",
              "0                       88.9                           NBNC  \n",
              "1                       88.9                           NBNC  \n",
              "2                       88.1                            HBV  \n",
              "3                       58.2                           NBNC  "
            ]
          },
          "execution_count": 3,
          "metadata": {},
          "output_type": "execute_result"
        }
      ],
      "source": [
        "df=pd.read_csv(\"Liver.csv\",sep=',',header=0)\n",
        "df.head(4)"
      ]
    },
    {
      "cell_type": "code",
      "execution_count": 4,
      "metadata": {
        "colab": {
          "base_uri": "https://localhost:8080/",
          "height": 424
        },
        "id": "YF1mEBH5rdup",
        "outputId": "06f4936b-25ac-4342-ee1d-b30aa6193322"
      },
      "outputs": [
        {
          "data": {
            "text/html": [
              "<div>\n",
              "<style scoped>\n",
              "    .dataframe tbody tr th:only-of-type {\n",
              "        vertical-align: middle;\n",
              "    }\n",
              "\n",
              "    .dataframe tbody tr th {\n",
              "        vertical-align: top;\n",
              "    }\n",
              "\n",
              "    .dataframe thead th {\n",
              "        text-align: right;\n",
              "    }\n",
              "</style>\n",
              "<table border=\"1\" class=\"dataframe\">\n",
              "  <thead>\n",
              "    <tr style=\"text-align: right;\">\n",
              "      <th></th>\n",
              "      <th>Cirrhosis</th>\n",
              "      <th>Diagnosis Age</th>\n",
              "      <th>Disease Free (Months)</th>\n",
              "      <th>Disease Free Status</th>\n",
              "      <th>Mutation Count</th>\n",
              "      <th>Neoplasm Histologic Grade</th>\n",
              "      <th>Overall Survival Status</th>\n",
              "      <th>Overall Survival (Months)</th>\n",
              "      <th>Tumor Other Histologic Subtype</th>\n",
              "    </tr>\n",
              "  </thead>\n",
              "  <tbody>\n",
              "    <tr>\n",
              "      <th>0</th>\n",
              "      <td>4</td>\n",
              "      <td>44</td>\n",
              "      <td>86.9</td>\n",
              "      <td>DiseaseFree</td>\n",
              "      <td>62</td>\n",
              "      <td>1</td>\n",
              "      <td>Living</td>\n",
              "      <td>88.9</td>\n",
              "      <td>NBNC</td>\n",
              "    </tr>\n",
              "    <tr>\n",
              "      <th>1</th>\n",
              "      <td>3</td>\n",
              "      <td>59</td>\n",
              "      <td>38.1</td>\n",
              "      <td>Recurred</td>\n",
              "      <td>115</td>\n",
              "      <td>2</td>\n",
              "      <td>Living</td>\n",
              "      <td>88.9</td>\n",
              "      <td>NBNC</td>\n",
              "    </tr>\n",
              "    <tr>\n",
              "      <th>2</th>\n",
              "      <td>2</td>\n",
              "      <td>41</td>\n",
              "      <td>83.5</td>\n",
              "      <td>DiseaseFree</td>\n",
              "      <td>55</td>\n",
              "      <td>4</td>\n",
              "      <td>Living</td>\n",
              "      <td>88.1</td>\n",
              "      <td>HBV</td>\n",
              "    </tr>\n",
              "    <tr>\n",
              "      <th>3</th>\n",
              "      <td>2</td>\n",
              "      <td>44</td>\n",
              "      <td>10.3</td>\n",
              "      <td>Recurred</td>\n",
              "      <td>75</td>\n",
              "      <td>3</td>\n",
              "      <td>Deceased</td>\n",
              "      <td>58.2</td>\n",
              "      <td>NBNC</td>\n",
              "    </tr>\n",
              "    <tr>\n",
              "      <th>4</th>\n",
              "      <td>4</td>\n",
              "      <td>56</td>\n",
              "      <td>26.1</td>\n",
              "      <td>Recurred</td>\n",
              "      <td>44</td>\n",
              "      <td>4</td>\n",
              "      <td>Deceased</td>\n",
              "      <td>43.1</td>\n",
              "      <td>HCV</td>\n",
              "    </tr>\n",
              "    <tr>\n",
              "      <th>...</th>\n",
              "      <td>...</td>\n",
              "      <td>...</td>\n",
              "      <td>...</td>\n",
              "      <td>...</td>\n",
              "      <td>...</td>\n",
              "      <td>...</td>\n",
              "      <td>...</td>\n",
              "      <td>...</td>\n",
              "      <td>...</td>\n",
              "    </tr>\n",
              "    <tr>\n",
              "      <th>226</th>\n",
              "      <td>2</td>\n",
              "      <td>61</td>\n",
              "      <td>19.9</td>\n",
              "      <td>DiseaseFree</td>\n",
              "      <td>205</td>\n",
              "      <td>2</td>\n",
              "      <td>Living</td>\n",
              "      <td>20.5</td>\n",
              "      <td>HBV</td>\n",
              "    </tr>\n",
              "    <tr>\n",
              "      <th>227</th>\n",
              "      <td>3</td>\n",
              "      <td>61</td>\n",
              "      <td>16.7</td>\n",
              "      <td>DiseaseFree</td>\n",
              "      <td>1014</td>\n",
              "      <td>3</td>\n",
              "      <td>Living</td>\n",
              "      <td>20.3</td>\n",
              "      <td>HCV</td>\n",
              "    </tr>\n",
              "    <tr>\n",
              "      <th>228</th>\n",
              "      <td>4</td>\n",
              "      <td>62</td>\n",
              "      <td>5.6</td>\n",
              "      <td>Recurred</td>\n",
              "      <td>97</td>\n",
              "      <td>3</td>\n",
              "      <td>Living</td>\n",
              "      <td>20.2</td>\n",
              "      <td>HBV</td>\n",
              "    </tr>\n",
              "    <tr>\n",
              "      <th>229</th>\n",
              "      <td>4</td>\n",
              "      <td>51</td>\n",
              "      <td>18.4</td>\n",
              "      <td>DiseaseFree</td>\n",
              "      <td>52</td>\n",
              "      <td>3</td>\n",
              "      <td>Living</td>\n",
              "      <td>20.0</td>\n",
              "      <td>HBV</td>\n",
              "    </tr>\n",
              "    <tr>\n",
              "      <th>230</th>\n",
              "      <td>4</td>\n",
              "      <td>52</td>\n",
              "      <td>12.2</td>\n",
              "      <td>Recurred</td>\n",
              "      <td>97</td>\n",
              "      <td>2</td>\n",
              "      <td>Living</td>\n",
              "      <td>19.5</td>\n",
              "      <td>HBV</td>\n",
              "    </tr>\n",
              "  </tbody>\n",
              "</table>\n",
              "<p>231 rows × 9 columns</p>\n",
              "</div>"
            ],
            "text/plain": [
              "     Cirrhosis  Diagnosis Age  Disease Free (Months) Disease Free Status  \\\n",
              "0            4             44                   86.9         DiseaseFree   \n",
              "1            3             59                   38.1            Recurred   \n",
              "2            2             41                   83.5         DiseaseFree   \n",
              "3            2             44                   10.3            Recurred   \n",
              "4            4             56                   26.1            Recurred   \n",
              "..         ...            ...                    ...                 ...   \n",
              "226          2             61                   19.9         DiseaseFree   \n",
              "227          3             61                   16.7         DiseaseFree   \n",
              "228          4             62                    5.6            Recurred   \n",
              "229          4             51                   18.4         DiseaseFree   \n",
              "230          4             52                   12.2            Recurred   \n",
              "\n",
              "     Mutation Count Neoplasm Histologic Grade Overall Survival Status  \\\n",
              "0                62                         1                  Living   \n",
              "1               115                         2                  Living   \n",
              "2                55                         4                  Living   \n",
              "3                75                         3                Deceased   \n",
              "4                44                         4                Deceased   \n",
              "..              ...                       ...                     ...   \n",
              "226             205                         2                  Living   \n",
              "227            1014                         3                  Living   \n",
              "228              97                         3                  Living   \n",
              "229              52                         3                  Living   \n",
              "230              97                         2                  Living   \n",
              "\n",
              "     Overall Survival (Months) Tumor Other Histologic Subtype  \n",
              "0                         88.9                           NBNC  \n",
              "1                         88.9                           NBNC  \n",
              "2                         88.1                            HBV  \n",
              "3                         58.2                           NBNC  \n",
              "4                         43.1                            HCV  \n",
              "..                         ...                            ...  \n",
              "226                       20.5                            HBV  \n",
              "227                       20.3                            HCV  \n",
              "228                       20.2                            HBV  \n",
              "229                       20.0                            HBV  \n",
              "230                       19.5                            HBV  \n",
              "\n",
              "[231 rows x 9 columns]"
            ]
          },
          "execution_count": 4,
          "metadata": {},
          "output_type": "execute_result"
        }
      ],
      "source": [
        "hp = {'Neoplasm Histologic Grade': {'I': 1, 'II': 2, 'III': 3, 'IIII': 4}}\n",
        "df = df.replace(hp)\n",
        "\n",
        "df\n"
      ]
    },
    {
      "cell_type": "code",
      "execution_count": 5,
      "metadata": {
        "id": "YuDIEf7Gt7aO"
      },
      "outputs": [],
      "source": [
        "df['Neoplasm Histologic Grade'] = pd.to_numeric(df['Neoplasm Histologic Grade'], errors='coerce')\n",
        "\n",
        "df['Neoplasm Histologic Grade'] = df['Neoplasm Histologic Grade'].astype('Int64')"
      ]
    },
    {
      "cell_type": "code",
      "execution_count": null,
      "metadata": {
        "colab": {
          "base_uri": "https://localhost:8080/"
        },
        "id": "x7UKX1kdvGk-",
        "outputId": "ba26319d-ced5-4cd5-fb4e-b250a042e5b6"
      },
      "outputs": [
        {
          "data": {
            "text/plain": [
              "Cirrhosis                         float64\n",
              "Diagnosis Age                     float64\n",
              "Disease Free (Months)             float64\n",
              "Disease Free Status                object\n",
              "Mutation Count                    float64\n",
              "Neoplasm Histologic Grade           Int64\n",
              "Overall Survival Status            object\n",
              "Overall Survival (Months)         float64\n",
              "Tumor Other Histologic Subtype     object\n",
              "dtype: object"
            ]
          },
          "execution_count": 79,
          "metadata": {},
          "output_type": "execute_result"
        }
      ],
      "source": [
        "df.dtypes"
      ]
    },
    {
      "cell_type": "code",
      "execution_count": 10,
      "metadata": {
        "colab": {
          "base_uri": "https://localhost:8080/"
        },
        "id": "QbAWh326y8p4",
        "outputId": "7d070d81-46ba-413f-d052-47c84ccbaed7"
      },
      "outputs": [
        {
          "data": {
            "text/plain": [
              "Cirrhosis                         0\n",
              "Diagnosis Age                     0\n",
              "Disease Free (Months)             0\n",
              "Disease Free Status               0\n",
              "Mutation Count                    0\n",
              "Neoplasm Histologic Grade         0\n",
              "Overall Survival Status           0\n",
              "Overall Survival (Months)         0\n",
              "Tumor Other Histologic Subtype    0\n",
              "dtype: int64"
            ]
          },
          "execution_count": 10,
          "metadata": {},
          "output_type": "execute_result"
        }
      ],
      "source": [
        "df.isna().sum()"
      ]
    },
    {
      "cell_type": "code",
      "execution_count": 11,
      "metadata": {
        "id": "PGVbOtNQzZHY"
      },
      "outputs": [
        {
          "name": "stdout",
          "output_type": "stream",
          "text": [
            "\n",
            "DataFrame después de quitar los nulos:\n",
            "   Cirrhosis  Diagnosis Age  Disease Free (Months) Disease Free Status  \\\n",
            "0          4             44                   86.9         DiseaseFree   \n",
            "1          3             59                   38.1            Recurred   \n",
            "2          2             41                   83.5         DiseaseFree   \n",
            "3          2             44                   10.3            Recurred   \n",
            "\n",
            "   Mutation Count  Neoplasm Histologic Grade Overall Survival Status  \\\n",
            "0              62                          1                  Living   \n",
            "1             115                          2                  Living   \n",
            "2              55                          4                  Living   \n",
            "3              75                          3                Deceased   \n",
            "\n",
            "   Overall Survival (Months) Tumor Other Histologic Subtype  \n",
            "0                       88.9                           NBNC  \n",
            "1                       88.9                           NBNC  \n",
            "2                       88.1                            HBV  \n",
            "3                       58.2                           NBNC  \n"
          ]
        }
      ],
      "source": [
        "# Quitar los valores nulos\n",
        "df = df.dropna()\n",
        "\n",
        "# Mostrar las primeras 4 filas después de quitar los nulos\n",
        "print(\"\\nDataFrame después de quitar los nulos:\")\n",
        "print(df.head(4))\n",
        "\n"
      ]
    },
    {
      "cell_type": "code",
      "execution_count": 12,
      "metadata": {
        "colab": {
          "base_uri": "https://localhost:8080/"
        },
        "id": "uMUgQIoO0Fjb",
        "outputId": "574b4f59-f5af-4b2c-83f2-541dbdda46d5"
      },
      "outputs": [
        {
          "data": {
            "text/plain": [
              "Cirrhosis                         0\n",
              "Diagnosis Age                     0\n",
              "Disease Free (Months)             0\n",
              "Disease Free Status               0\n",
              "Mutation Count                    0\n",
              "Neoplasm Histologic Grade         0\n",
              "Overall Survival Status           0\n",
              "Overall Survival (Months)         0\n",
              "Tumor Other Histologic Subtype    0\n",
              "dtype: int64"
            ]
          },
          "execution_count": 12,
          "metadata": {},
          "output_type": "execute_result"
        }
      ],
      "source": [
        "df.isna().sum()"
      ]
    },
    {
      "cell_type": "code",
      "execution_count": 14,
      "metadata": {
        "id": "11u19dVAopTz"
      },
      "outputs": [],
      "source": [
        "\n",
        "features=['Cirrhosis','Diagnosis Age','Disease Free (Months)','Disease Free Status','Mutation Count','Neoplasm Histologic Grade','Overall Survival (Months)','Tumor Other Histologic Subtype']\n",
        "\n",
        "label='Overall Survival Status'\n",
        "\n",
        "\n"
      ]
    },
    {
      "cell_type": "code",
      "execution_count": 15,
      "metadata": {
        "id": "psJDnedV1cN1"
      },
      "outputs": [],
      "source": [
        "from sklearn.svm import SVC #algoritmo maquina soporte vecotrial\n",
        "from sklearn.preprocessing import LabelEncoder  #manipulacion de texto se convierta a numeros\n",
        "from sklearn.model_selection import train_test_split   #genera de los datos de entrada, dos sets para,\n",
        "# uno el proceso de entrenaiento\n",
        "#y el otro para validar el proceso de entrenamiento\n",
        "\n",
        "from sklearn.metrics import recall_score, accuracy_score, f1_score, confusion_matrix,classification_report\n",
        "import seaborn as asns"
      ]
    },
    {
      "cell_type": "code",
      "execution_count": 16,
      "metadata": {
        "colab": {
          "base_uri": "https://localhost:8080/"
        },
        "id": "h_fEdfG61fTu",
        "outputId": "8937b979-f2b3-487a-acec-a2bf6725c17b"
      },
      "outputs": [
        {
          "data": {
            "text/plain": [
              "array([1, 1, 1, 0, 0, 1, 1, 1, 0, 1, 1, 1, 1, 0, 0, 0, 0, 1, 1, 1, 0, 1,\n",
              "       0, 1, 1, 1, 0, 0, 1, 1, 1, 1, 0, 1, 1, 1, 1, 1, 1, 1, 1, 0, 1, 0,\n",
              "       1, 1, 0, 1, 1, 1, 1, 1, 1, 1, 1, 1, 1, 1, 1, 1, 1, 0, 1, 1, 1, 1,\n",
              "       1, 1, 1, 1, 0, 1, 1, 1, 0, 1, 0, 1, 1, 1, 0, 1, 1, 1, 1, 1, 1, 1,\n",
              "       0, 1, 0, 1, 1, 1, 1, 1, 1, 1, 1, 0, 1, 1, 0, 1, 1, 1, 1, 1, 0, 1,\n",
              "       1, 1, 1, 1, 1, 1, 1, 1, 1, 1, 1, 1, 1, 0, 0, 1, 1, 1, 1, 1, 1, 0,\n",
              "       1, 1, 1, 1, 1, 0, 1, 1, 1, 1, 0, 1, 1, 1, 0, 1, 1, 1, 0, 1, 1, 1,\n",
              "       1, 1, 1, 1, 0, 1, 1, 0, 1, 1, 1, 1, 1, 1, 0, 1, 1, 1, 1, 1, 1, 1,\n",
              "       1, 1, 1, 1, 1, 1, 1, 1, 1, 1, 1, 1, 1, 1, 1, 1, 1, 1, 1, 1, 1, 1,\n",
              "       1, 1, 0, 1, 1, 1, 1, 1, 1, 1, 1, 1, 1, 1])"
            ]
          },
          "execution_count": 16,
          "metadata": {},
          "output_type": "execute_result"
        }
      ],
      "source": [
        "le=LabelEncoder()\n",
        "sobrevive=le\n",
        "y=sobrevive.fit_transform(df[label])\n",
        "df['Disease Free Status']=le.fit_transform(df['Disease Free Status'])\n",
        "df['Neoplasm Histologic Grade']=le.fit_transform(df['Neoplasm Histologic Grade'])\n",
        "df['Tumor Other Histologic Subtype']=le.fit_transform(df['Tumor Other Histologic Subtype'])\n",
        "\n",
        "y"
      ]
    },
    {
      "cell_type": "code",
      "execution_count": 17,
      "metadata": {
        "colab": {
          "base_uri": "https://localhost:8080/",
          "height": 424
        },
        "id": "IIZv3F3Xsh_8",
        "outputId": "af93b74a-66eb-4f96-cd03-fad7566569aa"
      },
      "outputs": [
        {
          "data": {
            "text/html": [
              "<div>\n",
              "<style scoped>\n",
              "    .dataframe tbody tr th:only-of-type {\n",
              "        vertical-align: middle;\n",
              "    }\n",
              "\n",
              "    .dataframe tbody tr th {\n",
              "        vertical-align: top;\n",
              "    }\n",
              "\n",
              "    .dataframe thead th {\n",
              "        text-align: right;\n",
              "    }\n",
              "</style>\n",
              "<table border=\"1\" class=\"dataframe\">\n",
              "  <thead>\n",
              "    <tr style=\"text-align: right;\">\n",
              "      <th></th>\n",
              "      <th>Cirrhosis</th>\n",
              "      <th>Diagnosis Age</th>\n",
              "      <th>Disease Free (Months)</th>\n",
              "      <th>Disease Free Status</th>\n",
              "      <th>Mutation Count</th>\n",
              "      <th>Neoplasm Histologic Grade</th>\n",
              "      <th>Overall Survival Status</th>\n",
              "      <th>Overall Survival (Months)</th>\n",
              "      <th>Tumor Other Histologic Subtype</th>\n",
              "    </tr>\n",
              "  </thead>\n",
              "  <tbody>\n",
              "    <tr>\n",
              "      <th>0</th>\n",
              "      <td>4</td>\n",
              "      <td>44</td>\n",
              "      <td>86.9</td>\n",
              "      <td>0</td>\n",
              "      <td>62</td>\n",
              "      <td>0</td>\n",
              "      <td>Living</td>\n",
              "      <td>88.9</td>\n",
              "      <td>2</td>\n",
              "    </tr>\n",
              "    <tr>\n",
              "      <th>1</th>\n",
              "      <td>3</td>\n",
              "      <td>59</td>\n",
              "      <td>38.1</td>\n",
              "      <td>1</td>\n",
              "      <td>115</td>\n",
              "      <td>1</td>\n",
              "      <td>Living</td>\n",
              "      <td>88.9</td>\n",
              "      <td>2</td>\n",
              "    </tr>\n",
              "    <tr>\n",
              "      <th>2</th>\n",
              "      <td>2</td>\n",
              "      <td>41</td>\n",
              "      <td>83.5</td>\n",
              "      <td>0</td>\n",
              "      <td>55</td>\n",
              "      <td>3</td>\n",
              "      <td>Living</td>\n",
              "      <td>88.1</td>\n",
              "      <td>0</td>\n",
              "    </tr>\n",
              "    <tr>\n",
              "      <th>3</th>\n",
              "      <td>2</td>\n",
              "      <td>44</td>\n",
              "      <td>10.3</td>\n",
              "      <td>1</td>\n",
              "      <td>75</td>\n",
              "      <td>2</td>\n",
              "      <td>Deceased</td>\n",
              "      <td>58.2</td>\n",
              "      <td>2</td>\n",
              "    </tr>\n",
              "    <tr>\n",
              "      <th>4</th>\n",
              "      <td>4</td>\n",
              "      <td>56</td>\n",
              "      <td>26.1</td>\n",
              "      <td>1</td>\n",
              "      <td>44</td>\n",
              "      <td>3</td>\n",
              "      <td>Deceased</td>\n",
              "      <td>43.1</td>\n",
              "      <td>1</td>\n",
              "    </tr>\n",
              "    <tr>\n",
              "      <th>...</th>\n",
              "      <td>...</td>\n",
              "      <td>...</td>\n",
              "      <td>...</td>\n",
              "      <td>...</td>\n",
              "      <td>...</td>\n",
              "      <td>...</td>\n",
              "      <td>...</td>\n",
              "      <td>...</td>\n",
              "      <td>...</td>\n",
              "    </tr>\n",
              "    <tr>\n",
              "      <th>226</th>\n",
              "      <td>2</td>\n",
              "      <td>61</td>\n",
              "      <td>19.9</td>\n",
              "      <td>0</td>\n",
              "      <td>205</td>\n",
              "      <td>1</td>\n",
              "      <td>Living</td>\n",
              "      <td>20.5</td>\n",
              "      <td>0</td>\n",
              "    </tr>\n",
              "    <tr>\n",
              "      <th>227</th>\n",
              "      <td>3</td>\n",
              "      <td>61</td>\n",
              "      <td>16.7</td>\n",
              "      <td>0</td>\n",
              "      <td>1014</td>\n",
              "      <td>2</td>\n",
              "      <td>Living</td>\n",
              "      <td>20.3</td>\n",
              "      <td>1</td>\n",
              "    </tr>\n",
              "    <tr>\n",
              "      <th>228</th>\n",
              "      <td>4</td>\n",
              "      <td>62</td>\n",
              "      <td>5.6</td>\n",
              "      <td>1</td>\n",
              "      <td>97</td>\n",
              "      <td>2</td>\n",
              "      <td>Living</td>\n",
              "      <td>20.2</td>\n",
              "      <td>0</td>\n",
              "    </tr>\n",
              "    <tr>\n",
              "      <th>229</th>\n",
              "      <td>4</td>\n",
              "      <td>51</td>\n",
              "      <td>18.4</td>\n",
              "      <td>0</td>\n",
              "      <td>52</td>\n",
              "      <td>2</td>\n",
              "      <td>Living</td>\n",
              "      <td>20.0</td>\n",
              "      <td>0</td>\n",
              "    </tr>\n",
              "    <tr>\n",
              "      <th>230</th>\n",
              "      <td>4</td>\n",
              "      <td>52</td>\n",
              "      <td>12.2</td>\n",
              "      <td>1</td>\n",
              "      <td>97</td>\n",
              "      <td>1</td>\n",
              "      <td>Living</td>\n",
              "      <td>19.5</td>\n",
              "      <td>0</td>\n",
              "    </tr>\n",
              "  </tbody>\n",
              "</table>\n",
              "<p>212 rows × 9 columns</p>\n",
              "</div>"
            ],
            "text/plain": [
              "     Cirrhosis  Diagnosis Age  Disease Free (Months)  Disease Free Status  \\\n",
              "0            4             44                   86.9                    0   \n",
              "1            3             59                   38.1                    1   \n",
              "2            2             41                   83.5                    0   \n",
              "3            2             44                   10.3                    1   \n",
              "4            4             56                   26.1                    1   \n",
              "..         ...            ...                    ...                  ...   \n",
              "226          2             61                   19.9                    0   \n",
              "227          3             61                   16.7                    0   \n",
              "228          4             62                    5.6                    1   \n",
              "229          4             51                   18.4                    0   \n",
              "230          4             52                   12.2                    1   \n",
              "\n",
              "     Mutation Count  Neoplasm Histologic Grade Overall Survival Status  \\\n",
              "0                62                          0                  Living   \n",
              "1               115                          1                  Living   \n",
              "2                55                          3                  Living   \n",
              "3                75                          2                Deceased   \n",
              "4                44                          3                Deceased   \n",
              "..              ...                        ...                     ...   \n",
              "226             205                          1                  Living   \n",
              "227            1014                          2                  Living   \n",
              "228              97                          2                  Living   \n",
              "229              52                          2                  Living   \n",
              "230              97                          1                  Living   \n",
              "\n",
              "     Overall Survival (Months)  Tumor Other Histologic Subtype  \n",
              "0                         88.9                               2  \n",
              "1                         88.9                               2  \n",
              "2                         88.1                               0  \n",
              "3                         58.2                               2  \n",
              "4                         43.1                               1  \n",
              "..                         ...                             ...  \n",
              "226                       20.5                               0  \n",
              "227                       20.3                               1  \n",
              "228                       20.2                               0  \n",
              "229                       20.0                               0  \n",
              "230                       19.5                               0  \n",
              "\n",
              "[212 rows x 9 columns]"
            ]
          },
          "execution_count": 17,
          "metadata": {},
          "output_type": "execute_result"
        }
      ],
      "source": [
        "df"
      ]
    },
    {
      "cell_type": "code",
      "execution_count": 18,
      "metadata": {
        "id": "7N-enH4fzoyb"
      },
      "outputs": [],
      "source": [
        "xtrain, xtest,ytrain, ytest = train_test_split(df[features],y,test_size=0.20, random_state=0)"
      ]
    },
    {
      "cell_type": "code",
      "execution_count": 19,
      "metadata": {
        "colab": {
          "base_uri": "https://localhost:8080/"
        },
        "id": "8H-LMQzczsZ9",
        "outputId": "9b8fdd02-b1a3-44de-ce90-bbf0578594b1"
      },
      "outputs": [
        {
          "name": "stdout",
          "output_type": "stream",
          "text": [
            "xtrain.shape\n",
            "(169, 8)\n",
            "len(ytrain)\n",
            "169\n",
            "xtest.shape \n",
            "(43, 8)\n",
            "len(ytest)\n",
            "43\n"
          ]
        }
      ],
      "source": [
        "print('xtrain.shape' )\n",
        "print(xtrain.shape)\n",
        "\n",
        "print('len(ytrain)')\n",
        "print(len(ytrain))\n",
        "\n",
        "print('xtest.shape ')\n",
        "print(xtest.shape)\n",
        "\n",
        "print('len(ytest)')\n",
        "print(len(ytest))\n"
      ]
    },
    {
      "cell_type": "code",
      "execution_count": 20,
      "metadata": {
        "colab": {
          "base_uri": "https://localhost:8080/"
        },
        "id": "FapFynZA0zQN",
        "outputId": "72525bf8-b10b-4413-d04f-d224eea9aab1"
      },
      "outputs": [
        {
          "data": {
            "text/plain": [
              "Overall Survival Status\n",
              "Living      176\n",
              "Deceased     36\n",
              "Name: count, dtype: int64"
            ]
          },
          "execution_count": 20,
          "metadata": {},
          "output_type": "execute_result"
        }
      ],
      "source": [
        "df['Overall Survival Status'].value_counts()"
      ]
    },
    {
      "cell_type": "code",
      "execution_count": 21,
      "metadata": {
        "id": "4aG_ObtR1FrB"
      },
      "outputs": [],
      "source": [
        "svm = SVC (probability=True)\n",
        "modelo = svm.fit(xtrain,ytrain)\n",
        "prediccion = modelo.predict(xtest)"
      ]
    },
    {
      "cell_type": "code",
      "execution_count": 22,
      "metadata": {
        "colab": {
          "base_uri": "https://localhost:8080/"
        },
        "id": "7QWr_y2t1g-h",
        "outputId": "32de0e51-af60-4c0b-e6b8-9b1f0b79ecd8"
      },
      "outputs": [
        {
          "name": "stdout",
          "output_type": "stream",
          "text": [
            "1 -> 1\n",
            "1 -> 1\n",
            "1 -> 1\n",
            "1 -> 1\n",
            "1 -> 1\n",
            "1 -> 1\n",
            "1 -> 1\n",
            "1 -> 0\n",
            "1 -> 1\n",
            "1 -> 1\n",
            "1 -> 1\n",
            "1 -> 1\n",
            "1 -> 0\n",
            "1 -> 1\n",
            "1 -> 0\n",
            "1 -> 0\n",
            "1 -> 1\n",
            "1 -> 1\n",
            "1 -> 0\n",
            "1 -> 1\n",
            "1 -> 1\n",
            "1 -> 1\n",
            "1 -> 1\n",
            "1 -> 1\n",
            "1 -> 1\n",
            "1 -> 1\n",
            "1 -> 1\n",
            "1 -> 0\n",
            "1 -> 1\n",
            "1 -> 1\n",
            "1 -> 1\n",
            "1 -> 1\n",
            "1 -> 1\n",
            "1 -> 1\n",
            "1 -> 1\n",
            "1 -> 1\n",
            "1 -> 1\n",
            "1 -> 1\n",
            "1 -> 0\n",
            "1 -> 1\n",
            "1 -> 1\n",
            "1 -> 1\n",
            "1 -> 1\n"
          ]
        }
      ],
      "source": [
        "# prediccion ~ ytest\n",
        "prediccion_lista=prediccion.tolist()\n",
        "ytest_lista = ytest.tolist()\n",
        "\n",
        "i = 0\n",
        "\n",
        "for pred in prediccion_lista:\n",
        "  print(f\"{pred} -> {ytest[i]}\")\n",
        "  i+=1"
      ]
    },
    {
      "cell_type": "code",
      "execution_count": 23,
      "metadata": {
        "colab": {
          "base_uri": "https://localhost:8080/"
        },
        "id": "ctU93RoA1ki1",
        "outputId": "7424be63-2b2e-4eea-9927-9422ea4f08de"
      },
      "outputs": [
        {
          "name": "stdout",
          "output_type": "stream",
          "text": [
            "score:  0.8372093023255814\n",
            "recall_score:  0.8372093023255814\n",
            "f1_score:  0.8372093023255814\n",
            "classification_report=               precision    recall  f1-score   support\n",
            "\n",
            "           0       0.00      0.00      0.00         0\n",
            "           1       1.00      0.84      0.91        43\n",
            "\n",
            "    accuracy                           0.84        43\n",
            "   macro avg       0.50      0.42      0.46        43\n",
            "weighted avg       1.00      0.84      0.91        43\n",
            "\n"
          ]
        },
        {
          "name": "stderr",
          "output_type": "stream",
          "text": [
            "/home/xexeyt/.local/lib/python3.10/site-packages/sklearn/metrics/_classification.py:1344: UndefinedMetricWarning: Recall and F-score are ill-defined and being set to 0.0 in labels with no true samples. Use `zero_division` parameter to control this behavior.\n",
            "  _warn_prf(average, modifier, msg_start, len(result))\n",
            "/home/xexeyt/.local/lib/python3.10/site-packages/sklearn/metrics/_classification.py:1344: UndefinedMetricWarning: Recall and F-score are ill-defined and being set to 0.0 in labels with no true samples. Use `zero_division` parameter to control this behavior.\n",
            "  _warn_prf(average, modifier, msg_start, len(result))\n",
            "/home/xexeyt/.local/lib/python3.10/site-packages/sklearn/metrics/_classification.py:1344: UndefinedMetricWarning: Recall and F-score are ill-defined and being set to 0.0 in labels with no true samples. Use `zero_division` parameter to control this behavior.\n",
            "  _warn_prf(average, modifier, msg_start, len(result))\n"
          ]
        }
      ],
      "source": [
        "print('score: ',modelo.score(xtest, ytest))\n",
        "\n",
        "print('recall_score: ', recall_score(prediccion,ytest, average='micro'))\n",
        "\n",
        "print('f1_score: ', f1_score(prediccion,ytest,  average='micro'))\n",
        "\n",
        "print('classification_report=', classification_report(prediccion, ytest))"
      ]
    },
    {
      "cell_type": "code",
      "execution_count": 24,
      "metadata": {
        "colab": {
          "base_uri": "https://localhost:8080/",
          "height": 178
        },
        "id": "Wo33Trgj1oL2",
        "outputId": "b7b1240a-d8dc-4707-d41f-2d4d72884780"
      },
      "outputs": [
        {
          "name": "stdout",
          "output_type": "stream",
          "text": [
            "   Cirrhosis  Diagnosis Age  Disease Free (Months)  Disease Free Status  \\\n",
            "0          2             61                   10.3                    0   \n",
            "\n",
            "   Mutation Count  Neoplasm Histologic Grade  Overall Survival (Months)  \\\n",
            "0              44                          1                       43.1   \n",
            "\n",
            "   Tumor Other Histologic Subtype  \n",
            "0                               2  \n"
          ]
        },
        {
          "data": {
            "text/plain": [
              "'HCV'"
            ]
          },
          "execution_count": 24,
          "metadata": {},
          "output_type": "execute_result"
        }
      ],
      "source": [
        "data = {'Cirrhosis': 2, 'Diagnosis Age': 61, 'Disease Free (Months)': 10.3, 'Disease Free Status': 0, 'Mutation Count': 44, 'Neoplasm Histologic Grade':1,'Overall Survival (Months)':43.1,'Tumor Other Histologic Subtype':2}\n",
        "\n",
        "pp =pd.DataFrame(data, index=[0])\n",
        "pre_pp= modelo.predict(pp)\n",
        "print(pp)\n",
        "sobrevive.inverse_transform(pre_pp.tolist())[0]"
      ]
    },
    {
      "cell_type": "code",
      "execution_count": 25,
      "metadata": {
        "id": "SF1qshl42Iyi"
      },
      "outputs": [],
      "source": [
        "from sklearn.tree import DecisionTreeClassifier, export_graphviz\n",
        "import graphviz\n",
        "from IPython.display import Image\n",
        "import pydotplus"
      ]
    },
    {
      "cell_type": "code",
      "execution_count": 26,
      "metadata": {
        "id": "kMg9Gvdb2N57"
      },
      "outputs": [],
      "source": [
        "#DecisionTreeClassifier\n",
        "svm = DecisionTreeClassifier (max_depth=5)\n",
        "modelo = svm.fit(xtrain,ytrain)\n",
        "prediccion = modelo.predict(xtest)"
      ]
    },
    {
      "cell_type": "code",
      "execution_count": 27,
      "metadata": {
        "colab": {
          "base_uri": "https://localhost:8080/",
          "height": 912
        },
        "id": "GtnOPZ4p2PXp",
        "outputId": "fcf5f39f-fbb2-468c-c109-0ae692ed545f"
      },
      "outputs": [
        {
          "ename": "InvocationException",
          "evalue": "GraphViz's executables not found",
          "output_type": "error",
          "traceback": [
            "\u001b[0;31m---------------------------------------------------------------------------\u001b[0m",
            "\u001b[0;31mInvocationException\u001b[0m                       Traceback (most recent call last)",
            "\u001b[1;32m/home/xexeyt/Desktop/trabajos-ciencia-de-datos/clasificacion_liver.ipynb Cell 22\u001b[0m line \u001b[0;36m1\n\u001b[1;32m      <a href='vscode-notebook-cell:/home/xexeyt/Desktop/trabajos-ciencia-de-datos/clasificacion_liver.ipynb#X31sZmlsZQ%3D%3D?line=0'>1</a>\u001b[0m dot_data \u001b[39m=\u001b[39m export_graphviz(modelo, out_file\u001b[39m=\u001b[39m\u001b[39mNone\u001b[39;00m,\n\u001b[1;32m      <a href='vscode-notebook-cell:/home/xexeyt/Desktop/trabajos-ciencia-de-datos/clasificacion_liver.ipynb#X31sZmlsZQ%3D%3D?line=1'>2</a>\u001b[0m                            feature_names\u001b[39m=\u001b[39mfeatures,\n\u001b[1;32m      <a href='vscode-notebook-cell:/home/xexeyt/Desktop/trabajos-ciencia-de-datos/clasificacion_liver.ipynb#X31sZmlsZQ%3D%3D?line=2'>3</a>\u001b[0m                            class_names\u001b[39m=\u001b[39m label,\n\u001b[1;32m      <a href='vscode-notebook-cell:/home/xexeyt/Desktop/trabajos-ciencia-de-datos/clasificacion_liver.ipynb#X31sZmlsZQ%3D%3D?line=3'>4</a>\u001b[0m                            filled\u001b[39m=\u001b[39m\u001b[39mTrue\u001b[39;00m,rounded\u001b[39m=\u001b[39m\u001b[39mTrue\u001b[39;00m,\n\u001b[1;32m      <a href='vscode-notebook-cell:/home/xexeyt/Desktop/trabajos-ciencia-de-datos/clasificacion_liver.ipynb#X31sZmlsZQ%3D%3D?line=4'>5</a>\u001b[0m                            special_characters\u001b[39m=\u001b[39m\u001b[39mTrue\u001b[39;00m)\n\u001b[1;32m      <a href='vscode-notebook-cell:/home/xexeyt/Desktop/trabajos-ciencia-de-datos/clasificacion_liver.ipynb#X31sZmlsZQ%3D%3D?line=7'>8</a>\u001b[0m graph \u001b[39m=\u001b[39m pydotplus\u001b[39m.\u001b[39mgraph_from_dot_data(dot_data)\n\u001b[0;32m---> <a href='vscode-notebook-cell:/home/xexeyt/Desktop/trabajos-ciencia-de-datos/clasificacion_liver.ipynb#X31sZmlsZQ%3D%3D?line=9'>10</a>\u001b[0m Image(graph\u001b[39m.\u001b[39;49mcreate_png())\n",
            "File \u001b[0;32m~/.local/lib/python3.10/site-packages/pydotplus/graphviz.py:1797\u001b[0m, in \u001b[0;36mDot.__init__.<locals>.<lambda>\u001b[0;34m(f, prog)\u001b[0m\n\u001b[1;32m   1792\u001b[0m \u001b[39m# Automatically creates all the methods enabling the creation\u001b[39;00m\n\u001b[1;32m   1793\u001b[0m \u001b[39m# of output in any of the supported formats.\u001b[39;00m\n\u001b[1;32m   1794\u001b[0m \u001b[39mfor\u001b[39;00m frmt \u001b[39min\u001b[39;00m \u001b[39mself\u001b[39m\u001b[39m.\u001b[39mformats:\n\u001b[1;32m   1795\u001b[0m     \u001b[39mself\u001b[39m\u001b[39m.\u001b[39m\u001b[39m__setattr__\u001b[39m(\n\u001b[1;32m   1796\u001b[0m         \u001b[39m'\u001b[39m\u001b[39mcreate_\u001b[39m\u001b[39m'\u001b[39m \u001b[39m+\u001b[39m frmt,\n\u001b[0;32m-> 1797\u001b[0m         \u001b[39mlambda\u001b[39;00m f\u001b[39m=\u001b[39mfrmt, prog\u001b[39m=\u001b[39m\u001b[39mself\u001b[39m\u001b[39m.\u001b[39mprog: \u001b[39mself\u001b[39;49m\u001b[39m.\u001b[39;49mcreate(\u001b[39mformat\u001b[39;49m\u001b[39m=\u001b[39;49mf, prog\u001b[39m=\u001b[39;49mprog)\n\u001b[1;32m   1798\u001b[0m     )\n\u001b[1;32m   1799\u001b[0m     f \u001b[39m=\u001b[39m \u001b[39mself\u001b[39m\u001b[39m.\u001b[39m\u001b[39m__dict__\u001b[39m[\u001b[39m'\u001b[39m\u001b[39mcreate_\u001b[39m\u001b[39m'\u001b[39m \u001b[39m+\u001b[39m frmt]\n\u001b[1;32m   1800\u001b[0m     f\u001b[39m.\u001b[39m\u001b[39m__doc__\u001b[39m \u001b[39m=\u001b[39m (\n\u001b[1;32m   1801\u001b[0m \u001b[39m        \u001b[39m\u001b[39m'''Refer to the docstring accompanying the'''\u001b[39;00m\n\u001b[1;32m   1802\u001b[0m \u001b[39m        \u001b[39m\u001b[39m''''create' method for more information.'''\u001b[39;00m\n\u001b[1;32m   1803\u001b[0m     )\n",
            "File \u001b[0;32m~/.local/lib/python3.10/site-packages/pydotplus/graphviz.py:1959\u001b[0m, in \u001b[0;36mDot.create\u001b[0;34m(self, prog, format)\u001b[0m\n\u001b[1;32m   1957\u001b[0m     \u001b[39mself\u001b[39m\u001b[39m.\u001b[39mprogs \u001b[39m=\u001b[39m find_graphviz()\n\u001b[1;32m   1958\u001b[0m     \u001b[39mif\u001b[39;00m \u001b[39mself\u001b[39m\u001b[39m.\u001b[39mprogs \u001b[39mis\u001b[39;00m \u001b[39mNone\u001b[39;00m:\n\u001b[0;32m-> 1959\u001b[0m         \u001b[39mraise\u001b[39;00m InvocationException(\n\u001b[1;32m   1960\u001b[0m             \u001b[39m'\u001b[39m\u001b[39mGraphViz\u001b[39m\u001b[39m\\'\u001b[39;00m\u001b[39ms executables not found\u001b[39m\u001b[39m'\u001b[39m)\n\u001b[1;32m   1962\u001b[0m \u001b[39mif\u001b[39;00m prog \u001b[39mnot\u001b[39;00m \u001b[39min\u001b[39;00m \u001b[39mself\u001b[39m\u001b[39m.\u001b[39mprogs:\n\u001b[1;32m   1963\u001b[0m     \u001b[39mraise\u001b[39;00m InvocationException(\n\u001b[1;32m   1964\u001b[0m         \u001b[39m'\u001b[39m\u001b[39mGraphViz\u001b[39m\u001b[39m\\'\u001b[39;00m\u001b[39ms executable \u001b[39m\u001b[39m\"\u001b[39m\u001b[39m%s\u001b[39;00m\u001b[39m\"\u001b[39m\u001b[39m not found\u001b[39m\u001b[39m'\u001b[39m \u001b[39m%\u001b[39m prog)\n",
            "\u001b[0;31mInvocationException\u001b[0m: GraphViz's executables not found"
          ]
        }
      ],
      "source": [
        "dot_data = export_graphviz(modelo, out_file=None,\n",
        "                           feature_names=features,\n",
        "                           class_names= label,\n",
        "                           filled=True,rounded=True,\n",
        "                           special_characters=True)\n",
        "\n",
        "\n",
        "graph = pydotplus.graph_from_dot_data(dot_data)\n",
        "\n",
        "Image(graph.create_png())\n",
        "\n",
        "#la imagen no se me genera por el tema de versiones"
      ]
    },
    {
      "cell_type": "code",
      "execution_count": null,
      "metadata": {
        "colab": {
          "base_uri": "https://localhost:8080/"
        },
        "id": "IQeKBrgL2cUT",
        "outputId": "74e4e101-4ca9-4eed-d259-68faf835f44a"
      },
      "outputs": [
        {
          "name": "stdout",
          "output_type": "stream",
          "text": [
            "score:  0.8297872340425532\n",
            "recall_score:  0.8297872340425532\n",
            "f1_score:  0.8297872340425532\n",
            "classification_report=               precision    recall  f1-score   support\n",
            "\n",
            "           0       0.44      0.57      0.50         7\n",
            "           1       0.92      0.88      0.90        40\n",
            "\n",
            "    accuracy                           0.83        47\n",
            "   macro avg       0.68      0.72      0.70        47\n",
            "weighted avg       0.85      0.83      0.84        47\n",
            "\n"
          ]
        }
      ],
      "source": [
        "print('score: ',modelo.score(xtest, ytest))\n",
        "\n",
        "print('recall_score: ', recall_score(prediccion,ytest, average='micro'))\n",
        "\n",
        "print('f1_score: ', f1_score(prediccion,ytest,  average='micro'))\n",
        "\n",
        "print('classification_report=', classification_report(prediccion, ytest))"
      ]
    },
    {
      "cell_type": "code",
      "execution_count": null,
      "metadata": {
        "id": "MxIfG-zv2eLm"
      },
      "outputs": [],
      "source": [
        "from sklearn.ensemble import GradientBoostingClassifier"
      ]
    },
    {
      "cell_type": "code",
      "execution_count": null,
      "metadata": {
        "id": "jliJdLHh2fmj"
      },
      "outputs": [],
      "source": [
        "#GradientBoostingClassifier\n",
        "svm = GradientBoostingClassifier ()\n",
        "modelo = svm.fit(xtrain,ytrain)\n",
        "prediccion = modelo.predict(xtest)"
      ]
    },
    {
      "cell_type": "code",
      "execution_count": null,
      "metadata": {
        "colab": {
          "base_uri": "https://localhost:8080/"
        },
        "id": "RuSx_eD82hNE",
        "outputId": "71c42346-728a-40d6-eea0-84c5f0f261df"
      },
      "outputs": [
        {
          "name": "stdout",
          "output_type": "stream",
          "text": [
            "score:  0.9361702127659575\n",
            "recall_score:  0.9361702127659575\n",
            "f1_score:  0.9361702127659575\n",
            "classification_report=               precision    recall  f1-score   support\n",
            "\n",
            "           0       0.67      1.00      0.80         6\n",
            "           1       1.00      0.93      0.96        41\n",
            "\n",
            "    accuracy                           0.94        47\n",
            "   macro avg       0.83      0.96      0.88        47\n",
            "weighted avg       0.96      0.94      0.94        47\n",
            "\n"
          ]
        }
      ],
      "source": [
        "print('score: ',modelo.score(xtest, ytest))\n",
        "\n",
        "print('recall_score: ', recall_score(prediccion,ytest, average='micro'))\n",
        "\n",
        "print('f1_score: ', f1_score(prediccion,ytest,  average='micro'))\n",
        "\n",
        "print('classification_report=', classification_report(prediccion, ytest))"
      ]
    }
  ],
  "metadata": {
    "colab": {
      "provenance": []
    },
    "kernelspec": {
      "display_name": "Python 3",
      "name": "python3"
    },
    "language_info": {
      "codemirror_mode": {
        "name": "ipython",
        "version": 3
      },
      "file_extension": ".py",
      "mimetype": "text/x-python",
      "name": "python",
      "nbconvert_exporter": "python",
      "pygments_lexer": "ipython3",
      "version": "3.10.12"
    }
  },
  "nbformat": 4,
  "nbformat_minor": 0
}
