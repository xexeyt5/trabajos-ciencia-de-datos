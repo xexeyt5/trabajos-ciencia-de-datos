{
 "cells": [
  {
   "cell_type": "code",
   "execution_count": 423,
   "metadata": {},
   "outputs": [
    {
     "data": {
      "text/html": [
       "<div>\n",
       "<style scoped>\n",
       "    .dataframe tbody tr th:only-of-type {\n",
       "        vertical-align: middle;\n",
       "    }\n",
       "\n",
       "    .dataframe tbody tr th {\n",
       "        vertical-align: top;\n",
       "    }\n",
       "\n",
       "    .dataframe thead th {\n",
       "        text-align: right;\n",
       "    }\n",
       "</style>\n",
       "<table border=\"1\" class=\"dataframe\">\n",
       "  <thead>\n",
       "    <tr style=\"text-align: right;\">\n",
       "      <th></th>\n",
       "      <th>CRIM</th>\n",
       "      <th>ZN</th>\n",
       "      <th>INDUS</th>\n",
       "      <th>CHAS</th>\n",
       "      <th>NOX</th>\n",
       "      <th>RM</th>\n",
       "      <th>AGE</th>\n",
       "      <th>DIS</th>\n",
       "      <th>RAD</th>\n",
       "      <th>TAX</th>\n",
       "      <th>PTRATIO</th>\n",
       "      <th>B</th>\n",
       "      <th>LSTAT</th>\n",
       "      <th>MEDV</th>\n",
       "    </tr>\n",
       "  </thead>\n",
       "  <tbody>\n",
       "    <tr>\n",
       "      <th>0</th>\n",
       "      <td>0.00632</td>\n",
       "      <td>18.0</td>\n",
       "      <td>2.31</td>\n",
       "      <td>0.0</td>\n",
       "      <td>0.538</td>\n",
       "      <td>6.575</td>\n",
       "      <td>65.2</td>\n",
       "      <td>4.0900</td>\n",
       "      <td>1</td>\n",
       "      <td>296</td>\n",
       "      <td>15.3</td>\n",
       "      <td>396.90</td>\n",
       "      <td>4.98</td>\n",
       "      <td>24</td>\n",
       "    </tr>\n",
       "    <tr>\n",
       "      <th>1</th>\n",
       "      <td>0.02731</td>\n",
       "      <td>0.0</td>\n",
       "      <td>7.07</td>\n",
       "      <td>0.0</td>\n",
       "      <td>0.469</td>\n",
       "      <td>6.421</td>\n",
       "      <td>78.9</td>\n",
       "      <td>4.9671</td>\n",
       "      <td>2</td>\n",
       "      <td>242</td>\n",
       "      <td>17.8</td>\n",
       "      <td>396.90</td>\n",
       "      <td>9.14</td>\n",
       "      <td>22</td>\n",
       "    </tr>\n",
       "    <tr>\n",
       "      <th>2</th>\n",
       "      <td>0.02729</td>\n",
       "      <td>0.0</td>\n",
       "      <td>7.07</td>\n",
       "      <td>0.0</td>\n",
       "      <td>0.469</td>\n",
       "      <td>7.185</td>\n",
       "      <td>61.1</td>\n",
       "      <td>4.9671</td>\n",
       "      <td>2</td>\n",
       "      <td>242</td>\n",
       "      <td>17.8</td>\n",
       "      <td>392.83</td>\n",
       "      <td>4.03</td>\n",
       "      <td>35</td>\n",
       "    </tr>\n",
       "    <tr>\n",
       "      <th>3</th>\n",
       "      <td>0.03237</td>\n",
       "      <td>0.0</td>\n",
       "      <td>2.18</td>\n",
       "      <td>0.0</td>\n",
       "      <td>0.458</td>\n",
       "      <td>6.998</td>\n",
       "      <td>45.8</td>\n",
       "      <td>6.0622</td>\n",
       "      <td>3</td>\n",
       "      <td>222</td>\n",
       "      <td>18.7</td>\n",
       "      <td>394.63</td>\n",
       "      <td>2.94</td>\n",
       "      <td>33</td>\n",
       "    </tr>\n",
       "  </tbody>\n",
       "</table>\n",
       "</div>"
      ],
      "text/plain": [
       "      CRIM    ZN  INDUS  CHAS    NOX     RM   AGE     DIS RAD  TAX  PTRATIO  \\\n",
       "0  0.00632  18.0   2.31   0.0  0.538  6.575  65.2  4.0900   1  296     15.3   \n",
       "1  0.02731   0.0   7.07   0.0  0.469  6.421  78.9  4.9671   2  242     17.8   \n",
       "2  0.02729   0.0   7.07   0.0  0.469  7.185  61.1  4.9671   2  242     17.8   \n",
       "3  0.03237   0.0   2.18   0.0  0.458  6.998  45.8  6.0622   3  222     18.7   \n",
       "\n",
       "        B  LSTAT  MEDV  \n",
       "0  396.90   4.98    24  \n",
       "1  396.90   9.14    22  \n",
       "2  392.83   4.03    35  \n",
       "3  394.63   2.94    33  "
      ]
     },
     "execution_count": 423,
     "metadata": {},
     "output_type": "execute_result"
    }
   ],
   "source": [
    "#salgado martinez yuren joshua\n",
    "#19091431\n",
    "import pandas as pd\n",
    "df = pd.read_csv('boston_train.csv',sep=',',header=0)\n",
    "df.head(4)"
   ]
  },
  {
   "cell_type": "code",
   "execution_count": 424,
   "metadata": {},
   "outputs": [
    {
     "data": {
      "text/plain": [
       "CRIM       20\n",
       "ZN         20\n",
       "INDUS      20\n",
       "CHAS       20\n",
       "NOX         0\n",
       "RM          0\n",
       "AGE        20\n",
       "DIS         0\n",
       "RAD         0\n",
       "TAX         0\n",
       "PTRATIO     0\n",
       "B           0\n",
       "LSTAT      20\n",
       "MEDV        0\n",
       "dtype: int64"
      ]
     },
     "execution_count": 424,
     "metadata": {},
     "output_type": "execute_result"
    }
   ],
   "source": [
    "df.isnull().sum()"
   ]
  },
  {
   "cell_type": "code",
   "execution_count": 425,
   "metadata": {},
   "outputs": [
    {
     "data": {
      "text/html": [
       "<div>\n",
       "<style scoped>\n",
       "    .dataframe tbody tr th:only-of-type {\n",
       "        vertical-align: middle;\n",
       "    }\n",
       "\n",
       "    .dataframe tbody tr th {\n",
       "        vertical-align: top;\n",
       "    }\n",
       "\n",
       "    .dataframe thead th {\n",
       "        text-align: right;\n",
       "    }\n",
       "</style>\n",
       "<table border=\"1\" class=\"dataframe\">\n",
       "  <thead>\n",
       "    <tr style=\"text-align: right;\">\n",
       "      <th></th>\n",
       "      <th>CRIM</th>\n",
       "      <th>ZN</th>\n",
       "      <th>INDUS</th>\n",
       "      <th>CHAS</th>\n",
       "      <th>NOX</th>\n",
       "      <th>RM</th>\n",
       "      <th>AGE</th>\n",
       "      <th>DIS</th>\n",
       "      <th>RAD</th>\n",
       "      <th>TAX</th>\n",
       "      <th>PTRATIO</th>\n",
       "      <th>B</th>\n",
       "      <th>LSTAT</th>\n",
       "      <th>MEDV</th>\n",
       "    </tr>\n",
       "  </thead>\n",
       "  <tbody>\n",
       "    <tr>\n",
       "      <th>0</th>\n",
       "      <td>0.00632</td>\n",
       "      <td>18.0</td>\n",
       "      <td>2.31</td>\n",
       "      <td>0.0</td>\n",
       "      <td>0.538</td>\n",
       "      <td>6.575</td>\n",
       "      <td>65.2</td>\n",
       "      <td>4.0900</td>\n",
       "      <td>1</td>\n",
       "      <td>296</td>\n",
       "      <td>15.3</td>\n",
       "      <td>396.90</td>\n",
       "      <td>4.98</td>\n",
       "      <td>24</td>\n",
       "    </tr>\n",
       "    <tr>\n",
       "      <th>1</th>\n",
       "      <td>0.02731</td>\n",
       "      <td>0.0</td>\n",
       "      <td>7.07</td>\n",
       "      <td>0.0</td>\n",
       "      <td>0.469</td>\n",
       "      <td>6.421</td>\n",
       "      <td>78.9</td>\n",
       "      <td>4.9671</td>\n",
       "      <td>2</td>\n",
       "      <td>242</td>\n",
       "      <td>17.8</td>\n",
       "      <td>396.90</td>\n",
       "      <td>9.14</td>\n",
       "      <td>22</td>\n",
       "    </tr>\n",
       "    <tr>\n",
       "      <th>2</th>\n",
       "      <td>0.02729</td>\n",
       "      <td>0.0</td>\n",
       "      <td>7.07</td>\n",
       "      <td>0.0</td>\n",
       "      <td>0.469</td>\n",
       "      <td>7.185</td>\n",
       "      <td>61.1</td>\n",
       "      <td>4.9671</td>\n",
       "      <td>2</td>\n",
       "      <td>242</td>\n",
       "      <td>17.8</td>\n",
       "      <td>392.83</td>\n",
       "      <td>4.03</td>\n",
       "      <td>35</td>\n",
       "    </tr>\n",
       "    <tr>\n",
       "      <th>3</th>\n",
       "      <td>0.03237</td>\n",
       "      <td>0.0</td>\n",
       "      <td>2.18</td>\n",
       "      <td>0.0</td>\n",
       "      <td>0.458</td>\n",
       "      <td>6.998</td>\n",
       "      <td>45.8</td>\n",
       "      <td>6.0622</td>\n",
       "      <td>3</td>\n",
       "      <td>222</td>\n",
       "      <td>18.7</td>\n",
       "      <td>394.63</td>\n",
       "      <td>2.94</td>\n",
       "      <td>33</td>\n",
       "    </tr>\n",
       "  </tbody>\n",
       "</table>\n",
       "</div>"
      ],
      "text/plain": [
       "      CRIM    ZN  INDUS  CHAS    NOX     RM   AGE     DIS RAD  TAX  PTRATIO  \\\n",
       "0  0.00632  18.0   2.31   0.0  0.538  6.575  65.2  4.0900   1  296     15.3   \n",
       "1  0.02731   0.0   7.07   0.0  0.469  6.421  78.9  4.9671   2  242     17.8   \n",
       "2  0.02729   0.0   7.07   0.0  0.469  7.185  61.1  4.9671   2  242     17.8   \n",
       "3  0.03237   0.0   2.18   0.0  0.458  6.998  45.8  6.0622   3  222     18.7   \n",
       "\n",
       "        B  LSTAT  MEDV  \n",
       "0  396.90   4.98    24  \n",
       "1  396.90   9.14    22  \n",
       "2  392.83   4.03    35  \n",
       "3  394.63   2.94    33  "
      ]
     },
     "execution_count": 425,
     "metadata": {},
     "output_type": "execute_result"
    }
   ],
   "source": [
    "df = df.dropna()\n",
    "df.head(4)"
   ]
  },
  {
   "cell_type": "code",
   "execution_count": 426,
   "metadata": {},
   "outputs": [
    {
     "data": {
      "text/plain": [
       "CRIM       0\n",
       "ZN         0\n",
       "INDUS      0\n",
       "CHAS       0\n",
       "NOX        0\n",
       "RM         0\n",
       "AGE        0\n",
       "DIS        0\n",
       "RAD        0\n",
       "TAX        0\n",
       "PTRATIO    0\n",
       "B          0\n",
       "LSTAT      0\n",
       "MEDV       0\n",
       "dtype: int64"
      ]
     },
     "execution_count": 426,
     "metadata": {},
     "output_type": "execute_result"
    }
   ],
   "source": [
    "df.isnull().sum()"
   ]
  },
  {
   "cell_type": "code",
   "execution_count": 427,
   "metadata": {},
   "outputs": [
    {
     "data": {
      "text/plain": [
       "CRIM       False\n",
       "ZN         False\n",
       "INDUS      False\n",
       "CHAS       False\n",
       "NOX        False\n",
       "RM         False\n",
       "AGE        False\n",
       "DIS        False\n",
       "RAD         True\n",
       "TAX         True\n",
       "PTRATIO    False\n",
       "B          False\n",
       "LSTAT      False\n",
       "MEDV       False\n",
       "dtype: bool"
      ]
     },
     "execution_count": 427,
     "metadata": {},
     "output_type": "execute_result"
    }
   ],
   "source": [
    "(df == '?').any()"
   ]
  },
  {
   "cell_type": "code",
   "execution_count": 428,
   "metadata": {},
   "outputs": [],
   "source": [
    "import numpy as np\n",
    "df = df.replace('?', np.nan)\n",
    "\n",
    "for col in df.columns:\n",
    "    df[col] = df[col].fillna(df[col].median())"
   ]
  },
  {
   "cell_type": "code",
   "execution_count": 429,
   "metadata": {},
   "outputs": [
    {
     "data": {
      "text/plain": [
       "CRIM       False\n",
       "ZN         False\n",
       "INDUS      False\n",
       "CHAS       False\n",
       "NOX        False\n",
       "RM         False\n",
       "AGE        False\n",
       "DIS        False\n",
       "RAD        False\n",
       "TAX        False\n",
       "PTRATIO    False\n",
       "B          False\n",
       "LSTAT      False\n",
       "MEDV       False\n",
       "dtype: bool"
      ]
     },
     "execution_count": 429,
     "metadata": {},
     "output_type": "execute_result"
    }
   ],
   "source": [
    "(df == '?').any()"
   ]
  },
  {
   "cell_type": "code",
   "execution_count": 430,
   "metadata": {},
   "outputs": [
    {
     "data": {
      "text/plain": [
       "<Axes: >"
      ]
     },
     "execution_count": 430,
     "metadata": {},
     "output_type": "execute_result"
    },
    {
     "data": {
      "image/png": "[encoded data removed]",
      "text/plain": [
       "<Figure size 2500x1000 with 2 Axes>"
      ]
     },
     "metadata": {},
     "output_type": "display_data"
    }
   ],
   "source": [
    "import missingno as msno\n",
    "msno.matrix(df)"
   ]
  },
  {
   "cell_type": "code",
   "execution_count": 431,
   "metadata": {},
   "outputs": [],
   "source": [
    "features = ['CRIM', 'ZN', 'INDUS', 'NOX',\t'RM',\t'AGE',\t'DIS',\t'RAD',\t'TAX',\t'PTRATIO', 'B', 'LSTAT']\n",
    "label = 'MEDV'"
   ]
  },
  {
   "cell_type": "code",
   "execution_count": 432,
   "metadata": {},
   "outputs": [],
   "source": [
    "from sklearn.model_selection import train_test_split\n",
    "from sklearn.preprocessing import LabelEncoder"
   ]
  },
  {
   "cell_type": "code",
   "execution_count": 433,
   "metadata": {},
   "outputs": [
    {
     "data": {
      "text/plain": [
       "array([19, 17, 30, 28, 24, 22, 12, 10, 14, 17, 15, 15, 18, 13, 15, 13,  9,\n",
       "       15, 10, 10, 11,  9, 12, 10, 13, 16,  8, 10,  8,  8,  9, 16, 20, 26,\n",
       "       30, 22, 20, 16, 14, 15,  9, 14, 15, 20, 14, 30, 20, 27, 18, 15, 14,\n",
       "       11, 17, 20, 28, 19, 14, 17, 12, 16, 19, 17, 18, 16, 15, 16, 16, 23,\n",
       "       19, 20, 18, 19, 22, 18, 19, 24, 18, 17, 20, 16, 23, 16, 34, 38, 28,\n",
       "       23, 22, 14, 15, 15, 15, 15, 15, 14, 17, 18, 14, 14, 14, 14, 17, 15,\n",
       "       16, 14, 16, 11, 13,  9, 14, 15, 18, 11, 13, 12, 12, 13,  9,  9,  8,\n",
       "       11,  7,  9, 10, 15, 14, 12,  8, 19, 18, 22, 42, 42, 18, 20, 42, 19,\n",
       "       17, 12, 14, 18, 18, 24, 18, 25, 32, 35, 31, 33, 21, 25, 27, 25, 30,\n",
       "       32, 24, 42, 25, 30, 30, 28, 19, 36, 41, 42, 19, 15, 14, 17, 23, 19,\n",
       "       18, 24, 17, 22, 17, 23, 25, 39, 42, 27, 19, 27, 36, 24, 19, 27, 18,\n",
       "       17, 19, 13, 19, 16, 20, 21, 19, 20, 25, 37, 16, 38, 42, 31, 25, 29,\n",
       "       37, 26, 32, 18, 42, 38, 16, 16, 19, 30, 27, 27, 28, 24, 30, 39, 40,\n",
       "       42, 27, 17, 18, 20, 24, 32, 19, 24, 22, 18, 24, 20, 31, 28, 23, 18,\n",
       "       15, 11, 17, 14, 17, 19, 11, 15, 18, 16, 19, 18, 15, 14, 20, 20, 18,\n",
       "       17, 14, 18, 12, 17, 16, 16, 15, 14, 16, 14, 14, 28, 12, 19, 13, 12,\n",
       "       18, 20, 19, 14, 25, 13, 13, 17, 18, 20, 15, 16, 12, 17, 23, 17, 42,\n",
       "       42, 42,  9,  9,  8,  8,  5,  5,  6,  6,  4,  2,  6,  2,  7, 10, 18,\n",
       "        5,  8,  8,  4,  0,  1,  1,  7,  3,  4,  0, 12, 10, 12, 13, 11,  2,\n",
       "        2,  3,  5,  4,  3, 12,  9, 16,  7,  3,  6,  9, 11,  9,  7,  8,  5,\n",
       "        4,  3,  8, 10,  6,  7, 10,  8,  9,  8, 11, 10,  9,  8,  9, 15, 13,\n",
       "       15, 15, 16, 14, 14, 15, 15, 15, 18,  9,  8, 12,  7, 10, 18, 19, 17,\n",
       "       16, 16, 14, 16, 10,  2,  3,  9, 15, 17, 20, 18, 15, 13, 16, 13, 12,\n",
       "       16, 19, 17])"
      ]
     },
     "execution_count": 433,
     "metadata": {},
     "output_type": "execute_result"
    }
   ],
   "source": [
    "le = LabelEncoder()\n",
    "y = le.fit_transform(df[label])\n",
    "y"
   ]
  },
  {
   "cell_type": "code",
   "execution_count": 434,
   "metadata": {},
   "outputs": [],
   "source": [
    "xtrain, xtest, ytrain, ytest = train_test_split(df[features], y, test_size=0.2, random_state=0)"
   ]
  },
  {
   "cell_type": "code",
   "execution_count": 435,
   "metadata": {},
   "outputs": [
    {
     "name": "stdout",
     "output_type": "stream",
     "text": [
      "(315, 12)\n",
      "(79, 12)\n",
      "315\n",
      "79\n"
     ]
    }
   ],
   "source": [
    "print(xtrain.shape)\n",
    "print(xtest.shape)\n",
    "print(len(ytrain))\n",
    "print(len(ytest))"
   ]
  },
  {
   "cell_type": "code",
   "execution_count": 436,
   "metadata": {},
   "outputs": [],
   "source": [
    "from sklearn.linear_model import LinearRegression\n"
   ]
  },
  {
   "cell_type": "code",
   "execution_count": 437,
   "metadata": {},
   "outputs": [],
   "source": [
    "svm = LinearRegression()\n",
    "modelo = svm.fit(xtrain, ytrain)\n",
    "prediccion = modelo.predict(xtest)"
   ]
  },
  {
   "cell_type": "code",
   "execution_count": 438,
   "metadata": {},
   "outputs": [
    {
     "name": "stdout",
     "output_type": "stream",
     "text": [
      "11 --> 12\n",
      "15 --> 12\n",
      "22 --> 12\n",
      "36 --> 12\n",
      "12 --> 12\n",
      "14 --> 12\n",
      "24 --> 12\n",
      "14 --> 12\n",
      "23 --> 12\n",
      "8 --> 12\n",
      "19 --> 12\n",
      "10 --> 12\n",
      "18 --> 12\n",
      "21 --> 12\n",
      "7 --> 12\n",
      "27 --> 12\n",
      "23 --> 12\n",
      "25 --> 12\n",
      "21 --> 12\n",
      "17 --> 12\n",
      "14 --> 12\n",
      "26 --> 12\n",
      "16 --> 12\n",
      "14 --> 12\n",
      "14 --> 12\n",
      "18 --> 12\n",
      "12 --> 12\n",
      "4 --> 12\n",
      "19 --> 12\n",
      "19 --> 12\n",
      "4 --> 12\n",
      "18 --> 12\n",
      "14 --> 12\n",
      "22 --> 12\n",
      "11 --> 12\n",
      "9 --> 12\n",
      "18 --> 12\n",
      "13 --> 12\n",
      "18 --> 12\n",
      "9 --> 12\n",
      "20 --> 12\n",
      "8 --> 12\n",
      "24 --> 12\n",
      "17 --> 12\n",
      "28 --> 12\n",
      "10 --> 12\n",
      "15 --> 12\n",
      "13 --> 12\n",
      "8 --> 12\n",
      "10 --> 12\n",
      "15 --> 12\n",
      "14 --> 12\n",
      "8 --> 12\n",
      "27 --> 12\n",
      "2 --> 12\n",
      "12 --> 12\n",
      "14 --> 12\n",
      "14 --> 12\n",
      "16 --> 12\n",
      "21 --> 12\n",
      "13 --> 12\n",
      "13 --> 12\n",
      "17 --> 12\n",
      "15 --> 12\n",
      "16 --> 12\n",
      "33 --> 12\n",
      "15 --> 12\n",
      "25 --> 12\n",
      "11 --> 12\n",
      "25 --> 12\n",
      "17 --> 12\n",
      "7 --> 12\n",
      "21 --> 12\n",
      "11 --> 12\n",
      "13 --> 12\n",
      "11 --> 12\n",
      "18 --> 12\n",
      "25 --> 12\n",
      "4 --> 12\n"
     ]
    }
   ],
   "source": [
    "prediccion_lista = prediccion.tolist()\n",
    "ytest_lista = ytest.tolist()\n",
    "\n",
    "i=0\n",
    "for pred in prediccion_lista:\n",
    "    print(round(pred), '-->', ytest[i])\n",
    "\n",
    "i += 1"
   ]
  },
  {
   "cell_type": "code",
   "execution_count": 439,
   "metadata": {},
   "outputs": [],
   "source": [
    "from sklearn.metrics import mean_squared_error\n",
    "from sklearn.metrics import mean_absolute_error"
   ]
  },
  {
   "cell_type": "code",
   "execution_count": 440,
   "metadata": {},
   "outputs": [
    {
     "name": "stdout",
     "output_type": "stream",
     "text": [
      "score:  0.5968860623513941\n",
      "mean_squared_error 25.73211711844291\n"
     ]
    }
   ],
   "source": [
    "print('score: ', modelo.score(xtest, ytest))\n",
    "print('mean_squared_error', mean_squared_error(prediccion, ytest))"
   ]
  },
  {
   "cell_type": "code",
   "execution_count": 441,
   "metadata": {},
   "outputs": [],
   "source": [
    "from sklearn.linear_model import Ridge"
   ]
  },
  {
   "cell_type": "code",
   "execution_count": 442,
   "metadata": {},
   "outputs": [],
   "source": [
    "svm = Ridge()\n",
    "modelo = svm.fit(xtrain, ytrain)\n",
    "prediccion = modelo.predict(xtest)"
   ]
  },
  {
   "cell_type": "code",
   "execution_count": 443,
   "metadata": {},
   "outputs": [
    {
     "name": "stdout",
     "output_type": "stream",
     "text": [
      "score:  0.60243958405782\n",
      "mean_squared_error 25.377617167875243\n"
     ]
    }
   ],
   "source": [
    "print('score: ', modelo.score(xtest, ytest))\n",
    "print('mean_squared_error', mean_squared_error(prediccion, ytest))"
   ]
  },
  {
   "cell_type": "code",
   "execution_count": 444,
   "metadata": {},
   "outputs": [
    {
     "name": "stderr",
     "output_type": "stream",
     "text": [
      "/home/xexeyt/.local/lib/python3.10/site-packages/sklearn/linear_model/_logistic.py:458: ConvergenceWarning: lbfgs failed to converge (status=1):\n",
      "STOP: TOTAL NO. of ITERATIONS REACHED LIMIT.\n",
      "\n",
      "Increase the number of iterations (max_iter) or scale the data as shown in:\n",
      "    https://scikit-learn.org/stable/modules/preprocessing.html\n",
      "Please also refer to the documentation for alternative solver options:\n",
      "    https://scikit-learn.org/stable/modules/linear_model.html#logistic-regression\n",
      "  n_iter_i = _check_optimize_result(\n"
     ]
    }
   ],
   "source": [
    "from sklearn.linear_model import LogisticRegression\n",
    "svm = LogisticRegression(max_iter=1000)\n",
    "modelo = svm.fit(xtrain, ytrain)\n",
    "prediccion = modelo.predict(xtest)"
   ]
  },
  {
   "cell_type": "code",
   "execution_count": 445,
   "metadata": {},
   "outputs": [
    {
     "name": "stdout",
     "output_type": "stream",
     "text": [
      "score:  0.10126582278481013\n",
      "mean_squared_error 27.189873417721518\n"
     ]
    }
   ],
   "source": [
    "print('score: ', modelo.score(xtest, ytest))\n",
    "\n",
    "print('mean_squared_error', mean_squared_error(prediccion, ytest))"
   ]
  },
  {
   "cell_type": "code",
   "execution_count": 446,
   "metadata": {},
   "outputs": [],
   "source": [
    "from sklearn.linear_model import Lasso\n",
    "svm = Lasso()\n",
    "modelo = svm.fit(xtrain, ytrain)\n",
    "prediccion = modelo.predict(xtest)"
   ]
  },
  {
   "cell_type": "code",
   "execution_count": 447,
   "metadata": {},
   "outputs": [
    {
     "name": "stdout",
     "output_type": "stream",
     "text": [
      "score:  0.6397845517170053\n",
      "mean_squared_error 22.993762401662\n"
     ]
    }
   ],
   "source": [
    "print('score: ', modelo.score(xtest, ytest))\n",
    "print('mean_squared_error', mean_squared_error(prediccion, ytest))"
   ]
  },
  {
   "cell_type": "code",
   "execution_count": 448,
   "metadata": {},
   "outputs": [],
   "source": [
    "from sklearn.linear_model import ElasticNet\n",
    "svm = ElasticNet()\n",
    "modelo = svm.fit(xtrain, ytrain)\n",
    "prediccion = modelo.predict(xtest)"
   ]
  },
  {
   "cell_type": "code",
   "execution_count": 449,
   "metadata": {},
   "outputs": [
    {
     "name": "stdout",
     "output_type": "stream",
     "text": [
      "score:  0.6486341861493865\n",
      "mean_squared_error 22.428860500731098\n"
     ]
    }
   ],
   "source": [
    "print('score: ', modelo.score(xtest, ytest))\n",
    "print('mean_squared_error', mean_squared_error(prediccion, ytest))"
   ]
  }
 ],
 "metadata": {
  "kernelspec": {
   "display_name": "Python 3",
   "language": "python",
   "name": "python3"
  },
  "language_info": {
   "codemirror_mode": {
    "name": "ipython",
    "version": 3
   },
   "file_extension": ".py",
   "mimetype": "text/x-python",
   "name": "python",
   "nbconvert_exporter": "python",
   "pygments_lexer": "ipython3",
   "version": "3.10.12"
  }
 },
 "nbformat": 4,
 "nbformat_minor": 2
}
