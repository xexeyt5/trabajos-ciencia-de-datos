{
 "cells": [
  {
   "cell_type": "code",
   "execution_count": null,
   "metadata": {},
   "outputs": [],
   "source": [
    "#estadistica descriptiva\n",
    "#estadistica inferencial\n",
    "\n",
    "#medidas de tendencia central\n",
    "#medidas de dispercion\n",
    "\n",
    "#referenciado con APA 7\n",
    "#word o pdf\n",
    "#informacion de libros"
   ]
  }
 ],
 "metadata": {
  "language_info": {
   "name": "python"
  },
  "orig_nbformat": 4
 },
 "nbformat": 4,
 "nbformat_minor": 2
}
