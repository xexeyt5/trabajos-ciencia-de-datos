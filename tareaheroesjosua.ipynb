{
 "cells": [
  {
   "cell_type": "code",
   "execution_count": 49,
   "metadata": {},
   "outputs": [
    {
     "data": {
      "text/html": [
       "<div>\n",
       "<style scoped>\n",
       "    .dataframe tbody tr th:only-of-type {\n",
       "        vertical-align: middle;\n",
       "    }\n",
       "\n",
       "    .dataframe tbody tr th {\n",
       "        vertical-align: top;\n",
       "    }\n",
       "\n",
       "    .dataframe thead th {\n",
       "        text-align: right;\n",
       "    }\n",
       "</style>\n",
       "<table border=\"1\" class=\"dataframe\">\n",
       "  <thead>\n",
       "    <tr style=\"text-align: right;\">\n",
       "      <th></th>\n",
       "      <th>Unnamed: 0</th>\n",
       "      <th>name</th>\n",
       "      <th>Gender</th>\n",
       "      <th>Eye color</th>\n",
       "      <th>Race</th>\n",
       "      <th>Hair color</th>\n",
       "      <th>Height</th>\n",
       "      <th>Publisher</th>\n",
       "      <th>Skin color</th>\n",
       "      <th>Alignment</th>\n",
       "      <th>Weight</th>\n",
       "    </tr>\n",
       "  </thead>\n",
       "  <tbody>\n",
       "    <tr>\n",
       "      <th>0</th>\n",
       "      <td>0</td>\n",
       "      <td>A-Bomb</td>\n",
       "      <td>Male</td>\n",
       "      <td>yellow</td>\n",
       "      <td>Human</td>\n",
       "      <td>No Hair</td>\n",
       "      <td>203.0</td>\n",
       "      <td>Marvel Comics</td>\n",
       "      <td>-</td>\n",
       "      <td>good</td>\n",
       "      <td>441.0</td>\n",
       "    </tr>\n",
       "    <tr>\n",
       "      <th>1</th>\n",
       "      <td>1</td>\n",
       "      <td>Abe Sapien</td>\n",
       "      <td>Male</td>\n",
       "      <td>blue</td>\n",
       "      <td>Icthyo Sapien</td>\n",
       "      <td>No Hair</td>\n",
       "      <td>191.0</td>\n",
       "      <td>Dark Horse Comics</td>\n",
       "      <td>blue</td>\n",
       "      <td>good</td>\n",
       "      <td>65.0</td>\n",
       "    </tr>\n",
       "    <tr>\n",
       "      <th>2</th>\n",
       "      <td>2</td>\n",
       "      <td>Abin Sur</td>\n",
       "      <td>Male</td>\n",
       "      <td>blue</td>\n",
       "      <td>Ungaran</td>\n",
       "      <td>No Hair</td>\n",
       "      <td>185.0</td>\n",
       "      <td>DC Comics</td>\n",
       "      <td>red</td>\n",
       "      <td>good</td>\n",
       "      <td>90.0</td>\n",
       "    </tr>\n",
       "    <tr>\n",
       "      <th>3</th>\n",
       "      <td>3</td>\n",
       "      <td>Abomination</td>\n",
       "      <td>Male</td>\n",
       "      <td>green</td>\n",
       "      <td>Human / Radiation</td>\n",
       "      <td>No Hair</td>\n",
       "      <td>203.0</td>\n",
       "      <td>Marvel Comics</td>\n",
       "      <td>-</td>\n",
       "      <td>bad</td>\n",
       "      <td>441.0</td>\n",
       "    </tr>\n",
       "    <tr>\n",
       "      <th>4</th>\n",
       "      <td>4</td>\n",
       "      <td>Abraxas</td>\n",
       "      <td>Male</td>\n",
       "      <td>blue</td>\n",
       "      <td>Cosmic Entity</td>\n",
       "      <td>Black</td>\n",
       "      <td>-99.0</td>\n",
       "      <td>Marvel Comics</td>\n",
       "      <td>-</td>\n",
       "      <td>bad</td>\n",
       "      <td>-99.0</td>\n",
       "    </tr>\n",
       "    <tr>\n",
       "      <th>...</th>\n",
       "      <td>...</td>\n",
       "      <td>...</td>\n",
       "      <td>...</td>\n",
       "      <td>...</td>\n",
       "      <td>...</td>\n",
       "      <td>...</td>\n",
       "      <td>...</td>\n",
       "      <td>...</td>\n",
       "      <td>...</td>\n",
       "      <td>...</td>\n",
       "      <td>...</td>\n",
       "    </tr>\n",
       "    <tr>\n",
       "      <th>729</th>\n",
       "      <td>729</td>\n",
       "      <td>Yellowjacket II</td>\n",
       "      <td>Female</td>\n",
       "      <td>blue</td>\n",
       "      <td>Human</td>\n",
       "      <td>Strawberry Blond</td>\n",
       "      <td>165.0</td>\n",
       "      <td>Marvel Comics</td>\n",
       "      <td>-</td>\n",
       "      <td>good</td>\n",
       "      <td>52.0</td>\n",
       "    </tr>\n",
       "    <tr>\n",
       "      <th>730</th>\n",
       "      <td>730</td>\n",
       "      <td>Ymir</td>\n",
       "      <td>Male</td>\n",
       "      <td>white</td>\n",
       "      <td>Frost Giant</td>\n",
       "      <td>No Hair</td>\n",
       "      <td>304.8</td>\n",
       "      <td>Marvel Comics</td>\n",
       "      <td>white</td>\n",
       "      <td>good</td>\n",
       "      <td>-99.0</td>\n",
       "    </tr>\n",
       "    <tr>\n",
       "      <th>731</th>\n",
       "      <td>731</td>\n",
       "      <td>Yoda</td>\n",
       "      <td>Male</td>\n",
       "      <td>brown</td>\n",
       "      <td>Yoda's species</td>\n",
       "      <td>White</td>\n",
       "      <td>66.0</td>\n",
       "      <td>George Lucas</td>\n",
       "      <td>green</td>\n",
       "      <td>good</td>\n",
       "      <td>17.0</td>\n",
       "    </tr>\n",
       "    <tr>\n",
       "      <th>732</th>\n",
       "      <td>732</td>\n",
       "      <td>Zatanna</td>\n",
       "      <td>Female</td>\n",
       "      <td>blue</td>\n",
       "      <td>Human</td>\n",
       "      <td>Black</td>\n",
       "      <td>170.0</td>\n",
       "      <td>DC Comics</td>\n",
       "      <td>-</td>\n",
       "      <td>good</td>\n",
       "      <td>57.0</td>\n",
       "    </tr>\n",
       "    <tr>\n",
       "      <th>733</th>\n",
       "      <td>733</td>\n",
       "      <td>Zoom</td>\n",
       "      <td>Male</td>\n",
       "      <td>red</td>\n",
       "      <td>-</td>\n",
       "      <td>Brown</td>\n",
       "      <td>185.0</td>\n",
       "      <td>DC Comics</td>\n",
       "      <td>-</td>\n",
       "      <td>bad</td>\n",
       "      <td>81.0</td>\n",
       "    </tr>\n",
       "  </tbody>\n",
       "</table>\n",
       "<p>734 rows × 11 columns</p>\n",
       "</div>"
      ],
      "text/plain": [
       "     Unnamed: 0             name  Gender Eye color               Race  \\\n",
       "0             0           A-Bomb    Male    yellow              Human   \n",
       "1             1       Abe Sapien    Male      blue      Icthyo Sapien   \n",
       "2             2         Abin Sur    Male      blue            Ungaran   \n",
       "3             3      Abomination    Male     green  Human / Radiation   \n",
       "4             4          Abraxas    Male      blue      Cosmic Entity   \n",
       "..          ...              ...     ...       ...                ...   \n",
       "729         729  Yellowjacket II  Female      blue              Human   \n",
       "730         730             Ymir    Male     white        Frost Giant   \n",
       "731         731             Yoda    Male     brown     Yoda's species   \n",
       "732         732          Zatanna  Female      blue              Human   \n",
       "733         733             Zoom    Male       red                  -   \n",
       "\n",
       "           Hair color  Height          Publisher Skin color Alignment  Weight  \n",
       "0             No Hair   203.0      Marvel Comics          -      good   441.0  \n",
       "1             No Hair   191.0  Dark Horse Comics       blue      good    65.0  \n",
       "2             No Hair   185.0          DC Comics        red      good    90.0  \n",
       "3             No Hair   203.0      Marvel Comics          -       bad   441.0  \n",
       "4               Black   -99.0      Marvel Comics          -       bad   -99.0  \n",
       "..                ...     ...                ...        ...       ...     ...  \n",
       "729  Strawberry Blond   165.0      Marvel Comics          -      good    52.0  \n",
       "730           No Hair   304.8      Marvel Comics      white      good   -99.0  \n",
       "731             White    66.0       George Lucas      green      good    17.0  \n",
       "732             Black   170.0          DC Comics          -      good    57.0  \n",
       "733             Brown   185.0          DC Comics          -       bad    81.0  \n",
       "\n",
       "[734 rows x 11 columns]"
      ]
     },
     "execution_count": 49,
     "metadata": {},
     "output_type": "execute_result"
    }
   ],
   "source": [
    "#salgado martinez yuren joshua\n",
    "import pandas as pd\n",
    "df = pd.read_csv('super_hero_info.csv', header = 0,sep =',')\n",
    "df"
   ]
  },
  {
   "cell_type": "code",
   "execution_count": null,
   "metadata": {},
   "outputs": [],
   "source": [
    "#1. cual es el promedio de estatura para un super heroe malo hombre de Marvel Comics\n",
    "#2. cual es el minimo de estatura para un super heroe malo mujer de Marvel Comics\n",
    "#3. cual es el mediana de estatura para un super heroe bueno hombre de Marvel Comics\n",
    "#4. cual es el desviación estandar de estatura para un super heroe bueno mujer de Marvel Comics\n",
    "#5. hacer la prueba de bondad y ajuste con shapiro-wilk para la estatura\n",
    "#6. hacer la prueba de bondad y ajuste con kolmogorov-smirnov para la estatura\n",
    "#7. hacer la prueba de bondad y ajuste con anderson para la estatura \n",
    "#8. comprobar el teroema del limite central la estatura"
   ]
  },
  {
   "cell_type": "code",
   "execution_count": 22,
   "metadata": {},
   "outputs": [
    {
     "data": {
      "text/plain": [
       "139.36526315789473"
      ]
     },
     "execution_count": 22,
     "metadata": {},
     "output_type": "execute_result"
    }
   ],
   "source": [
    "#1. cual es el promedio de estatura para un super heroe malo hombre de Marvel Comics\n",
    "estatura = df[(df['Alignment'] == 'bad') & (df['Gender'] == 'Male') & (df['Publisher']=='Marvel Comics')]\n",
    "promedio = estatura['Height'].mean()\n",
    "promedio"
   ]
  },
  {
   "cell_type": "code",
   "execution_count": 28,
   "metadata": {},
   "outputs": [
    {
     "data": {
      "text/plain": [
       "-99.0"
      ]
     },
     "execution_count": 28,
     "metadata": {},
     "output_type": "execute_result"
    }
   ],
   "source": [
    "#2. cual es el minimo de estatura para un super heroe malo mujer de Marvel Comics\n",
    "mujer = df[(df['Alignment'] == 'bad') & (df['Gender'] == 'Female') & (df['Publisher'] == 'Marvel Comics')]\n",
    "esta = mujer['Height'].min()\n",
    "esta"
   ]
  },
  {
   "cell_type": "code",
   "execution_count": 34,
   "metadata": {},
   "outputs": [
    {
     "data": {
      "text/plain": [
       "183.0"
      ]
     },
     "execution_count": 34,
     "metadata": {},
     "output_type": "execute_result"
    }
   ],
   "source": [
    "#3. cual es el mediana de estatura para un super heroe bueno hombre de Marvel Comics\n",
    "hom = df[(df['Alignment'] == 'good') & (df['Gender'] == 'Male') & (df['Publisher'] == 'Marvel Comics')]\n",
    "est = hom['Height'].median()\n",
    "est"
   ]
  },
  {
   "cell_type": "code",
   "execution_count": 38,
   "metadata": {},
   "outputs": [
    {
     "data": {
      "text/plain": [
       "94.42430655434082"
      ]
     },
     "execution_count": 38,
     "metadata": {},
     "output_type": "execute_result"
    }
   ],
   "source": [
    "#4. cual es el desviación estandar de estatura para un super heroe bueno mujer de Marvel Comics\n",
    "des = df[(df['Alignment'] == 'good') & (df['Gender'] == 'Female') & (df['Publisher'] == 'Marvel Comics')]\n",
    "desv = des['Height'].std()\n",
    "desv"
   ]
  },
  {
   "cell_type": "code",
   "execution_count": 39,
   "metadata": {},
   "outputs": [
    {
     "name": "stdout",
     "output_type": "stream",
     "text": [
      "shapiro\n",
      "stat 0.7165662050247192\n",
      "p_value 1.661498671978734e-08\n",
      "Acepta H1: no tiene una distribucion normal\n",
      "\n",
      "kstest\n",
      "stat 0.7\n",
      "p_value 4.405451055671056e-25\n",
      "acepta H1\n"
     ]
    }
   ],
   "source": [
    "#5. hacer la prueba de bondad y ajuste con shapiro-wilk para la estatura\n",
    "#6. hacer la prueba de bondad y ajuste con kolmogorov-smirnov para la estatura\n",
    "from scipy.stats import shapiro\n",
    "from scipy.stats import kstest, norm\n",
    "\n",
    "sample = df['Height'].sample(n=50)\n",
    "print('shapiro')\n",
    "stat, p_value = shapiro(sample)\n",
    "\n",
    "print('stat', stat)\n",
    "print('p_value', p_value)\n",
    "\n",
    "p = 0.05\n",
    "\n",
    "if p_value > p:\n",
    "    print(\"se Acepta la H0: tiene distribucion normal\")\n",
    "else:\n",
    "    print(\"Acepta H1: no tiene una distribucion normal\")\n",
    "\n",
    "\n",
    "print()\n",
    "\n",
    "print('kstest')\n",
    "stat, p_value = kstest(sample, norm.cdf)\n",
    "print('stat', stat)\n",
    "print('p_value', p_value)\n",
    "\n",
    "if p_value > p:\n",
    "    print('acepta H0')\n",
    "else:\n",
    "    print('acepta H1')\n"
   ]
  },
  {
   "cell_type": "code",
   "execution_count": 40,
   "metadata": {},
   "outputs": [
    {
     "name": "stdout",
     "output_type": "stream",
     "text": [
      "Estadístico de Anderson-Darling: 7.801430964918204\n",
      "La muestra no sigue una distribución normal al 1500.0% de confianza.\n",
      "La muestra no sigue una distribución normal al 1000.0% de confianza.\n",
      "La muestra no sigue una distribución normal al 500.0% de confianza.\n",
      "La muestra no sigue una distribución normal al 250.0% de confianza.\n",
      "La muestra no sigue una distribución normal al 100.0% de confianza.\n"
     ]
    }
   ],
   "source": [
    "#7. hacer la prueba de bondad y ajuste con anderson para la estatura \n",
    "from scipy.stats import anderson\n",
    "\n",
    "sample = df['Height'].sample(n=50)\n",
    "resultado = anderson(sample)\n",
    "estadistico = resultado.statistic\n",
    "valores_críticos = resultado.critical_values\n",
    "\n",
    "print('Estadístico de Anderson-Darling:', estadistico)\n",
    "for nivel, valor_crítico in zip(resultado.significance_level, valores_críticos):\n",
    "    if estadistico < valor_crítico:\n",
    "        print(f'La muestra sigue una distribución normal al {nivel * 100}% de confianza.')\n",
    "    else:\n",
    "        print(f'La muestra no sigue una distribución normal al {nivel * 100}% de confianza.')\n"
   ]
  },
  {
   "cell_type": "code",
   "execution_count": 48,
   "metadata": {},
   "outputs": [
    {
     "data": {
      "image/png": "[encoded data removed]",
      "text/plain": [
       "<Figure size 640x480 with 1 Axes>"
      ]
     },
     "metadata": {},
     "output_type": "display_data"
    }
   ],
   "source": [
    "#8. comprobar el teroema del limite central la estatura\n",
    "import numpy as np\n",
    "import matplotlib.pyplot as plt\n",
    "\n",
    "estatura = df['Height']  \n",
    "\n",
    "tamaño_muestra = 30  \n",
    "n_muestras = 1000  \n",
    "medias_muestras = []\n",
    "for _ in range(n_muestras):\n",
    "    muestra = np.random.choice(estatura, tamaño_muestra)\n",
    "    media_muestra = np.mean(muestra)\n",
    "    medias_muestras.append(media_muestra)\n",
    "\n",
    "plt.hist(medias_muestras, bins=30, edgecolor='k')\n",
    "plt.title('Distribución de Medias de Muestras de Estatura')\n",
    "plt.xlabel('Media de Muestra')\n",
    "plt.ylabel('Frecuencia')\n",
    "plt.show()\n"
   ]
  }
 ],
 "metadata": {
  "kernelspec": {
   "display_name": "Python 3",
   "language": "python",
   "name": "python3"
  },
  "language_info": {
   "codemirror_mode": {
    "name": "ipython",
    "version": 3
   },
   "file_extension": ".py",
   "mimetype": "text/x-python",
   "name": "python",
   "nbconvert_exporter": "python",
   "pygments_lexer": "ipython3",
   "version": "3.10.12"
  }
 },
 "nbformat": 4,
 "nbformat_minor": 2
}
