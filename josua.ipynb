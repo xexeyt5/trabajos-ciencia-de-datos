{
 "cells": [
  {
   "cell_type": "code",
   "execution_count": 3,
   "metadata": {},
   "outputs": [
    {
     "name": "stdout",
     "output_type": "stream",
     "text": [
      "hola mundo\n"
     ]
    }
   ],
   "source": [
    "#hola mundo desde python\n",
    "\n",
    "print(\"hola mundo\")"
   ]
  },
  {
   "cell_type": "code",
   "execution_count": 2,
   "metadata": {},
   "outputs": [
    {
     "name": "stdout",
     "output_type": "stream",
     "text": [
      "hola mundo\n"
     ]
    }
   ],
   "source": [
    "cadena = \"hola mundo\"\n",
    "\n",
    "print(cadena)"
   ]
  },
  {
   "cell_type": "code",
   "execution_count": null,
   "metadata": {},
   "outputs": [],
   "source": [
    "numero = 12233333333333333\n",
    "print(type(numero))\n",
    "print(numero)"
   ]
  },
  {
   "cell_type": "code",
   "execution_count": 8,
   "metadata": {},
   "outputs": [
    {
     "name": "stdout",
     "output_type": "stream",
     "text": [
      "<class 'str'>\n",
      "1.23456742123456789\n"
     ]
    }
   ],
   "source": [
    "flotante = 1.23456742123456789\n",
    "print(type(flotante))\n",
    "print(flotante)"
   ]
  },
  {
   "cell_type": "code",
   "execution_count": 12,
   "metadata": {},
   "outputs": [
    {
     "name": "stdout",
     "output_type": "stream",
     "text": [
      "(7+3j)\n",
      "(-25+0j)\n"
     ]
    }
   ],
   "source": [
    "complejo = 2+3j\n",
    "complejo = complejo + 5\n",
    "print(complejo)\n",
    "print(5j*5j)"
   ]
  },
  {
   "cell_type": "code",
   "execution_count": 15,
   "metadata": {},
   "outputs": [
    {
     "data": {
      "text/plain": [
       "'esto es una entrada'"
      ]
     },
     "execution_count": 15,
     "metadata": {},
     "output_type": "execute_result"
    }
   ],
   "source": [
    "input(\"Dame un valor: \")"
   ]
  },
  {
   "cell_type": "code",
   "execution_count": 36,
   "metadata": {},
   "outputs": [],
   "source": [
    "#capturar un valor\n",
    "\n",
    "edad = int(input(\"dame tu edad: \"))\n",
    "\n",
    "#capturar un valor\n",
    "\n",
    "nombre= input(\"dame tu nombre: \")\n",
    "\n",
    "#capturar un valor\n",
    "\n",
    "email = input(\"dame tu email: \")\n",
    "\n"
   ]
  },
  {
   "cell_type": "code",
   "execution_count": 38,
   "metadata": {},
   "outputs": [
    {
     "name": "stdout",
     "output_type": "stream",
     "text": [
      "Tu nombre es: yuren\n",
      "Tu edad es:  22\n",
      "Tu email es: joshua\n"
     ]
    }
   ],
   "source": [
    "\n",
    "print(\"Tu nombre es: \"+nombre)\n",
    "print(\"Tu edad es: \", edad)\n",
    "print(\"Tu email es: \"+email)"
   ]
  },
  {
   "cell_type": "code",
   "execution_count": 39,
   "metadata": {},
   "outputs": [
    {
     "name": "stdout",
     "output_type": "stream",
     "text": [
      "Tu nombre es: yuren\n",
      "Tu nombre es: yuren\n"
     ]
    }
   ],
   "source": [
    "print(\"Tu nombre es: \"+ nombre)\n",
    "print( f\"Tu nombre es: {nombre}\")\n"
   ]
  },
  {
   "cell_type": "code",
   "execution_count": 40,
   "metadata": {},
   "outputs": [
    {
     "name": "stdout",
     "output_type": "stream",
     "text": [
      "Tu nombre es: yuren escobar\n",
      "Tu edad es: 23\n",
      "Tu edad es:  23\n",
      "Tu edad es:  23\n",
      "Tu email es: joshua\n"
     ]
    }
   ],
   "source": [
    "print(\"Tu nombre es: \"+nombre+\" escobar\")\n",
    "print(\"Tu edad es: \"+str(int(edad)+1))\n",
    "print(\"Tu edad es: \",(int(edad)+1))\n",
    "print(\"Tu edad es: \",edad+1)\n",
    "print(\"Tu email es: \"+email)"
   ]
  },
  {
   "cell_type": "code",
   "execution_count": 41,
   "metadata": {},
   "outputs": [
    {
     "name": "stdout",
     "output_type": "stream",
     "text": [
      "Tu edad es: 22\n"
     ]
    }
   ],
   "source": [
    "print(f\"Tu edad es: {edad}\")"
   ]
  },
  {
   "cell_type": "code",
   "execution_count": 42,
   "metadata": {},
   "outputs": [
    {
     "name": "stdout",
     "output_type": "stream",
     "text": [
      "<class 'list'>\n",
      "0\n"
     ]
    }
   ],
   "source": [
    "#list, tuple\n",
    "\n",
    "lista = []\n",
    "\n",
    "\n",
    "print(type(lista))\n",
    "\n",
    "# longitud de una lista\n",
    "print( len( lista ) )\n",
    "\n"
   ]
  },
  {
   "cell_type": "code",
   "execution_count": 7,
   "metadata": {},
   "outputs": [
    {
     "name": "stdout",
     "output_type": "stream",
     "text": [
      "5\n",
      "['un valor', 'otro valor', 123456789, 123456789.456378, [123456789, 23456, 789]]\n"
     ]
    }
   ],
   "source": [
    "#list, tuple\n",
    "\n",
    "lista = []\n",
    "\n",
    "lista.append( 'un valor' )\n",
    "lista.append( 'otro valor' )\n",
    "lista.append( 123456789 )\n",
    "lista.append( 123456789.456378 )\n",
    "lista.append( [123456789,23456,789] )\n",
    "\n",
    "# longitud de una lista\n",
    "print( len( lista ) )\n",
    "\n",
    "# visualizar una lista\n",
    "print(lista)\n"
   ]
  },
  {
   "cell_type": "code",
   "execution_count": 9,
   "metadata": {},
   "outputs": [
    {
     "data": {
      "text/plain": [
       "[123456789, 23456, 789]"
      ]
     },
     "execution_count": 9,
     "metadata": {},
     "output_type": "execute_result"
    }
   ],
   "source": [
    "#una forma de ver el ultimo elemento de la lista\n",
    "lista[len(lista)-1]\n",
    "\n",
    "#segunda forma de ver el ultimo elemento, recorrido del arreglo de forma inversa.\n",
    "lista[-1]"
   ]
  },
  {
   "cell_type": "code",
   "execution_count": 11,
   "metadata": {},
   "outputs": [
    {
     "name": "stdout",
     "output_type": "stream",
     "text": [
      "['otro valor', 12345678, 12345678.2345678, 'mas valores']\n"
     ]
    }
   ],
   "source": [
    "#ingresar valores en un arreglo al momento de declararlo.\n",
    "lista2 = [ 'otro valor', 12345678, 12345678.2345678 ]\n",
    "\n",
    "#agregar mas valores\n",
    "lista2.append('mas valores')\n",
    "\n",
    "print(lista2)"
   ]
  },
  {
   "cell_type": "code",
   "execution_count": 14,
   "metadata": {},
   "outputs": [
    {
     "name": "stdout",
     "output_type": "stream",
     "text": [
      "['otro valor', 12345678, 12345678.2345678]\n",
      "['otro valor', 'otro string', 12345678.2345678]\n"
     ]
    }
   ],
   "source": [
    "#ingresar valores en un arreglo al momento de declararlo.\n",
    "lista2 = [ 'otro valor', 12345678, 12345678.2345678 ]\n",
    "\n",
    "\n",
    "print(lista2)\n",
    "\n",
    "#sustituir un valor del arreglo en una posicion en especifico\n",
    "\n",
    "lista2[ 1 ] = 'otro string'\n",
    "print(lista2)\n"
   ]
  },
  {
   "cell_type": "code",
   "execution_count": 15,
   "metadata": {},
   "outputs": [
    {
     "name": "stdout",
     "output_type": "stream",
     "text": [
      "('otro valor', 12345678, 12345678.2345678)\n"
     ]
    }
   ],
   "source": [
    "#ingresar valores en un arreglo al momento de declararlo.\n",
    "#si se declara una lista con parentesis, se convierte en una tupla, y no se puede agregar mas valores.\n",
    "lista2 = ( 'otro valor', 12345678, 12345678.2345678 )\n",
    "\n",
    "print(lista2)\n"
   ]
  },
  {
   "cell_type": "code",
   "execution_count": 24,
   "metadata": {},
   "outputs": [
    {
     "name": "stdout",
     "output_type": "stream",
     "text": [
      "('otro valor', 12345678, 12345678.2345678)\n",
      "un valor\n",
      "otro valor\n",
      "123456789\n"
     ]
    }
   ],
   "source": [
    "#ciclo for\n",
    "print(lista2)\n",
    "for x in range(len(lista2)):\n",
    "    print(lista[x]):\n",
    "\n"
   ]
  },
  {
   "cell_type": "code",
   "execution_count": 27,
   "metadata": {},
   "outputs": [
    {
     "name": "stdout",
     "output_type": "stream",
     "text": [
      "('otro valor', 12345678, 12345678.2345678)\n",
      "otro valor\n",
      "12345678\n",
      "12345678.2345678\n"
     ]
    }
   ],
   "source": [
    "print(lista2)\n",
    "#for each\n",
    "\n",
    "#segunda forma de ver el contenido pero pierdes el contador.\n",
    "for x in lista2:\n",
    "    print(x)"
   ]
  },
  {
   "cell_type": "code",
   "execution_count": 78,
   "metadata": {},
   "outputs": [
    {
     "name": "stdout",
     "output_type": "stream",
     "text": [
      "1234 es mayor a 50 \n",
      "54 es mayor a 50 \n",
      "56 es mayor a 50 \n",
      "67 es mayor a 50 \n",
      "12 no es mayor a 50\n",
      "0 no es mayor a 50\n",
      "50 es igual a 50\n"
     ]
    }
   ],
   "source": [
    "lista3=(1234,54,56,67,12,0,50)\n",
    "\n",
    "#como puedo saber que elemento es mayor a 50\n",
    "for x in lista3:\n",
    "    if x > 50:\n",
    "        print(f'{x} es mayor a 50 ')\n",
    "    elif x < 50:\n",
    "        print(f'{x} no es mayor a 50')\n",
    "    else:\n",
    "        print(f'{x} es igual a 50')"
   ]
  },
  {
   "cell_type": "code",
   "execution_count": 2,
   "metadata": {},
   "outputs": [
    {
     "name": "stdout",
     "output_type": "stream",
     "text": [
      "El número mayor es: 567\n"
     ]
    }
   ],
   "source": [
    "lista3 = (124, 45, 56, 67, 12, 0, 567, 50)\n",
    "mayor = lista3[0]\n",
    "\n",
    "for numero in lista3:\n",
    "    if numero > mayor:\n",
    "        mayor = numero\n",
    "\n",
    "print(\"El número mayor es:\", mayor)\n",
    "\n",
    "\n"
   ]
  },
  {
   "cell_type": "code",
   "execution_count": 8,
   "metadata": {},
   "outputs": [
    {
     "name": "stdout",
     "output_type": "stream",
     "text": [
      "El promedio es: 115.125\n"
     ]
    }
   ],
   "source": [
    "lista3 = (124, 45, 56, 67, 12, 0, 567, 50)\n",
    "total = 0\n",
    "for x in lista3:\n",
    " total += x\n",
    "prom = total / len(lista3)\n",
    "print(\"El promedio es:\", prom)\n"
   ]
  },
  {
   "cell_type": "code",
   "execution_count": 7,
   "metadata": {},
   "outputs": [
    {
     "name": "stdout",
     "output_type": "stream",
     "text": [
      "hola\n"
     ]
    }
   ],
   "source": [
    "def consulta():\n",
    "    print(\"hola\")\n",
    "\n",
    "consulta()"
   ]
  },
  {
   "cell_type": "code",
   "execution_count": 6,
   "metadata": {},
   "outputs": [
    {
     "data": {
      "text/plain": [
       "'hola'"
      ]
     },
     "execution_count": 6,
     "metadata": {},
     "output_type": "execute_result"
    }
   ],
   "source": [
    "def consulta():\n",
    "    return \"hola\"\n",
    "\n",
    "consulta()"
   ]
  },
  {
   "cell_type": "code",
   "execution_count": 4,
   "metadata": {},
   "outputs": [
    {
     "data": {
      "text/plain": [
       "'hola todos'"
      ]
     },
     "execution_count": 4,
     "metadata": {},
     "output_type": "execute_result"
    }
   ],
   "source": [
    "def consulta(nombre):\n",
    "    return f\"hola{nombre}\"\n",
    "\n",
    "consulta(' todos')"
   ]
  },
  {
   "cell_type": "code",
   "execution_count": 12,
   "metadata": {},
   "outputs": [
    {
     "data": {
      "text/plain": [
       "'hola12314'"
      ]
     },
     "execution_count": 12,
     "metadata": {},
     "output_type": "execute_result"
    }
   ],
   "source": [
    "def consulta(nombre = ' hola'):\n",
    "    return f\"hola{nombre}\"\n",
    "\n",
    "#consulta(' como les va')\n",
    "#consulta()\n",
    "consulta(12314)"
   ]
  },
  {
   "cell_type": "code",
   "execution_count": 17,
   "metadata": {},
   "outputs": [
    {
     "name": "stdout",
     "output_type": "stream",
     "text": [
      "el area del cuadrado es:  25\n"
     ]
    }
   ],
   "source": [
    "def areaC():\n",
    "    lado = int(input(\"cual es la medida del cuadrado\"))\n",
    "    area = lado*lado\n",
    "    print(\"el area del cuadrado es: \", area)\n",
    "\n",
    "areaC()"
   ]
  },
  {
   "cell_type": "code",
   "execution_count": 18,
   "metadata": {},
   "outputs": [
    {
     "name": "stdout",
     "output_type": "stream",
     "text": [
      "area Tringualo:  2.0\n"
     ]
    }
   ],
   "source": [
    "def areaT():\n",
    "    base = int(input(\"base: \"))\n",
    "    altura = int(input(\"altura: \"))\n",
    "    areat = (base*altura)/2\n",
    "    print(\"area Tringualo: \", areat)\n",
    "\n",
    "areaT()"
   ]
  },
  {
   "cell_type": "code",
   "execution_count": 22,
   "metadata": {},
   "outputs": [
    {
     "name": "stdout",
     "output_type": "stream",
     "text": [
      "El promedio es: 7.5\n"
     ]
    }
   ],
   "source": [
    "def promedio():\n",
    "    promedio = [10, 8, 5, 6, 6, 10]\n",
    "    total = 0\n",
    "    for x in promedio:\n",
    "        total += x\n",
    "        prom = total / len(promedio)\n",
    "    print(\"El promedio es:\", prom)\n",
    "\n",
    "promedio()"
   ]
  },
  {
   "cell_type": "code",
   "execution_count": 29,
   "metadata": {},
   "outputs": [
    {
     "data": {
      "text/plain": [
       "10.0"
      ]
     },
     "execution_count": 29,
     "metadata": {},
     "output_type": "execute_result"
    }
   ],
   "source": [
    "def prom(lista):\n",
    "    suma = 0\n",
    "    for x in lista:\n",
    "        suma = suma + x\n",
    "    return suma/len(lista)\n",
    "\n",
    "prom([10,10,10])\n"
   ]
  },
  {
   "cell_type": "code",
   "execution_count": 65,
   "metadata": {},
   "outputs": [],
   "source": [
    "# import math\n",
    "\n",
    "# def area_cilindro(radio, altura):\n",
    "#     area = 2*math.pi*radio*(radio*altura)\n",
    "#     print (f\"el area es: {area}\")\n",
    "\n",
    "# radio = int(input(\"radio: \"))\n",
    "# altura = int(input(\"altura: \"))\n",
    "# area_cilindro(radio, altura)"
   ]
  },
  {
   "cell_type": "code",
   "execution_count": 68,
   "metadata": {},
   "outputs": [
    {
     "data": {
      "text/plain": [
       "1570.7963267948965"
      ]
     },
     "execution_count": 68,
     "metadata": {},
     "output_type": "execute_result"
    }
   ],
   "source": [
    "import math\n",
    "\n",
    "def area_cilindroo(**parametros):\n",
    "   radio = parametros['radio']\n",
    "   altura = parametros['altura']\n",
    "   return 2 * math.pi * radio*(radio*altura)\n",
    "\n",
    "area_cilindroo(radio=5, altura=10)"
   ]
  },
  {
   "cell_type": "code",
   "execution_count": 2,
   "metadata": {},
   "outputs": [
    {
     "data": {
      "text/plain": [
       "'2.1.0'"
      ]
     },
     "execution_count": 2,
     "metadata": {},
     "output_type": "execute_result"
    }
   ],
   "source": [
    "import pandas as pd\n",
    "\n",
    "pd.__version__"
   ]
  },
  {
   "cell_type": "code",
   "execution_count": 10,
   "metadata": {},
   "outputs": [
    {
     "data": {
      "text/html": [
       "<div>\n",
       "<style scoped>\n",
       "    .dataframe tbody tr th:only-of-type {\n",
       "        vertical-align: middle;\n",
       "    }\n",
       "\n",
       "    .dataframe tbody tr th {\n",
       "        vertical-align: top;\n",
       "    }\n",
       "\n",
       "    .dataframe thead th {\n",
       "        text-align: right;\n",
       "    }\n",
       "</style>\n",
       "<table border=\"1\" class=\"dataframe\">\n",
       "  <thead>\n",
       "    <tr style=\"text-align: right;\">\n",
       "      <th></th>\n",
       "      <th>Title</th>\n",
       "      <th>Genre</th>\n",
       "      <th>GenreLabels</th>\n",
       "      <th>Premiere</th>\n",
       "      <th>Seasons</th>\n",
       "      <th>SeasonsParsed</th>\n",
       "      <th>EpisodesParsed</th>\n",
       "      <th>Length</th>\n",
       "      <th>MinLength</th>\n",
       "      <th>MaxLength</th>\n",
       "      <th>Status</th>\n",
       "      <th>Active</th>\n",
       "      <th>Table</th>\n",
       "      <th>Language</th>\n",
       "    </tr>\n",
       "  </thead>\n",
       "  <tbody>\n",
       "    <tr>\n",
       "      <th>0</th>\n",
       "      <td>House of Cards</td>\n",
       "      <td>Political drama</td>\n",
       "      <td>political,drama</td>\n",
       "      <td>1-Feb-13</td>\n",
       "      <td>6 seasons, 73 episodes</td>\n",
       "      <td>6</td>\n",
       "      <td>73</td>\n",
       "      <td>42–59 min.</td>\n",
       "      <td>42</td>\n",
       "      <td>59</td>\n",
       "      <td>Ended</td>\n",
       "      <td>0</td>\n",
       "      <td>Drama</td>\n",
       "      <td>English</td>\n",
       "    </tr>\n",
       "    <tr>\n",
       "      <th>1</th>\n",
       "      <td>Hemlock Grove</td>\n",
       "      <td>Horror/thriller</td>\n",
       "      <td>horror,thriller</td>\n",
       "      <td>19-Apr-13</td>\n",
       "      <td>3 seasons, 33 episodes</td>\n",
       "      <td>3</td>\n",
       "      <td>33</td>\n",
       "      <td>45–58 min.</td>\n",
       "      <td>45</td>\n",
       "      <td>58</td>\n",
       "      <td>Ended</td>\n",
       "      <td>0</td>\n",
       "      <td>Drama</td>\n",
       "      <td>English</td>\n",
       "    </tr>\n",
       "    <tr>\n",
       "      <th>2</th>\n",
       "      <td>Orange Is the New Black</td>\n",
       "      <td>Comedy-drama</td>\n",
       "      <td>comedy-drama</td>\n",
       "      <td>11-Jul-13</td>\n",
       "      <td>6 seasons, 78 episodes</td>\n",
       "      <td>6</td>\n",
       "      <td>78</td>\n",
       "      <td>50–92 min.</td>\n",
       "      <td>50</td>\n",
       "      <td>92</td>\n",
       "      <td>Renewed</td>\n",
       "      <td>1</td>\n",
       "      <td>Drama</td>\n",
       "      <td>English</td>\n",
       "    </tr>\n",
       "    <tr>\n",
       "      <th>3</th>\n",
       "      <td>Marco Polo</td>\n",
       "      <td>Historical drama</td>\n",
       "      <td>historical,drama</td>\n",
       "      <td>12-Dec-14</td>\n",
       "      <td>2 seasons, 20 episodes</td>\n",
       "      <td>2</td>\n",
       "      <td>20</td>\n",
       "      <td>48–65 min.</td>\n",
       "      <td>48</td>\n",
       "      <td>65</td>\n",
       "      <td>Ended</td>\n",
       "      <td>0</td>\n",
       "      <td>Drama</td>\n",
       "      <td>English</td>\n",
       "    </tr>\n",
       "    <tr>\n",
       "      <th>4</th>\n",
       "      <td>Bloodline</td>\n",
       "      <td>Thriller</td>\n",
       "      <td>thriller</td>\n",
       "      <td>20-Mar-15</td>\n",
       "      <td>3 seasons, 33 episodes</td>\n",
       "      <td>3</td>\n",
       "      <td>33</td>\n",
       "      <td>48–68 min.</td>\n",
       "      <td>48</td>\n",
       "      <td>68</td>\n",
       "      <td>Ended</td>\n",
       "      <td>0</td>\n",
       "      <td>Drama</td>\n",
       "      <td>English</td>\n",
       "    </tr>\n",
       "    <tr>\n",
       "      <th>...</th>\n",
       "      <td>...</td>\n",
       "      <td>...</td>\n",
       "      <td>...</td>\n",
       "      <td>...</td>\n",
       "      <td>...</td>\n",
       "      <td>...</td>\n",
       "      <td>...</td>\n",
       "      <td>...</td>\n",
       "      <td>...</td>\n",
       "      <td>...</td>\n",
       "      <td>...</td>\n",
       "      <td>...</td>\n",
       "      <td>...</td>\n",
       "      <td>...</td>\n",
       "    </tr>\n",
       "    <tr>\n",
       "      <th>353</th>\n",
       "      <td>Busted!</td>\n",
       "      <td>Korean language variety show</td>\n",
       "      <td>korean,language,variety,show</td>\n",
       "      <td>4-May-18</td>\n",
       "      <td>1 season, 10 episodes</td>\n",
       "      <td>1</td>\n",
       "      <td>10</td>\n",
       "      <td>75–98 min.</td>\n",
       "      <td>75</td>\n",
       "      <td>98</td>\n",
       "      <td>Renewed</td>\n",
       "      <td>1</td>\n",
       "      <td>VarietyTalk</td>\n",
       "      <td>Korean</td>\n",
       "    </tr>\n",
       "    <tr>\n",
       "      <th>354</th>\n",
       "      <td>The Break with Michelle Wolf</td>\n",
       "      <td>Late-night</td>\n",
       "      <td>late-night</td>\n",
       "      <td>27-May-18</td>\n",
       "      <td>1 season, 10 episodes</td>\n",
       "      <td>1</td>\n",
       "      <td>10</td>\n",
       "      <td>27 min.</td>\n",
       "      <td>27</td>\n",
       "      <td>27</td>\n",
       "      <td>Renewed</td>\n",
       "      <td>1</td>\n",
       "      <td>VarietyTalk</td>\n",
       "      <td>English</td>\n",
       "    </tr>\n",
       "    <tr>\n",
       "      <th>355</th>\n",
       "      <td>Norm Macdonald Has a Show</td>\n",
       "      <td>Talk show</td>\n",
       "      <td>talk,show</td>\n",
       "      <td>14-Sep-18</td>\n",
       "      <td>1 season, 10 episodes</td>\n",
       "      <td>1</td>\n",
       "      <td>10</td>\n",
       "      <td>26–35 min.</td>\n",
       "      <td>26</td>\n",
       "      <td>35</td>\n",
       "      <td>Pending</td>\n",
       "      <td>1</td>\n",
       "      <td>VarietyTalk</td>\n",
       "      <td>English</td>\n",
       "    </tr>\n",
       "    <tr>\n",
       "      <th>356</th>\n",
       "      <td>Patriot Act with Hasan Minhaj</td>\n",
       "      <td>Talk show</td>\n",
       "      <td>talk,show</td>\n",
       "      <td>28-Oct-18</td>\n",
       "      <td>3 volumes, 19 episodes</td>\n",
       "      <td>0</td>\n",
       "      <td>19</td>\n",
       "      <td>23–30 min.</td>\n",
       "      <td>23</td>\n",
       "      <td>30</td>\n",
       "      <td>Renewed</td>\n",
       "      <td>1</td>\n",
       "      <td>VarietyTalk</td>\n",
       "      <td>English</td>\n",
       "    </tr>\n",
       "    <tr>\n",
       "      <th>357</th>\n",
       "      <td>The Fix</td>\n",
       "      <td>Panel show</td>\n",
       "      <td>panel,show</td>\n",
       "      <td>14-Dec-18</td>\n",
       "      <td>1 season, 10 episodes</td>\n",
       "      <td>1</td>\n",
       "      <td>10</td>\n",
       "      <td>23–31 min.</td>\n",
       "      <td>23</td>\n",
       "      <td>31</td>\n",
       "      <td>Pending</td>\n",
       "      <td>1</td>\n",
       "      <td>VarietyTalk</td>\n",
       "      <td>English</td>\n",
       "    </tr>\n",
       "  </tbody>\n",
       "</table>\n",
       "<p>358 rows × 14 columns</p>\n",
       "</div>"
      ],
      "text/plain": [
       "                             Title                         Genre  \\\n",
       "0                   House of Cards               Political drama   \n",
       "1                    Hemlock Grove               Horror/thriller   \n",
       "2          Orange Is the New Black                  Comedy-drama   \n",
       "3                       Marco Polo              Historical drama   \n",
       "4                        Bloodline                      Thriller   \n",
       "..                             ...                           ...   \n",
       "353                        Busted!  Korean language variety show   \n",
       "354   The Break with Michelle Wolf                    Late-night   \n",
       "355      Norm Macdonald Has a Show                     Talk show   \n",
       "356  Patriot Act with Hasan Minhaj                     Talk show   \n",
       "357                        The Fix                    Panel show   \n",
       "\n",
       "                      GenreLabels   Premiere                 Seasons  \\\n",
       "0                 political,drama   1-Feb-13  6 seasons, 73 episodes   \n",
       "1                 horror,thriller  19-Apr-13  3 seasons, 33 episodes   \n",
       "2                    comedy-drama  11-Jul-13  6 seasons, 78 episodes   \n",
       "3                historical,drama  12-Dec-14  2 seasons, 20 episodes   \n",
       "4                        thriller  20-Mar-15  3 seasons, 33 episodes   \n",
       "..                            ...        ...                     ...   \n",
       "353  korean,language,variety,show   4-May-18   1 season, 10 episodes   \n",
       "354                    late-night  27-May-18   1 season, 10 episodes   \n",
       "355                     talk,show  14-Sep-18   1 season, 10 episodes   \n",
       "356                     talk,show  28-Oct-18  3 volumes, 19 episodes   \n",
       "357                    panel,show  14-Dec-18   1 season, 10 episodes   \n",
       "\n",
       "     SeasonsParsed  EpisodesParsed      Length  MinLength  MaxLength   Status  \\\n",
       "0                6              73  42–59 min.         42         59    Ended   \n",
       "1                3              33  45–58 min.         45         58    Ended   \n",
       "2                6              78  50–92 min.         50         92  Renewed   \n",
       "3                2              20  48–65 min.         48         65    Ended   \n",
       "4                3              33  48–68 min.         48         68    Ended   \n",
       "..             ...             ...         ...        ...        ...      ...   \n",
       "353              1              10  75–98 min.         75         98  Renewed   \n",
       "354              1              10     27 min.         27         27  Renewed   \n",
       "355              1              10  26–35 min.         26         35  Pending   \n",
       "356              0              19  23–30 min.         23         30  Renewed   \n",
       "357              1              10  23–31 min.         23         31  Pending   \n",
       "\n",
       "     Active        Table Language  \n",
       "0         0        Drama  English  \n",
       "1         0        Drama  English  \n",
       "2         1        Drama  English  \n",
       "3         0        Drama  English  \n",
       "4         0        Drama  English  \n",
       "..      ...          ...      ...  \n",
       "353       1  VarietyTalk   Korean  \n",
       "354       1  VarietyTalk  English  \n",
       "355       1  VarietyTalk  English  \n",
       "356       1  VarietyTalk  English  \n",
       "357       1  VarietyTalk  English  \n",
       "\n",
       "[358 rows x 14 columns]"
      ]
     },
     "execution_count": 10,
     "metadata": {},
     "output_type": "execute_result"
    }
   ],
   "source": [
    "import pandas as pd\n",
    "import os\n",
    "\n",
    "df = pd.read_csv('NetflixOriginals.csv', header=0, sep=',')\n"
   ]
  },
  {
   "cell_type": "code",
   "execution_count": 8,
   "metadata": {},
   "outputs": [
    {
     "data": {
      "text/plain": [
       "Index(['Title', 'Genre', 'GenreLabels', 'Premiere', 'Seasons', 'SeasonsParsed',\n",
       "       'EpisodesParsed', 'Length', 'MinLength', 'MaxLength', 'Status',\n",
       "       'Active', 'Table', 'Language'],\n",
       "      dtype='object')"
      ]
     },
     "execution_count": 8,
     "metadata": {},
     "output_type": "execute_result"
    }
   ],
   "source": [
    "df.columns"
   ]
  },
  {
   "cell_type": "code",
   "execution_count": 11,
   "metadata": {},
   "outputs": [
    {
     "data": {
      "text/plain": [
       "Title             object\n",
       "Genre             object\n",
       "GenreLabels       object\n",
       "Premiere          object\n",
       "Seasons           object\n",
       "SeasonsParsed      int64\n",
       "EpisodesParsed     int64\n",
       "Length            object\n",
       "MinLength          int64\n",
       "MaxLength          int64\n",
       "Status            object\n",
       "Active             int64\n",
       "Table             object\n",
       "Language          object\n",
       "dtype: object"
      ]
     },
     "execution_count": 11,
     "metadata": {},
     "output_type": "execute_result"
    }
   ],
   "source": [
    "df.dtypes"
   ]
  },
  {
   "cell_type": "code",
   "execution_count": 18,
   "metadata": {},
   "outputs": [
    {
     "data": {
      "text/html": [
       "<div>\n",
       "<style scoped>\n",
       "    .dataframe tbody tr th:only-of-type {\n",
       "        vertical-align: middle;\n",
       "    }\n",
       "\n",
       "    .dataframe tbody tr th {\n",
       "        vertical-align: top;\n",
       "    }\n",
       "\n",
       "    .dataframe thead th {\n",
       "        text-align: right;\n",
       "    }\n",
       "</style>\n",
       "<table border=\"1\" class=\"dataframe\">\n",
       "  <thead>\n",
       "    <tr style=\"text-align: right;\">\n",
       "      <th></th>\n",
       "      <th>Title</th>\n",
       "      <th>Genre</th>\n",
       "      <th>GenreLabels</th>\n",
       "      <th>Premiere</th>\n",
       "      <th>Seasons</th>\n",
       "      <th>SeasonsParsed</th>\n",
       "      <th>EpisodesParsed</th>\n",
       "      <th>Length</th>\n",
       "      <th>MinLength</th>\n",
       "      <th>MaxLength</th>\n",
       "      <th>Status</th>\n",
       "      <th>Active</th>\n",
       "      <th>Table</th>\n",
       "      <th>Language</th>\n",
       "    </tr>\n",
       "  </thead>\n",
       "  <tbody>\n",
       "    <tr>\n",
       "      <th>338</th>\n",
       "      <td>Nailed It! Holiday</td>\n",
       "      <td>Reality competition</td>\n",
       "      <td>reality,competition</td>\n",
       "      <td>7-Dec-18</td>\n",
       "      <td>1 season, 7 episodes</td>\n",
       "      <td>1</td>\n",
       "      <td>7</td>\n",
       "      <td>33–35 min.</td>\n",
       "      <td>33</td>\n",
       "      <td>35</td>\n",
       "      <td>Pending</td>\n",
       "      <td>1</td>\n",
       "      <td>Reality</td>\n",
       "      <td>English</td>\n",
       "    </tr>\n",
       "    <tr>\n",
       "      <th>339</th>\n",
       "      <td>Tidying Up with Marie Kondo</td>\n",
       "      <td>Reality show</td>\n",
       "      <td>reality,show</td>\n",
       "      <td>1-Jan-19</td>\n",
       "      <td>1 season, 8 episodes</td>\n",
       "      <td>1</td>\n",
       "      <td>8</td>\n",
       "      <td>35–47 min.</td>\n",
       "      <td>35</td>\n",
       "      <td>47</td>\n",
       "      <td>Pending</td>\n",
       "      <td>1</td>\n",
       "      <td>Reality</td>\n",
       "      <td>English</td>\n",
       "    </tr>\n",
       "    <tr>\n",
       "      <th>340</th>\n",
       "      <td>Nailed It! Mexico</td>\n",
       "      <td>Reality</td>\n",
       "      <td>reality</td>\n",
       "      <td>8-Feb-19</td>\n",
       "      <td>1 season, 6 episodes</td>\n",
       "      <td>1</td>\n",
       "      <td>6</td>\n",
       "      <td>32–34 min.</td>\n",
       "      <td>32</td>\n",
       "      <td>34</td>\n",
       "      <td>Pending</td>\n",
       "      <td>1</td>\n",
       "      <td>Reality</td>\n",
       "      <td>English</td>\n",
       "    </tr>\n",
       "    <tr>\n",
       "      <th>341</th>\n",
       "      <td>Dating Around</td>\n",
       "      <td>Reality</td>\n",
       "      <td>reality</td>\n",
       "      <td>14-Feb-19</td>\n",
       "      <td>1 season, 6 episodes</td>\n",
       "      <td>1</td>\n",
       "      <td>6</td>\n",
       "      <td>24–30 min.</td>\n",
       "      <td>24</td>\n",
       "      <td>30</td>\n",
       "      <td>Pending</td>\n",
       "      <td>1</td>\n",
       "      <td>Reality</td>\n",
       "      <td>English</td>\n",
       "    </tr>\n",
       "    <tr>\n",
       "      <th>342</th>\n",
       "      <td>Selling Sunset</td>\n",
       "      <td>Reality</td>\n",
       "      <td>reality</td>\n",
       "      <td>22-Mar-19</td>\n",
       "      <td>1 season, 8 episodes</td>\n",
       "      <td>1</td>\n",
       "      <td>8</td>\n",
       "      <td>28–42 min.</td>\n",
       "      <td>28</td>\n",
       "      <td>42</td>\n",
       "      <td>Pending</td>\n",
       "      <td>1</td>\n",
       "      <td>Reality</td>\n",
       "      <td>English</td>\n",
       "    </tr>\n",
       "    <tr>\n",
       "      <th>343</th>\n",
       "      <td>You vs. Wild</td>\n",
       "      <td>Interactive Reality</td>\n",
       "      <td>interactive,reality</td>\n",
       "      <td>10-Apr-19</td>\n",
       "      <td>1 season, 8 episodes</td>\n",
       "      <td>1</td>\n",
       "      <td>8</td>\n",
       "      <td>14–26 min.</td>\n",
       "      <td>14</td>\n",
       "      <td>26</td>\n",
       "      <td>Pending</td>\n",
       "      <td>1</td>\n",
       "      <td>Reality</td>\n",
       "      <td>English</td>\n",
       "    </tr>\n",
       "    <tr>\n",
       "      <th>344</th>\n",
       "      <td>Flinch</td>\n",
       "      <td>Reality television/game show</td>\n",
       "      <td>reality,television,game,show</td>\n",
       "      <td>3-May-19</td>\n",
       "      <td>1 season, 10 episodes</td>\n",
       "      <td>1</td>\n",
       "      <td>10</td>\n",
       "      <td>20–25 min.</td>\n",
       "      <td>20</td>\n",
       "      <td>25</td>\n",
       "      <td>Pending</td>\n",
       "      <td>1</td>\n",
       "      <td>Reality</td>\n",
       "      <td>English</td>\n",
       "    </tr>\n",
       "    <tr>\n",
       "      <th>345</th>\n",
       "      <td>Jailbirds</td>\n",
       "      <td>Reality television</td>\n",
       "      <td>reality,television</td>\n",
       "      <td>10-May-19</td>\n",
       "      <td>1 season, 10 episodes</td>\n",
       "      <td>1</td>\n",
       "      <td>10</td>\n",
       "      <td>37–47 min.</td>\n",
       "      <td>37</td>\n",
       "      <td>47</td>\n",
       "      <td>Pending</td>\n",
       "      <td>1</td>\n",
       "      <td>Reality</td>\n",
       "      <td>English</td>\n",
       "    </tr>\n",
       "    <tr>\n",
       "      <th>346</th>\n",
       "      <td>Awake: The Million Dollar Game</td>\n",
       "      <td>Reality television</td>\n",
       "      <td>reality,television</td>\n",
       "      <td>14-Jun-19</td>\n",
       "      <td>1 season, 8 episodes</td>\n",
       "      <td>1</td>\n",
       "      <td>8</td>\n",
       "      <td>35–41 min.</td>\n",
       "      <td>35</td>\n",
       "      <td>41</td>\n",
       "      <td>Pending</td>\n",
       "      <td>1</td>\n",
       "      <td>Reality</td>\n",
       "      <td>English</td>\n",
       "    </tr>\n",
       "    <tr>\n",
       "      <th>347</th>\n",
       "      <td>Chelsea</td>\n",
       "      <td>Late-night</td>\n",
       "      <td>late-night</td>\n",
       "      <td>11-May-16</td>\n",
       "      <td>2 seasons, 120 episodes</td>\n",
       "      <td>2</td>\n",
       "      <td>120</td>\n",
       "      <td>27–64 min.</td>\n",
       "      <td>27</td>\n",
       "      <td>64</td>\n",
       "      <td>Ended</td>\n",
       "      <td>0</td>\n",
       "      <td>VarietyTalk</td>\n",
       "      <td>English</td>\n",
       "    </tr>\n",
       "    <tr>\n",
       "      <th>348</th>\n",
       "      <td>Bill Nye Saves the World</td>\n",
       "      <td>Science</td>\n",
       "      <td>science</td>\n",
       "      <td>21-Apr-17</td>\n",
       "      <td>3 seasons, 25 episodes</td>\n",
       "      <td>3</td>\n",
       "      <td>25</td>\n",
       "      <td>26–41 min.</td>\n",
       "      <td>26</td>\n",
       "      <td>41</td>\n",
       "      <td>Ended</td>\n",
       "      <td>0</td>\n",
       "      <td>VarietyTalk</td>\n",
       "      <td>English</td>\n",
       "    </tr>\n",
       "    <tr>\n",
       "      <th>349</th>\n",
       "      <td>Beyond Stranger Things</td>\n",
       "      <td>Aftershow</td>\n",
       "      <td>aftershow</td>\n",
       "      <td>27-Oct-17</td>\n",
       "      <td>1 season, 7 episodes</td>\n",
       "      <td>1</td>\n",
       "      <td>7</td>\n",
       "      <td>15–25 min.</td>\n",
       "      <td>15</td>\n",
       "      <td>25</td>\n",
       "      <td>Pending</td>\n",
       "      <td>1</td>\n",
       "      <td>VarietyTalk</td>\n",
       "      <td>English</td>\n",
       "    </tr>\n",
       "    <tr>\n",
       "      <th>350</th>\n",
       "      <td>My Next Guest Needs No Introduction with David...</td>\n",
       "      <td>Interview</td>\n",
       "      <td>interview</td>\n",
       "      <td>12-Jan-18</td>\n",
       "      <td>2 seasons, 12 episodes</td>\n",
       "      <td>2</td>\n",
       "      <td>12</td>\n",
       "      <td>41–58 min.</td>\n",
       "      <td>41</td>\n",
       "      <td>58</td>\n",
       "      <td>Pending</td>\n",
       "      <td>1</td>\n",
       "      <td>VarietyTalk</td>\n",
       "      <td>English</td>\n",
       "    </tr>\n",
       "    <tr>\n",
       "      <th>351</th>\n",
       "      <td>The Joel McHale Show with Joel McHale</td>\n",
       "      <td>Comedy</td>\n",
       "      <td>comedy</td>\n",
       "      <td>18-Feb-18</td>\n",
       "      <td>2 parts, 19 episodes</td>\n",
       "      <td>0</td>\n",
       "      <td>19</td>\n",
       "      <td>22–28 min.</td>\n",
       "      <td>22</td>\n",
       "      <td>28</td>\n",
       "      <td>Ended</td>\n",
       "      <td>0</td>\n",
       "      <td>VarietyTalk</td>\n",
       "      <td>English</td>\n",
       "    </tr>\n",
       "    <tr>\n",
       "      <th>352</th>\n",
       "      <td>A Little Help with Carol Burnett</td>\n",
       "      <td>Variety show</td>\n",
       "      <td>variety,show</td>\n",
       "      <td>4-May-18</td>\n",
       "      <td>1 season, 12 episodes</td>\n",
       "      <td>1</td>\n",
       "      <td>12</td>\n",
       "      <td>21–29 min.</td>\n",
       "      <td>21</td>\n",
       "      <td>29</td>\n",
       "      <td>Ended</td>\n",
       "      <td>0</td>\n",
       "      <td>VarietyTalk</td>\n",
       "      <td>English</td>\n",
       "    </tr>\n",
       "    <tr>\n",
       "      <th>353</th>\n",
       "      <td>Busted!</td>\n",
       "      <td>Korean language variety show</td>\n",
       "      <td>korean,language,variety,show</td>\n",
       "      <td>4-May-18</td>\n",
       "      <td>1 season, 10 episodes</td>\n",
       "      <td>1</td>\n",
       "      <td>10</td>\n",
       "      <td>75–98 min.</td>\n",
       "      <td>75</td>\n",
       "      <td>98</td>\n",
       "      <td>Renewed</td>\n",
       "      <td>1</td>\n",
       "      <td>VarietyTalk</td>\n",
       "      <td>Korean</td>\n",
       "    </tr>\n",
       "    <tr>\n",
       "      <th>354</th>\n",
       "      <td>The Break with Michelle Wolf</td>\n",
       "      <td>Late-night</td>\n",
       "      <td>late-night</td>\n",
       "      <td>27-May-18</td>\n",
       "      <td>1 season, 10 episodes</td>\n",
       "      <td>1</td>\n",
       "      <td>10</td>\n",
       "      <td>27 min.</td>\n",
       "      <td>27</td>\n",
       "      <td>27</td>\n",
       "      <td>Renewed</td>\n",
       "      <td>1</td>\n",
       "      <td>VarietyTalk</td>\n",
       "      <td>English</td>\n",
       "    </tr>\n",
       "    <tr>\n",
       "      <th>355</th>\n",
       "      <td>Norm Macdonald Has a Show</td>\n",
       "      <td>Talk show</td>\n",
       "      <td>talk,show</td>\n",
       "      <td>14-Sep-18</td>\n",
       "      <td>1 season, 10 episodes</td>\n",
       "      <td>1</td>\n",
       "      <td>10</td>\n",
       "      <td>26–35 min.</td>\n",
       "      <td>26</td>\n",
       "      <td>35</td>\n",
       "      <td>Pending</td>\n",
       "      <td>1</td>\n",
       "      <td>VarietyTalk</td>\n",
       "      <td>English</td>\n",
       "    </tr>\n",
       "    <tr>\n",
       "      <th>356</th>\n",
       "      <td>Patriot Act with Hasan Minhaj</td>\n",
       "      <td>Talk show</td>\n",
       "      <td>talk,show</td>\n",
       "      <td>28-Oct-18</td>\n",
       "      <td>3 volumes, 19 episodes</td>\n",
       "      <td>0</td>\n",
       "      <td>19</td>\n",
       "      <td>23–30 min.</td>\n",
       "      <td>23</td>\n",
       "      <td>30</td>\n",
       "      <td>Renewed</td>\n",
       "      <td>1</td>\n",
       "      <td>VarietyTalk</td>\n",
       "      <td>English</td>\n",
       "    </tr>\n",
       "    <tr>\n",
       "      <th>357</th>\n",
       "      <td>The Fix</td>\n",
       "      <td>Panel show</td>\n",
       "      <td>panel,show</td>\n",
       "      <td>14-Dec-18</td>\n",
       "      <td>1 season, 10 episodes</td>\n",
       "      <td>1</td>\n",
       "      <td>10</td>\n",
       "      <td>23–31 min.</td>\n",
       "      <td>23</td>\n",
       "      <td>31</td>\n",
       "      <td>Pending</td>\n",
       "      <td>1</td>\n",
       "      <td>VarietyTalk</td>\n",
       "      <td>English</td>\n",
       "    </tr>\n",
       "  </tbody>\n",
       "</table>\n",
       "</div>"
      ],
      "text/plain": [
       "                                                 Title  \\\n",
       "338                                 Nailed It! Holiday   \n",
       "339                        Tidying Up with Marie Kondo   \n",
       "340                                  Nailed It! Mexico   \n",
       "341                                      Dating Around   \n",
       "342                                     Selling Sunset   \n",
       "343                                       You vs. Wild   \n",
       "344                                             Flinch   \n",
       "345                                          Jailbirds   \n",
       "346                     Awake: The Million Dollar Game   \n",
       "347                                            Chelsea   \n",
       "348                           Bill Nye Saves the World   \n",
       "349                             Beyond Stranger Things   \n",
       "350  My Next Guest Needs No Introduction with David...   \n",
       "351              The Joel McHale Show with Joel McHale   \n",
       "352                   A Little Help with Carol Burnett   \n",
       "353                                            Busted!   \n",
       "354                       The Break with Michelle Wolf   \n",
       "355                          Norm Macdonald Has a Show   \n",
       "356                      Patriot Act with Hasan Minhaj   \n",
       "357                                            The Fix   \n",
       "\n",
       "                            Genre                   GenreLabels   Premiere  \\\n",
       "338           Reality competition           reality,competition   7-Dec-18   \n",
       "339                  Reality show                  reality,show   1-Jan-19   \n",
       "340                       Reality                       reality   8-Feb-19   \n",
       "341                       Reality                       reality  14-Feb-19   \n",
       "342                       Reality                       reality  22-Mar-19   \n",
       "343           Interactive Reality           interactive,reality  10-Apr-19   \n",
       "344  Reality television/game show  reality,television,game,show   3-May-19   \n",
       "345            Reality television            reality,television  10-May-19   \n",
       "346            Reality television            reality,television  14-Jun-19   \n",
       "347                    Late-night                    late-night  11-May-16   \n",
       "348                       Science                       science  21-Apr-17   \n",
       "349                     Aftershow                     aftershow  27-Oct-17   \n",
       "350                     Interview                     interview  12-Jan-18   \n",
       "351                        Comedy                        comedy  18-Feb-18   \n",
       "352                  Variety show                  variety,show   4-May-18   \n",
       "353  Korean language variety show  korean,language,variety,show   4-May-18   \n",
       "354                    Late-night                    late-night  27-May-18   \n",
       "355                     Talk show                     talk,show  14-Sep-18   \n",
       "356                     Talk show                     talk,show  28-Oct-18   \n",
       "357                    Panel show                    panel,show  14-Dec-18   \n",
       "\n",
       "                     Seasons  SeasonsParsed  EpisodesParsed      Length  \\\n",
       "338     1 season, 7 episodes              1               7  33–35 min.   \n",
       "339     1 season, 8 episodes              1               8  35–47 min.   \n",
       "340     1 season, 6 episodes              1               6  32–34 min.   \n",
       "341     1 season, 6 episodes              1               6  24–30 min.   \n",
       "342     1 season, 8 episodes              1               8  28–42 min.   \n",
       "343     1 season, 8 episodes              1               8  14–26 min.   \n",
       "344    1 season, 10 episodes              1              10  20–25 min.   \n",
       "345    1 season, 10 episodes              1              10  37–47 min.   \n",
       "346     1 season, 8 episodes              1               8  35–41 min.   \n",
       "347  2 seasons, 120 episodes              2             120  27–64 min.   \n",
       "348   3 seasons, 25 episodes              3              25  26–41 min.   \n",
       "349     1 season, 7 episodes              1               7  15–25 min.   \n",
       "350   2 seasons, 12 episodes              2              12  41–58 min.   \n",
       "351     2 parts, 19 episodes              0              19  22–28 min.   \n",
       "352    1 season, 12 episodes              1              12  21–29 min.   \n",
       "353    1 season, 10 episodes              1              10  75–98 min.   \n",
       "354    1 season, 10 episodes              1              10     27 min.   \n",
       "355    1 season, 10 episodes              1              10  26–35 min.   \n",
       "356   3 volumes, 19 episodes              0              19  23–30 min.   \n",
       "357    1 season, 10 episodes              1              10  23–31 min.   \n",
       "\n",
       "     MinLength  MaxLength   Status  Active        Table Language  \n",
       "338         33         35  Pending       1      Reality  English  \n",
       "339         35         47  Pending       1      Reality  English  \n",
       "340         32         34  Pending       1      Reality  English  \n",
       "341         24         30  Pending       1      Reality  English  \n",
       "342         28         42  Pending       1      Reality  English  \n",
       "343         14         26  Pending       1      Reality  English  \n",
       "344         20         25  Pending       1      Reality  English  \n",
       "345         37         47  Pending       1      Reality  English  \n",
       "346         35         41  Pending       1      Reality  English  \n",
       "347         27         64    Ended       0  VarietyTalk  English  \n",
       "348         26         41    Ended       0  VarietyTalk  English  \n",
       "349         15         25  Pending       1  VarietyTalk  English  \n",
       "350         41         58  Pending       1  VarietyTalk  English  \n",
       "351         22         28    Ended       0  VarietyTalk  English  \n",
       "352         21         29    Ended       0  VarietyTalk  English  \n",
       "353         75         98  Renewed       1  VarietyTalk   Korean  \n",
       "354         27         27  Renewed       1  VarietyTalk  English  \n",
       "355         26         35  Pending       1  VarietyTalk  English  \n",
       "356         23         30  Renewed       1  VarietyTalk  English  \n",
       "357         23         31  Pending       1  VarietyTalk  English  "
      ]
     },
     "execution_count": 18,
     "metadata": {},
     "output_type": "execute_result"
    }
   ],
   "source": [
    "#df.head(50)\n",
    "df.tail(20)"
   ]
  },
  {
   "cell_type": "code",
   "execution_count": 23,
   "metadata": {},
   "outputs": [
    {
     "data": {
      "text/plain": [
       "(358, 14)"
      ]
     },
     "execution_count": 23,
     "metadata": {},
     "output_type": "execute_result"
    }
   ],
   "source": [
    "df.shape"
   ]
  },
  {
   "cell_type": "code",
   "execution_count": 29,
   "metadata": {},
   "outputs": [
    {
     "data": {
      "text/html": [
       "<div>\n",
       "<style scoped>\n",
       "    .dataframe tbody tr th:only-of-type {\n",
       "        vertical-align: middle;\n",
       "    }\n",
       "\n",
       "    .dataframe tbody tr th {\n",
       "        vertical-align: top;\n",
       "    }\n",
       "\n",
       "    .dataframe thead th {\n",
       "        text-align: right;\n",
       "    }\n",
       "</style>\n",
       "<table border=\"1\" class=\"dataframe\">\n",
       "  <thead>\n",
       "    <tr style=\"text-align: right;\">\n",
       "      <th></th>\n",
       "      <th>Title</th>\n",
       "      <th>Genre</th>\n",
       "    </tr>\n",
       "  </thead>\n",
       "  <tbody>\n",
       "    <tr>\n",
       "      <th>0</th>\n",
       "      <td>House of Cards</td>\n",
       "      <td>Political drama</td>\n",
       "    </tr>\n",
       "    <tr>\n",
       "      <th>1</th>\n",
       "      <td>Hemlock Grove</td>\n",
       "      <td>Horror/thriller</td>\n",
       "    </tr>\n",
       "    <tr>\n",
       "      <th>2</th>\n",
       "      <td>Orange Is the New Black</td>\n",
       "      <td>Comedy-drama</td>\n",
       "    </tr>\n",
       "    <tr>\n",
       "      <th>3</th>\n",
       "      <td>Marco Polo</td>\n",
       "      <td>Historical drama</td>\n",
       "    </tr>\n",
       "    <tr>\n",
       "      <th>4</th>\n",
       "      <td>Bloodline</td>\n",
       "      <td>Thriller</td>\n",
       "    </tr>\n",
       "    <tr>\n",
       "      <th>5</th>\n",
       "      <td>Sense8</td>\n",
       "      <td>Science fiction</td>\n",
       "    </tr>\n",
       "    <tr>\n",
       "      <th>6</th>\n",
       "      <td>Narcos</td>\n",
       "      <td>Crime drama</td>\n",
       "    </tr>\n",
       "    <tr>\n",
       "      <th>7</th>\n",
       "      <td>Stranger Things</td>\n",
       "      <td>Science fiction/horror</td>\n",
       "    </tr>\n",
       "    <tr>\n",
       "      <th>8</th>\n",
       "      <td>The Get Down</td>\n",
       "      <td>Musical drama</td>\n",
       "    </tr>\n",
       "    <tr>\n",
       "      <th>9</th>\n",
       "      <td>The Crown</td>\n",
       "      <td>Historical drama</td>\n",
       "    </tr>\n",
       "  </tbody>\n",
       "</table>\n",
       "</div>"
      ],
      "text/plain": [
       "                     Title                   Genre\n",
       "0           House of Cards         Political drama\n",
       "1            Hemlock Grove         Horror/thriller\n",
       "2  Orange Is the New Black            Comedy-drama\n",
       "3               Marco Polo        Historical drama\n",
       "4                Bloodline                Thriller\n",
       "5                   Sense8         Science fiction\n",
       "6                   Narcos             Crime drama\n",
       "7          Stranger Things  Science fiction/horror\n",
       "8             The Get Down           Musical drama\n",
       "9                The Crown        Historical drama"
      ]
     },
     "execution_count": 29,
     "metadata": {},
     "output_type": "execute_result"
    }
   ],
   "source": [
    "df[['Title', 'Genre']].head(10)"
   ]
  },
  {
   "cell_type": "code",
   "execution_count": null,
   "metadata": {},
   "outputs": [],
   "source": [
    "import pandas as pd\n",
    "import os\n",
    "\n",
    "dl = pd.read_csv('titanic_dataset.csv', header=0, sep=',')"
   ]
  }
 ],
 "metadata": {
  "kernelspec": {
   "display_name": "base",
   "language": "python",
   "name": "python3"
  },
  "language_info": {
   "codemirror_mode": {
    "name": "ipython",
    "version": 3
   },
   "file_extension": ".py",
   "mimetype": "text/x-python",
   "name": "python",
   "nbconvert_exporter": "python",
   "pygments_lexer": "ipython3",
   "version": "3.10.12"
  },
  "orig_nbformat": 4
 },
 "nbformat": 4,
 "nbformat_minor": 2
}
