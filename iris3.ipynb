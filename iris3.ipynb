{
 "cells": [
  {
   "cell_type": "code",
   "execution_count": 16,
   "metadata": {},
   "outputs": [],
   "source": [
    "import pandas as pd\n",
    "from sklearn.model_selection import train_test_split\n",
    "from sklearn.preprocessing import LabelEncoder\n",
    "from sklearn.linear_model import LogisticRegression\n"
   ]
  },
  {
   "cell_type": "code",
   "execution_count": 5,
   "metadata": {},
   "outputs": [
    {
     "data": {
      "text/html": [
       "<div>\n",
       "<style scoped>\n",
       "    .dataframe tbody tr th:only-of-type {\n",
       "        vertical-align: middle;\n",
       "    }\n",
       "\n",
       "    .dataframe tbody tr th {\n",
       "        vertical-align: top;\n",
       "    }\n",
       "\n",
       "    .dataframe thead th {\n",
       "        text-align: right;\n",
       "    }\n",
       "</style>\n",
       "<table border=\"1\" class=\"dataframe\">\n",
       "  <thead>\n",
       "    <tr style=\"text-align: right;\">\n",
       "      <th></th>\n",
       "      <th>sepal_length</th>\n",
       "      <th>sepal_width</th>\n",
       "      <th>petal_length</th>\n",
       "      <th>petal_width</th>\n",
       "      <th>species</th>\n",
       "    </tr>\n",
       "  </thead>\n",
       "  <tbody>\n",
       "    <tr>\n",
       "      <th>0</th>\n",
       "      <td>5.1</td>\n",
       "      <td>3.5</td>\n",
       "      <td>1.4</td>\n",
       "      <td>0.2</td>\n",
       "      <td>Iris-setosa</td>\n",
       "    </tr>\n",
       "    <tr>\n",
       "      <th>1</th>\n",
       "      <td>4.9</td>\n",
       "      <td>3.0</td>\n",
       "      <td>1.4</td>\n",
       "      <td>0.2</td>\n",
       "      <td>Iris-setosa</td>\n",
       "    </tr>\n",
       "    <tr>\n",
       "      <th>2</th>\n",
       "      <td>4.7</td>\n",
       "      <td>3.2</td>\n",
       "      <td>1.3</td>\n",
       "      <td>0.2</td>\n",
       "      <td>Iris-setosa</td>\n",
       "    </tr>\n",
       "    <tr>\n",
       "      <th>3</th>\n",
       "      <td>4.6</td>\n",
       "      <td>3.1</td>\n",
       "      <td>1.5</td>\n",
       "      <td>0.2</td>\n",
       "      <td>Iris-setosa</td>\n",
       "    </tr>\n",
       "    <tr>\n",
       "      <th>4</th>\n",
       "      <td>5.0</td>\n",
       "      <td>3.6</td>\n",
       "      <td>1.4</td>\n",
       "      <td>0.2</td>\n",
       "      <td>Iris-setosa</td>\n",
       "    </tr>\n",
       "  </tbody>\n",
       "</table>\n",
       "</div>"
      ],
      "text/plain": [
       "   sepal_length  sepal_width  petal_length  petal_width      species\n",
       "0           5.1          3.5           1.4          0.2  Iris-setosa\n",
       "1           4.9          3.0           1.4          0.2  Iris-setosa\n",
       "2           4.7          3.2           1.3          0.2  Iris-setosa\n",
       "3           4.6          3.1           1.5          0.2  Iris-setosa\n",
       "4           5.0          3.6           1.4          0.2  Iris-setosa"
      ]
     },
     "execution_count": 5,
     "metadata": {},
     "output_type": "execute_result"
    }
   ],
   "source": [
    "df = pd.read_csv('iris.csv.txt',sep=',',header=0)\n",
    "df.head()\n"
   ]
  },
  {
   "cell_type": "code",
   "execution_count": 6,
   "metadata": {},
   "outputs": [],
   "source": [
    "test = pd.read_csv('iris_test.csv',sep=',',header=0)"
   ]
  },
  {
   "cell_type": "code",
   "execution_count": 7,
   "metadata": {},
   "outputs": [],
   "source": [
    "features = ['sepal_length', 'sepal_width', 'petal_length', 'petal_width']\n",
    "label = 'species'"
   ]
  },
  {
   "cell_type": "code",
   "execution_count": 8,
   "metadata": {},
   "outputs": [
    {
     "data": {
      "text/plain": [
       "array([0, 0, 0, 0, 0, 0, 0, 0, 0, 0, 0, 0, 0, 0, 0, 0, 0, 0, 0, 0, 0, 0,\n",
       "       0, 0, 0, 0, 0, 0, 0, 0, 0, 0, 0, 0, 0, 0, 0, 0, 0, 0, 0, 0, 0, 0,\n",
       "       0, 0, 0, 0, 0, 0, 1, 1, 1, 1, 1, 1, 1, 1, 1, 1, 1, 1, 1, 1, 1, 1,\n",
       "       1, 1, 1, 1, 1, 1, 1, 1, 1, 1, 1, 1, 1, 1, 1, 1, 1, 1, 1, 1, 1, 1,\n",
       "       1, 1, 1, 1, 1, 1, 1, 1, 1, 1, 1, 1, 2, 2, 2, 2, 2, 2, 2, 2, 2, 2,\n",
       "       2, 2, 2, 2, 2, 2, 2, 2, 2, 2, 2, 2, 2, 2, 2, 2, 2, 2, 2, 2, 2, 2,\n",
       "       2, 2, 2, 2, 2, 2, 2, 2, 2, 2, 2, 2, 2, 2, 2, 2, 2, 2])"
      ]
     },
     "execution_count": 8,
     "metadata": {},
     "output_type": "execute_result"
    }
   ],
   "source": [
    "le=LabelEncoder()\n",
    "y=le.fit_transform(df[label])\n",
    "y"
   ]
  },
  {
   "cell_type": "code",
   "execution_count": 9,
   "metadata": {},
   "outputs": [],
   "source": [
    "xtrain,xtest,ytrain,ytest=train_test_split(df[features],y,test_size=0.20,random_state=0)"
   ]
  },
  {
   "cell_type": "code",
   "execution_count": 10,
   "metadata": {},
   "outputs": [
    {
     "name": "stdout",
     "output_type": "stream",
     "text": [
      "xtrain.shape:\n",
      "(120, 4)\n",
      "\n",
      "len(ytrain):\n",
      "120\n",
      "\n",
      "xtest.shape:\n",
      "(30, 4)\n",
      "\n",
      "len(ytest):\n",
      "30\n"
     ]
    }
   ],
   "source": [
    "print('xtrain.shape:')\n",
    "print(xtrain.shape)\n",
    "\n",
    "print('\\nlen(ytrain):')\n",
    "print(len(ytrain))\n",
    "\n",
    "print('\\nxtest.shape:')\n",
    "print(xtest.shape)\n",
    "\n",
    "print('\\nlen(ytest):')\n",
    "print(len(ytest))"
   ]
  },
  {
   "cell_type": "code",
   "execution_count": 11,
   "metadata": {},
   "outputs": [],
   "source": [
    "svm = LogisticRegression(max_iter=1000)\n",
    "modelo = svm.fit(xtrain, ytrain)"
   ]
  },
  {
   "cell_type": "code",
   "execution_count": 12,
   "metadata": {},
   "outputs": [],
   "source": [
    "predicciones_test = modelo.predict(test[features])"
   ]
  },
  {
   "cell_type": "code",
   "execution_count": 13,
   "metadata": {},
   "outputs": [],
   "source": [
    "predicciones_decodificadas = le.inverse_transform(predicciones_test)"
   ]
  },
  {
   "cell_type": "code",
   "execution_count": 14,
   "metadata": {},
   "outputs": [],
   "source": [
    "test['species'] = predicciones_decodificadas"
   ]
  },
  {
   "cell_type": "code",
   "execution_count": 15,
   "metadata": {},
   "outputs": [
    {
     "name": "stdout",
     "output_type": "stream",
     "text": [
      "    sepal_length  sepal_width  petal_length  petal_width          species\n",
      "0            5.1          3.5           1.4          0.2      Iris-setosa\n",
      "1            4.9          3.0           1.4          0.2      Iris-setosa\n",
      "2            4.7          3.2           1.3          0.2      Iris-setosa\n",
      "3            4.6          3.1           1.5          0.2      Iris-setosa\n",
      "4            5.0          3.6           1.4          0.2      Iris-setosa\n",
      "5            5.4          3.9           1.7          0.4      Iris-setosa\n",
      "6            4.6          3.4           1.4          0.3      Iris-setosa\n",
      "7            5.0          3.4           1.5          0.2      Iris-setosa\n",
      "8            4.4          2.9           1.4          0.2      Iris-setosa\n",
      "9            4.9          3.1           1.5          0.1      Iris-setosa\n",
      "10           5.4          3.0           4.5          1.5  Iris-versicolor\n",
      "11           6.0          3.4           4.5          1.6  Iris-versicolor\n",
      "12           6.7          3.1           4.7          1.5  Iris-versicolor\n",
      "13           6.3          2.3           4.4          1.3  Iris-versicolor\n",
      "14           5.6          3.0           4.1          1.3  Iris-versicolor\n",
      "15           5.5          2.5           4.0          1.3  Iris-versicolor\n",
      "16           5.5          2.6           4.4          1.2  Iris-versicolor\n",
      "17           6.1          3.0           4.6          1.4  Iris-versicolor\n",
      "18           5.8          2.6           4.0          1.2  Iris-versicolor\n",
      "19           5.0          2.3           3.3          1.0  Iris-versicolor\n",
      "20           5.6          2.7           4.2          1.3  Iris-versicolor\n",
      "21           5.7          3.0           4.2          1.2  Iris-versicolor\n",
      "22           5.7          2.9           4.2          1.3  Iris-versicolor\n",
      "23           6.2          2.9           4.3          1.3  Iris-versicolor\n",
      "24           5.1          2.5           3.0          1.1  Iris-versicolor\n",
      "25           5.7          2.8           4.1          1.3  Iris-versicolor\n",
      "26           6.3          3.3           6.0          2.5   Iris-virginica\n",
      "27           5.8          2.7           5.1          1.9   Iris-virginica\n",
      "28           7.1          3.0           5.9          2.1   Iris-virginica\n",
      "29           6.3          2.9           5.6          1.8   Iris-virginica\n",
      "30           6.5          3.0           5.8          2.2   Iris-virginica\n",
      "31           7.6          3.0           6.6          2.1   Iris-virginica\n",
      "32           4.9          2.5           4.5          1.7  Iris-versicolor\n"
     ]
    }
   ],
   "source": [
    "print(test)"
   ]
  }
 ],
 "metadata": {
  "kernelspec": {
   "display_name": "Python 3",
   "language": "python",
   "name": "python3"
  },
  "language_info": {
   "codemirror_mode": {
    "name": "ipython",
    "version": 3
   },
   "file_extension": ".py",
   "mimetype": "text/x-python",
   "name": "python",
   "nbconvert_exporter": "python",
   "pygments_lexer": "ipython3",
   "version": "3.10.12"
  }
 },
 "nbformat": 4,
 "nbformat_minor": 2
}
