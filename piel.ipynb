{
  "nbformat": 4,
  "nbformat_minor": 0,
  "metadata": {
    "colab": {
      "provenance": []
    },
    "kernelspec": {
      "name": "python3",
      "display_name": "Python 3"
    },
    "language_info": {
      "name": "python"
    }
  },
  "cells": [
    {
      "cell_type": "code",
      "execution_count": 382,
      "metadata": {
        "id": "tUPhDkYvea4O"
      },
      "outputs": [],
      "source": [
        "import pandas as pd\n"
      ]
    },
    {
      "cell_type": "code",
      "source": [
        "from sklearn.svm import SVC #algoritmo maquina soporte vecotrial\n",
        "from sklearn.preprocessing import LabelEncoder  #manipulacion de texto se convierta a numeros\n",
        "from sklearn.model_selection import train_test_split   #genera de los datos de entrada, dos sets para,\n",
        "# uno el proceso de entrenaiento\n",
        "#y el otro para validar el proceso de entrenamiento"
      ],
      "metadata": {
        "id": "kP2F-Xwol91A"
      },
      "execution_count": 383,
      "outputs": []
    },
    {
      "cell_type": "code",
      "source": [
        "from sklearn.metrics import recall_score, accuracy_score, f1_score, confusion_matrix,classification_report\n",
        "import seaborn as asns"
      ],
      "metadata": {
        "id": "l9wX-TEVmCpb"
      },
      "execution_count": 384,
      "outputs": []
    },
    {
      "cell_type": "code",
      "source": [
        "\n",
        "from sklearn.tree import DecisionTreeClassifier, export_graphviz\n",
        "import graphviz\n",
        "from IPython.display import Image\n",
        "import pydotplus"
      ],
      "metadata": {
        "id": "gT3--RtjmDZX"
      },
      "execution_count": 385,
      "outputs": []
    },
    {
      "cell_type": "code",
      "source": [
        "df=pd.read_csv(\"/content/drive/MyDrive/Colab Notebooks/dataset/piel.csv\",sep=',',header=0)\n",
        "df.head(8)"
      ],
      "metadata": {
        "colab": {
          "base_uri": "https://localhost:8080/",
          "height": 300
        },
        "id": "o-RsWLv0hQa5",
        "outputId": "20fd8d5b-a6c6-43fc-f8cf-4f38cebf70d6"
      },
      "execution_count": 386,
      "outputs": [
        {
          "output_type": "execute_result",
          "data": {
            "text/plain": [
              "   Age At Procurement  Mutation Count Mutation Status Person Gender  \\\n",
              "0                85.0             NaN              WT          Male   \n",
              "1                 NaN           288.0       NRAS-Q61R        Female   \n",
              "2                65.0           155.0      BRAF-V600K          Male   \n",
              "3                68.0             1.0              WT          Male   \n",
              "4                58.0             2.0              WT        Female   \n",
              "5                83.0           986.0              WT          Male   \n",
              "6                56.0            92.0              WT        Female   \n",
              "7                80.0            17.0       NRAS-Q61R        Female   \n",
              "\n",
              "  Primary Tumor Site Sample Type Specimen Site Tissue Source Site         Type  \n",
              "0          head/neck     primary     head/neck              Tumor  sun-exposed  \n",
              "1          extremity  metastasis     extremity          Cell line  sun-exposed  \n",
              "2          head/neck  metastasis         trunk              Tumor  sun-exposed  \n",
              "3          head/neck     primary     head/neck              Tumor  sun-exposed  \n",
              "4          head/neck     primary     head/neck              Tumor  sun-exposed  \n",
              "5          head/neck  metastasis          lung              Tumor  sun-exposed  \n",
              "6            choroid  metastasis     head/neck              Tumor        uveal  \n",
              "7               heel     primary          sole              Tumor        acral  "
            ],
            "text/html": [
              "\n",
              "  <div id=\"df-ff4d00c8-1730-45bf-8b6e-d1c365a54d1b\" class=\"colab-df-container\">\n",
              "    <div>\n",
              "<style scoped>\n",
              "    .dataframe tbody tr th:only-of-type {\n",
              "        vertical-align: middle;\n",
              "    }\n",
              "\n",
              "    .dataframe tbody tr th {\n",
              "        vertical-align: top;\n",
              "    }\n",
              "\n",
              "    .dataframe thead th {\n",
              "        text-align: right;\n",
              "    }\n",
              "</style>\n",
              "<table border=\"1\" class=\"dataframe\">\n",
              "  <thead>\n",
              "    <tr style=\"text-align: right;\">\n",
              "      <th></th>\n",
              "      <th>Age At Procurement</th>\n",
              "      <th>Mutation Count</th>\n",
              "      <th>Mutation Status</th>\n",
              "      <th>Person Gender</th>\n",
              "      <th>Primary Tumor Site</th>\n",
              "      <th>Sample Type</th>\n",
              "      <th>Specimen Site</th>\n",
              "      <th>Tissue Source Site</th>\n",
              "      <th>Type</th>\n",
              "    </tr>\n",
              "  </thead>\n",
              "  <tbody>\n",
              "    <tr>\n",
              "      <th>0</th>\n",
              "      <td>85.0</td>\n",
              "      <td>NaN</td>\n",
              "      <td>WT</td>\n",
              "      <td>Male</td>\n",
              "      <td>head/neck</td>\n",
              "      <td>primary</td>\n",
              "      <td>head/neck</td>\n",
              "      <td>Tumor</td>\n",
              "      <td>sun-exposed</td>\n",
              "    </tr>\n",
              "    <tr>\n",
              "      <th>1</th>\n",
              "      <td>NaN</td>\n",
              "      <td>288.0</td>\n",
              "      <td>NRAS-Q61R</td>\n",
              "      <td>Female</td>\n",
              "      <td>extremity</td>\n",
              "      <td>metastasis</td>\n",
              "      <td>extremity</td>\n",
              "      <td>Cell line</td>\n",
              "      <td>sun-exposed</td>\n",
              "    </tr>\n",
              "    <tr>\n",
              "      <th>2</th>\n",
              "      <td>65.0</td>\n",
              "      <td>155.0</td>\n",
              "      <td>BRAF-V600K</td>\n",
              "      <td>Male</td>\n",
              "      <td>head/neck</td>\n",
              "      <td>metastasis</td>\n",
              "      <td>trunk</td>\n",
              "      <td>Tumor</td>\n",
              "      <td>sun-exposed</td>\n",
              "    </tr>\n",
              "    <tr>\n",
              "      <th>3</th>\n",
              "      <td>68.0</td>\n",
              "      <td>1.0</td>\n",
              "      <td>WT</td>\n",
              "      <td>Male</td>\n",
              "      <td>head/neck</td>\n",
              "      <td>primary</td>\n",
              "      <td>head/neck</td>\n",
              "      <td>Tumor</td>\n",
              "      <td>sun-exposed</td>\n",
              "    </tr>\n",
              "    <tr>\n",
              "      <th>4</th>\n",
              "      <td>58.0</td>\n",
              "      <td>2.0</td>\n",
              "      <td>WT</td>\n",
              "      <td>Female</td>\n",
              "      <td>head/neck</td>\n",
              "      <td>primary</td>\n",
              "      <td>head/neck</td>\n",
              "      <td>Tumor</td>\n",
              "      <td>sun-exposed</td>\n",
              "    </tr>\n",
              "    <tr>\n",
              "      <th>5</th>\n",
              "      <td>83.0</td>\n",
              "      <td>986.0</td>\n",
              "      <td>WT</td>\n",
              "      <td>Male</td>\n",
              "      <td>head/neck</td>\n",
              "      <td>metastasis</td>\n",
              "      <td>lung</td>\n",
              "      <td>Tumor</td>\n",
              "      <td>sun-exposed</td>\n",
              "    </tr>\n",
              "    <tr>\n",
              "      <th>6</th>\n",
              "      <td>56.0</td>\n",
              "      <td>92.0</td>\n",
              "      <td>WT</td>\n",
              "      <td>Female</td>\n",
              "      <td>choroid</td>\n",
              "      <td>metastasis</td>\n",
              "      <td>head/neck</td>\n",
              "      <td>Tumor</td>\n",
              "      <td>uveal</td>\n",
              "    </tr>\n",
              "    <tr>\n",
              "      <th>7</th>\n",
              "      <td>80.0</td>\n",
              "      <td>17.0</td>\n",
              "      <td>NRAS-Q61R</td>\n",
              "      <td>Female</td>\n",
              "      <td>heel</td>\n",
              "      <td>primary</td>\n",
              "      <td>sole</td>\n",
              "      <td>Tumor</td>\n",
              "      <td>acral</td>\n",
              "    </tr>\n",
              "  </tbody>\n",
              "</table>\n",
              "</div>\n",
              "    <div class=\"colab-df-buttons\">\n",
              "\n",
              "  <div class=\"colab-df-container\">\n",
              "    <button class=\"colab-df-convert\" onclick=\"convertToInteractive('df-ff4d00c8-1730-45bf-8b6e-d1c365a54d1b')\"\n",
              "            title=\"Convert this dataframe to an interactive table.\"\n",
              "            style=\"display:none;\">\n",
              "\n",
              "  <svg xmlns=\"http://www.w3.org/2000/svg\" height=\"24px\" viewBox=\"0 -960 960 960\">\n",
              "    <path d=\"M120-120v-720h720v720H120Zm60-500h600v-160H180v160Zm220 220h160v-160H400v160Zm0 220h160v-160H400v160ZM180-400h160v-160H180v160Zm440 0h160v-160H620v160ZM180-180h160v-160H180v160Zm440 0h160v-160H620v160Z\"/>\n",
              "  </svg>\n",
              "    </button>\n",
              "\n",
              "  <style>\n",
              "    .colab-df-container {\n",
              "      display:flex;\n",
              "      gap: 12px;\n",
              "    }\n",
              "\n",
              "    .colab-df-convert {\n",
              "      background-color: #E8F0FE;\n",
              "      border: none;\n",
              "      border-radius: 50%;\n",
              "      cursor: pointer;\n",
              "      display: none;\n",
              "      fill: #1967D2;\n",
              "      height: 32px;\n",
              "      padding: 0 0 0 0;\n",
              "      width: 32px;\n",
              "    }\n",
              "\n",
              "    .colab-df-convert:hover {\n",
              "      background-color: #E2EBFA;\n",
              "      box-shadow: 0px 1px 2px rgba(60, 64, 67, 0.3), 0px 1px 3px 1px rgba(60, 64, 67, 0.15);\n",
              "      fill: #174EA6;\n",
              "    }\n",
              "\n",
              "    .colab-df-buttons div {\n",
              "      margin-bottom: 4px;\n",
              "    }\n",
              "\n",
              "    [theme=dark] .colab-df-convert {\n",
              "      background-color: #3B4455;\n",
              "      fill: #D2E3FC;\n",
              "    }\n",
              "\n",
              "    [theme=dark] .colab-df-convert:hover {\n",
              "      background-color: #434B5C;\n",
              "      box-shadow: 0px 1px 3px 1px rgba(0, 0, 0, 0.15);\n",
              "      filter: drop-shadow(0px 1px 2px rgba(0, 0, 0, 0.3));\n",
              "      fill: #FFFFFF;\n",
              "    }\n",
              "  </style>\n",
              "\n",
              "    <script>\n",
              "      const buttonEl =\n",
              "        document.querySelector('#df-ff4d00c8-1730-45bf-8b6e-d1c365a54d1b button.colab-df-convert');\n",
              "      buttonEl.style.display =\n",
              "        google.colab.kernel.accessAllowed ? 'block' : 'none';\n",
              "\n",
              "      async function convertToInteractive(key) {\n",
              "        const element = document.querySelector('#df-ff4d00c8-1730-45bf-8b6e-d1c365a54d1b');\n",
              "        const dataTable =\n",
              "          await google.colab.kernel.invokeFunction('convertToInteractive',\n",
              "                                                    [key], {});\n",
              "        if (!dataTable) return;\n",
              "\n",
              "        const docLinkHtml = 'Like what you see? Visit the ' +\n",
              "          '<a target=\"_blank\" href=https://colab.research.google.com/notebooks/data_table.ipynb>data table notebook</a>'\n",
              "          + ' to learn more about interactive tables.';\n",
              "        element.innerHTML = '';\n",
              "        dataTable['output_type'] = 'display_data';\n",
              "        await google.colab.output.renderOutput(dataTable, element);\n",
              "        const docLink = document.createElement('div');\n",
              "        docLink.innerHTML = docLinkHtml;\n",
              "        element.appendChild(docLink);\n",
              "      }\n",
              "    </script>\n",
              "  </div>\n",
              "\n",
              "\n",
              "<div id=\"df-3f5599f6-595e-40bf-a1ec-afb22f723e8c\">\n",
              "  <button class=\"colab-df-quickchart\" onclick=\"quickchart('df-3f5599f6-595e-40bf-a1ec-afb22f723e8c')\"\n",
              "            title=\"Suggest charts\"\n",
              "            style=\"display:none;\">\n",
              "\n",
              "<svg xmlns=\"http://www.w3.org/2000/svg\" height=\"24px\"viewBox=\"0 0 24 24\"\n",
              "     width=\"24px\">\n",
              "    <g>\n",
              "        <path d=\"M19 3H5c-1.1 0-2 .9-2 2v14c0 1.1.9 2 2 2h14c1.1 0 2-.9 2-2V5c0-1.1-.9-2-2-2zM9 17H7v-7h2v7zm4 0h-2V7h2v10zm4 0h-2v-4h2v4z\"/>\n",
              "    </g>\n",
              "</svg>\n",
              "  </button>\n",
              "\n",
              "<style>\n",
              "  .colab-df-quickchart {\n",
              "      --bg-color: #E8F0FE;\n",
              "      --fill-color: #1967D2;\n",
              "      --hover-bg-color: #E2EBFA;\n",
              "      --hover-fill-color: #174EA6;\n",
              "      --disabled-fill-color: #AAA;\n",
              "      --disabled-bg-color: #DDD;\n",
              "  }\n",
              "\n",
              "  [theme=dark] .colab-df-quickchart {\n",
              "      --bg-color: #3B4455;\n",
              "      --fill-color: #D2E3FC;\n",
              "      --hover-bg-color: #434B5C;\n",
              "      --hover-fill-color: #FFFFFF;\n",
              "      --disabled-bg-color: #3B4455;\n",
              "      --disabled-fill-color: #666;\n",
              "  }\n",
              "\n",
              "  .colab-df-quickchart {\n",
              "    background-color: var(--bg-color);\n",
              "    border: none;\n",
              "    border-radius: 50%;\n",
              "    cursor: pointer;\n",
              "    display: none;\n",
              "    fill: var(--fill-color);\n",
              "    height: 32px;\n",
              "    padding: 0;\n",
              "    width: 32px;\n",
              "  }\n",
              "\n",
              "  .colab-df-quickchart:hover {\n",
              "    background-color: var(--hover-bg-color);\n",
              "    box-shadow: 0 1px 2px rgba(60, 64, 67, 0.3), 0 1px 3px 1px rgba(60, 64, 67, 0.15);\n",
              "    fill: var(--button-hover-fill-color);\n",
              "  }\n",
              "\n",
              "  .colab-df-quickchart-complete:disabled,\n",
              "  .colab-df-quickchart-complete:disabled:hover {\n",
              "    background-color: var(--disabled-bg-color);\n",
              "    fill: var(--disabled-fill-color);\n",
              "    box-shadow: none;\n",
              "  }\n",
              "\n",
              "  .colab-df-spinner {\n",
              "    border: 2px solid var(--fill-color);\n",
              "    border-color: transparent;\n",
              "    border-bottom-color: var(--fill-color);\n",
              "    animation:\n",
              "      spin 1s steps(1) infinite;\n",
              "  }\n",
              "\n",
              "  @keyframes spin {\n",
              "    0% {\n",
              "      border-color: transparent;\n",
              "      border-bottom-color: var(--fill-color);\n",
              "      border-left-color: var(--fill-color);\n",
              "    }\n",
              "    20% {\n",
              "      border-color: transparent;\n",
              "      border-left-color: var(--fill-color);\n",
              "      border-top-color: var(--fill-color);\n",
              "    }\n",
              "    30% {\n",
              "      border-color: transparent;\n",
              "      border-left-color: var(--fill-color);\n",
              "      border-top-color: var(--fill-color);\n",
              "      border-right-color: var(--fill-color);\n",
              "    }\n",
              "    40% {\n",
              "      border-color: transparent;\n",
              "      border-right-color: var(--fill-color);\n",
              "      border-top-color: var(--fill-color);\n",
              "    }\n",
              "    60% {\n",
              "      border-color: transparent;\n",
              "      border-right-color: var(--fill-color);\n",
              "    }\n",
              "    80% {\n",
              "      border-color: transparent;\n",
              "      border-right-color: var(--fill-color);\n",
              "      border-bottom-color: var(--fill-color);\n",
              "    }\n",
              "    90% {\n",
              "      border-color: transparent;\n",
              "      border-bottom-color: var(--fill-color);\n",
              "    }\n",
              "  }\n",
              "</style>\n",
              "\n",
              "  <script>\n",
              "    async function quickchart(key) {\n",
              "      const quickchartButtonEl =\n",
              "        document.querySelector('#' + key + ' button');\n",
              "      quickchartButtonEl.disabled = true;  // To prevent multiple clicks.\n",
              "      quickchartButtonEl.classList.add('colab-df-spinner');\n",
              "      try {\n",
              "        const charts = await google.colab.kernel.invokeFunction(\n",
              "            'suggestCharts', [key], {});\n",
              "      } catch (error) {\n",
              "        console.error('Error during call to suggestCharts:', error);\n",
              "      }\n",
              "      quickchartButtonEl.classList.remove('colab-df-spinner');\n",
              "      quickchartButtonEl.classList.add('colab-df-quickchart-complete');\n",
              "    }\n",
              "    (() => {\n",
              "      let quickchartButtonEl =\n",
              "        document.querySelector('#df-3f5599f6-595e-40bf-a1ec-afb22f723e8c button');\n",
              "      quickchartButtonEl.style.display =\n",
              "        google.colab.kernel.accessAllowed ? 'block' : 'none';\n",
              "    })();\n",
              "  </script>\n",
              "</div>\n",
              "    </div>\n",
              "  </div>\n"
            ]
          },
          "metadata": {},
          "execution_count": 386
        }
      ]
    },
    {
      "cell_type": "code",
      "source": [
        "df.dtypes"
      ],
      "metadata": {
        "colab": {
          "base_uri": "https://localhost:8080/"
        },
        "id": "LybZcuADhYiI",
        "outputId": "dce5b256-d0b5-4f70-b993-50cc0f8af883"
      },
      "execution_count": 387,
      "outputs": [
        {
          "output_type": "execute_result",
          "data": {
            "text/plain": [
              "Age At Procurement    float64\n",
              "Mutation Count        float64\n",
              "Mutation Status        object\n",
              "Person Gender          object\n",
              "Primary Tumor Site     object\n",
              "Sample Type            object\n",
              "Specimen Site          object\n",
              "Tissue Source Site     object\n",
              "Type                   object\n",
              "dtype: object"
            ]
          },
          "metadata": {},
          "execution_count": 387
        }
      ]
    },
    {
      "cell_type": "code",
      "source": [
        "df.shape"
      ],
      "metadata": {
        "colab": {
          "base_uri": "https://localhost:8080/"
        },
        "id": "rZhw1dddhcEc",
        "outputId": "23182c0d-7275-4da0-eaa0-ed774fe6d0b8"
      },
      "execution_count": 388,
      "outputs": [
        {
          "output_type": "execute_result",
          "data": {
            "text/plain": [
              "(91, 9)"
            ]
          },
          "metadata": {},
          "execution_count": 388
        }
      ]
    },
    {
      "cell_type": "code",
      "source": [
        "df.describe(include='all').T"
      ],
      "metadata": {
        "colab": {
          "base_uri": "https://localhost:8080/",
          "height": 332
        },
        "id": "wRvXTC0hhfZw",
        "outputId": "a1a5cf2d-c6ee-4702-cf78-37d3e79f42d5"
      },
      "execution_count": 389,
      "outputs": [
        {
          "output_type": "execute_result",
          "data": {
            "text/plain": [
              "                   count unique          top freq        mean         std  \\\n",
              "Age At Procurement  87.0    NaN          NaN  NaN   64.712644   14.764751   \n",
              "Mutation Count      86.0    NaN          NaN  NaN  261.313953  499.455027   \n",
              "Mutation Status       90     15           WT   35         NaN         NaN   \n",
              "Person Gender         91      2         Male   59         NaN         NaN   \n",
              "Primary Tumor Site    90     14        trunk   23         NaN         NaN   \n",
              "Sample Type           91      2   metastasis   60         NaN         NaN   \n",
              "Specimen Site         89     15        trunk   30         NaN         NaN   \n",
              "Tissue Source Site    90      2        Tumor   60         NaN         NaN   \n",
              "Type                  90      5  sun-exposed   57         NaN         NaN   \n",
              "\n",
              "                     min    25%    50%     75%     max  \n",
              "Age At Procurement  25.0   54.5   64.0    77.5    94.0  \n",
              "Mutation Count       1.0  25.25  109.0  274.25  3642.0  \n",
              "Mutation Status      NaN    NaN    NaN     NaN     NaN  \n",
              "Person Gender        NaN    NaN    NaN     NaN     NaN  \n",
              "Primary Tumor Site   NaN    NaN    NaN     NaN     NaN  \n",
              "Sample Type          NaN    NaN    NaN     NaN     NaN  \n",
              "Specimen Site        NaN    NaN    NaN     NaN     NaN  \n",
              "Tissue Source Site   NaN    NaN    NaN     NaN     NaN  \n",
              "Type                 NaN    NaN    NaN     NaN     NaN  "
            ],
            "text/html": [
              "\n",
              "  <div id=\"df-0da473d5-f1ca-44aa-ab49-5e8d14899ef0\" class=\"colab-df-container\">\n",
              "    <div>\n",
              "<style scoped>\n",
              "    .dataframe tbody tr th:only-of-type {\n",
              "        vertical-align: middle;\n",
              "    }\n",
              "\n",
              "    .dataframe tbody tr th {\n",
              "        vertical-align: top;\n",
              "    }\n",
              "\n",
              "    .dataframe thead th {\n",
              "        text-align: right;\n",
              "    }\n",
              "</style>\n",
              "<table border=\"1\" class=\"dataframe\">\n",
              "  <thead>\n",
              "    <tr style=\"text-align: right;\">\n",
              "      <th></th>\n",
              "      <th>count</th>\n",
              "      <th>unique</th>\n",
              "      <th>top</th>\n",
              "      <th>freq</th>\n",
              "      <th>mean</th>\n",
              "      <th>std</th>\n",
              "      <th>min</th>\n",
              "      <th>25%</th>\n",
              "      <th>50%</th>\n",
              "      <th>75%</th>\n",
              "      <th>max</th>\n",
              "    </tr>\n",
              "  </thead>\n",
              "  <tbody>\n",
              "    <tr>\n",
              "      <th>Age At Procurement</th>\n",
              "      <td>87.0</td>\n",
              "      <td>NaN</td>\n",
              "      <td>NaN</td>\n",
              "      <td>NaN</td>\n",
              "      <td>64.712644</td>\n",
              "      <td>14.764751</td>\n",
              "      <td>25.0</td>\n",
              "      <td>54.5</td>\n",
              "      <td>64.0</td>\n",
              "      <td>77.5</td>\n",
              "      <td>94.0</td>\n",
              "    </tr>\n",
              "    <tr>\n",
              "      <th>Mutation Count</th>\n",
              "      <td>86.0</td>\n",
              "      <td>NaN</td>\n",
              "      <td>NaN</td>\n",
              "      <td>NaN</td>\n",
              "      <td>261.313953</td>\n",
              "      <td>499.455027</td>\n",
              "      <td>1.0</td>\n",
              "      <td>25.25</td>\n",
              "      <td>109.0</td>\n",
              "      <td>274.25</td>\n",
              "      <td>3642.0</td>\n",
              "    </tr>\n",
              "    <tr>\n",
              "      <th>Mutation Status</th>\n",
              "      <td>90</td>\n",
              "      <td>15</td>\n",
              "      <td>WT</td>\n",
              "      <td>35</td>\n",
              "      <td>NaN</td>\n",
              "      <td>NaN</td>\n",
              "      <td>NaN</td>\n",
              "      <td>NaN</td>\n",
              "      <td>NaN</td>\n",
              "      <td>NaN</td>\n",
              "      <td>NaN</td>\n",
              "    </tr>\n",
              "    <tr>\n",
              "      <th>Person Gender</th>\n",
              "      <td>91</td>\n",
              "      <td>2</td>\n",
              "      <td>Male</td>\n",
              "      <td>59</td>\n",
              "      <td>NaN</td>\n",
              "      <td>NaN</td>\n",
              "      <td>NaN</td>\n",
              "      <td>NaN</td>\n",
              "      <td>NaN</td>\n",
              "      <td>NaN</td>\n",
              "      <td>NaN</td>\n",
              "    </tr>\n",
              "    <tr>\n",
              "      <th>Primary Tumor Site</th>\n",
              "      <td>90</td>\n",
              "      <td>14</td>\n",
              "      <td>trunk</td>\n",
              "      <td>23</td>\n",
              "      <td>NaN</td>\n",
              "      <td>NaN</td>\n",
              "      <td>NaN</td>\n",
              "      <td>NaN</td>\n",
              "      <td>NaN</td>\n",
              "      <td>NaN</td>\n",
              "      <td>NaN</td>\n",
              "    </tr>\n",
              "    <tr>\n",
              "      <th>Sample Type</th>\n",
              "      <td>91</td>\n",
              "      <td>2</td>\n",
              "      <td>metastasis</td>\n",
              "      <td>60</td>\n",
              "      <td>NaN</td>\n",
              "      <td>NaN</td>\n",
              "      <td>NaN</td>\n",
              "      <td>NaN</td>\n",
              "      <td>NaN</td>\n",
              "      <td>NaN</td>\n",
              "      <td>NaN</td>\n",
              "    </tr>\n",
              "    <tr>\n",
              "      <th>Specimen Site</th>\n",
              "      <td>89</td>\n",
              "      <td>15</td>\n",
              "      <td>trunk</td>\n",
              "      <td>30</td>\n",
              "      <td>NaN</td>\n",
              "      <td>NaN</td>\n",
              "      <td>NaN</td>\n",
              "      <td>NaN</td>\n",
              "      <td>NaN</td>\n",
              "      <td>NaN</td>\n",
              "      <td>NaN</td>\n",
              "    </tr>\n",
              "    <tr>\n",
              "      <th>Tissue Source Site</th>\n",
              "      <td>90</td>\n",
              "      <td>2</td>\n",
              "      <td>Tumor</td>\n",
              "      <td>60</td>\n",
              "      <td>NaN</td>\n",
              "      <td>NaN</td>\n",
              "      <td>NaN</td>\n",
              "      <td>NaN</td>\n",
              "      <td>NaN</td>\n",
              "      <td>NaN</td>\n",
              "      <td>NaN</td>\n",
              "    </tr>\n",
              "    <tr>\n",
              "      <th>Type</th>\n",
              "      <td>90</td>\n",
              "      <td>5</td>\n",
              "      <td>sun-exposed</td>\n",
              "      <td>57</td>\n",
              "      <td>NaN</td>\n",
              "      <td>NaN</td>\n",
              "      <td>NaN</td>\n",
              "      <td>NaN</td>\n",
              "      <td>NaN</td>\n",
              "      <td>NaN</td>\n",
              "      <td>NaN</td>\n",
              "    </tr>\n",
              "  </tbody>\n",
              "</table>\n",
              "</div>\n",
              "    <div class=\"colab-df-buttons\">\n",
              "\n",
              "  <div class=\"colab-df-container\">\n",
              "    <button class=\"colab-df-convert\" onclick=\"convertToInteractive('df-0da473d5-f1ca-44aa-ab49-5e8d14899ef0')\"\n",
              "            title=\"Convert this dataframe to an interactive table.\"\n",
              "            style=\"display:none;\">\n",
              "\n",
              "  <svg xmlns=\"http://www.w3.org/2000/svg\" height=\"24px\" viewBox=\"0 -960 960 960\">\n",
              "    <path d=\"M120-120v-720h720v720H120Zm60-500h600v-160H180v160Zm220 220h160v-160H400v160Zm0 220h160v-160H400v160ZM180-400h160v-160H180v160Zm440 0h160v-160H620v160ZM180-180h160v-160H180v160Zm440 0h160v-160H620v160Z\"/>\n",
              "  </svg>\n",
              "    </button>\n",
              "\n",
              "  <style>\n",
              "    .colab-df-container {\n",
              "      display:flex;\n",
              "      gap: 12px;\n",
              "    }\n",
              "\n",
              "    .colab-df-convert {\n",
              "      background-color: #E8F0FE;\n",
              "      border: none;\n",
              "      border-radius: 50%;\n",
              "      cursor: pointer;\n",
              "      display: none;\n",
              "      fill: #1967D2;\n",
              "      height: 32px;\n",
              "      padding: 0 0 0 0;\n",
              "      width: 32px;\n",
              "    }\n",
              "\n",
              "    .colab-df-convert:hover {\n",
              "      background-color: #E2EBFA;\n",
              "      box-shadow: 0px 1px 2px rgba(60, 64, 67, 0.3), 0px 1px 3px 1px rgba(60, 64, 67, 0.15);\n",
              "      fill: #174EA6;\n",
              "    }\n",
              "\n",
              "    .colab-df-buttons div {\n",
              "      margin-bottom: 4px;\n",
              "    }\n",
              "\n",
              "    [theme=dark] .colab-df-convert {\n",
              "      background-color: #3B4455;\n",
              "      fill: #D2E3FC;\n",
              "    }\n",
              "\n",
              "    [theme=dark] .colab-df-convert:hover {\n",
              "      background-color: #434B5C;\n",
              "      box-shadow: 0px 1px 3px 1px rgba(0, 0, 0, 0.15);\n",
              "      filter: drop-shadow(0px 1px 2px rgba(0, 0, 0, 0.3));\n",
              "      fill: #FFFFFF;\n",
              "    }\n",
              "  </style>\n",
              "\n",
              "    <script>\n",
              "      const buttonEl =\n",
              "        document.querySelector('#df-0da473d5-f1ca-44aa-ab49-5e8d14899ef0 button.colab-df-convert');\n",
              "      buttonEl.style.display =\n",
              "        google.colab.kernel.accessAllowed ? 'block' : 'none';\n",
              "\n",
              "      async function convertToInteractive(key) {\n",
              "        const element = document.querySelector('#df-0da473d5-f1ca-44aa-ab49-5e8d14899ef0');\n",
              "        const dataTable =\n",
              "          await google.colab.kernel.invokeFunction('convertToInteractive',\n",
              "                                                    [key], {});\n",
              "        if (!dataTable) return;\n",
              "\n",
              "        const docLinkHtml = 'Like what you see? Visit the ' +\n",
              "          '<a target=\"_blank\" href=https://colab.research.google.com/notebooks/data_table.ipynb>data table notebook</a>'\n",
              "          + ' to learn more about interactive tables.';\n",
              "        element.innerHTML = '';\n",
              "        dataTable['output_type'] = 'display_data';\n",
              "        await google.colab.output.renderOutput(dataTable, element);\n",
              "        const docLink = document.createElement('div');\n",
              "        docLink.innerHTML = docLinkHtml;\n",
              "        element.appendChild(docLink);\n",
              "      }\n",
              "    </script>\n",
              "  </div>\n",
              "\n",
              "\n",
              "<div id=\"df-e87896bc-9f2c-4944-8f55-e695ea7f0e4e\">\n",
              "  <button class=\"colab-df-quickchart\" onclick=\"quickchart('df-e87896bc-9f2c-4944-8f55-e695ea7f0e4e')\"\n",
              "            title=\"Suggest charts\"\n",
              "            style=\"display:none;\">\n",
              "\n",
              "<svg xmlns=\"http://www.w3.org/2000/svg\" height=\"24px\"viewBox=\"0 0 24 24\"\n",
              "     width=\"24px\">\n",
              "    <g>\n",
              "        <path d=\"M19 3H5c-1.1 0-2 .9-2 2v14c0 1.1.9 2 2 2h14c1.1 0 2-.9 2-2V5c0-1.1-.9-2-2-2zM9 17H7v-7h2v7zm4 0h-2V7h2v10zm4 0h-2v-4h2v4z\"/>\n",
              "    </g>\n",
              "</svg>\n",
              "  </button>\n",
              "\n",
              "<style>\n",
              "  .colab-df-quickchart {\n",
              "      --bg-color: #E8F0FE;\n",
              "      --fill-color: #1967D2;\n",
              "      --hover-bg-color: #E2EBFA;\n",
              "      --hover-fill-color: #174EA6;\n",
              "      --disabled-fill-color: #AAA;\n",
              "      --disabled-bg-color: #DDD;\n",
              "  }\n",
              "\n",
              "  [theme=dark] .colab-df-quickchart {\n",
              "      --bg-color: #3B4455;\n",
              "      --fill-color: #D2E3FC;\n",
              "      --hover-bg-color: #434B5C;\n",
              "      --hover-fill-color: #FFFFFF;\n",
              "      --disabled-bg-color: #3B4455;\n",
              "      --disabled-fill-color: #666;\n",
              "  }\n",
              "\n",
              "  .colab-df-quickchart {\n",
              "    background-color: var(--bg-color);\n",
              "    border: none;\n",
              "    border-radius: 50%;\n",
              "    cursor: pointer;\n",
              "    display: none;\n",
              "    fill: var(--fill-color);\n",
              "    height: 32px;\n",
              "    padding: 0;\n",
              "    width: 32px;\n",
              "  }\n",
              "\n",
              "  .colab-df-quickchart:hover {\n",
              "    background-color: var(--hover-bg-color);\n",
              "    box-shadow: 0 1px 2px rgba(60, 64, 67, 0.3), 0 1px 3px 1px rgba(60, 64, 67, 0.15);\n",
              "    fill: var(--button-hover-fill-color);\n",
              "  }\n",
              "\n",
              "  .colab-df-quickchart-complete:disabled,\n",
              "  .colab-df-quickchart-complete:disabled:hover {\n",
              "    background-color: var(--disabled-bg-color);\n",
              "    fill: var(--disabled-fill-color);\n",
              "    box-shadow: none;\n",
              "  }\n",
              "\n",
              "  .colab-df-spinner {\n",
              "    border: 2px solid var(--fill-color);\n",
              "    border-color: transparent;\n",
              "    border-bottom-color: var(--fill-color);\n",
              "    animation:\n",
              "      spin 1s steps(1) infinite;\n",
              "  }\n",
              "\n",
              "  @keyframes spin {\n",
              "    0% {\n",
              "      border-color: transparent;\n",
              "      border-bottom-color: var(--fill-color);\n",
              "      border-left-color: var(--fill-color);\n",
              "    }\n",
              "    20% {\n",
              "      border-color: transparent;\n",
              "      border-left-color: var(--fill-color);\n",
              "      border-top-color: var(--fill-color);\n",
              "    }\n",
              "    30% {\n",
              "      border-color: transparent;\n",
              "      border-left-color: var(--fill-color);\n",
              "      border-top-color: var(--fill-color);\n",
              "      border-right-color: var(--fill-color);\n",
              "    }\n",
              "    40% {\n",
              "      border-color: transparent;\n",
              "      border-right-color: var(--fill-color);\n",
              "      border-top-color: var(--fill-color);\n",
              "    }\n",
              "    60% {\n",
              "      border-color: transparent;\n",
              "      border-right-color: var(--fill-color);\n",
              "    }\n",
              "    80% {\n",
              "      border-color: transparent;\n",
              "      border-right-color: var(--fill-color);\n",
              "      border-bottom-color: var(--fill-color);\n",
              "    }\n",
              "    90% {\n",
              "      border-color: transparent;\n",
              "      border-bottom-color: var(--fill-color);\n",
              "    }\n",
              "  }\n",
              "</style>\n",
              "\n",
              "  <script>\n",
              "    async function quickchart(key) {\n",
              "      const quickchartButtonEl =\n",
              "        document.querySelector('#' + key + ' button');\n",
              "      quickchartButtonEl.disabled = true;  // To prevent multiple clicks.\n",
              "      quickchartButtonEl.classList.add('colab-df-spinner');\n",
              "      try {\n",
              "        const charts = await google.colab.kernel.invokeFunction(\n",
              "            'suggestCharts', [key], {});\n",
              "      } catch (error) {\n",
              "        console.error('Error during call to suggestCharts:', error);\n",
              "      }\n",
              "      quickchartButtonEl.classList.remove('colab-df-spinner');\n",
              "      quickchartButtonEl.classList.add('colab-df-quickchart-complete');\n",
              "    }\n",
              "    (() => {\n",
              "      let quickchartButtonEl =\n",
              "        document.querySelector('#df-e87896bc-9f2c-4944-8f55-e695ea7f0e4e button');\n",
              "      quickchartButtonEl.style.display =\n",
              "        google.colab.kernel.accessAllowed ? 'block' : 'none';\n",
              "    })();\n",
              "  </script>\n",
              "</div>\n",
              "    </div>\n",
              "  </div>\n"
            ]
          },
          "metadata": {},
          "execution_count": 389
        }
      ]
    },
    {
      "cell_type": "code",
      "source": [
        "import missingno as msno\n",
        "msno.matrix(df)\n"
      ],
      "metadata": {
        "id": "Ndf7d4wJAbQ6",
        "colab": {
          "base_uri": "https://localhost:8080/",
          "height": 919
        },
        "outputId": "0c33f264-901c-45a6-a71a-91361d627802"
      },
      "execution_count": 390,
      "outputs": [
        {
          "output_type": "execute_result",
          "data": {
            "text/plain": [
              "<Axes: >"
            ]
          },
          "metadata": {},
          "execution_count": 390
        },
        {
          "output_type": "display_data",
          "data": {
            "text/plain": [
              "<Figure size 2500x1000 with 2 Axes>"
            ],
            "image/png": "[encoded data removed]"
          },
          "metadata": {}
        }
      ]
    },
    {
      "cell_type": "code",
      "source": [],
      "metadata": {
        "id": "9fyUN1ZNo0Vg"
      },
      "execution_count": 390,
      "outputs": []
    },
    {
      "cell_type": "code",
      "source": [
        "df.isna().sum()"
      ],
      "metadata": {
        "colab": {
          "base_uri": "https://localhost:8080/"
        },
        "id": "IUBgkA1Rhh-C",
        "outputId": "0f85f231-c988-4134-98cd-05ad9e00e915"
      },
      "execution_count": 391,
      "outputs": [
        {
          "output_type": "execute_result",
          "data": {
            "text/plain": [
              "Age At Procurement    4\n",
              "Mutation Count        5\n",
              "Mutation Status       1\n",
              "Person Gender         0\n",
              "Primary Tumor Site    1\n",
              "Sample Type           0\n",
              "Specimen Site         2\n",
              "Tissue Source Site    1\n",
              "Type                  1\n",
              "dtype: int64"
            ]
          },
          "metadata": {},
          "execution_count": 391
        }
      ]
    },
    {
      "cell_type": "code",
      "source": [
        "df['Age At Procurement'].fillna(0, inplace=True)\n",
        "df['Mutation Count'].fillna(0, inplace=True)\n",
        "df['Type'].fillna(0, inplace=True)\n",
        "\n",
        "\n",
        "#df['Mutation Status'].fillna(0, inplace=True)\n",
        "#df['Primary Tumor Site'].fillna(0, inplace=True)\n",
        "#df['Specimen Site'].fillna(0, inplace=True)\n",
        "#df['Tissue Source Site'].fillna(0, inplace=True)"
      ],
      "metadata": {
        "id": "-ZlOaEgyoRHb"
      },
      "execution_count": 392,
      "outputs": []
    },
    {
      "cell_type": "code",
      "source": [
        "df['Type'] = df['Type'].astype(str)"
      ],
      "metadata": {
        "id": "t6uZfAvwocAF"
      },
      "execution_count": 393,
      "outputs": []
    },
    {
      "cell_type": "code",
      "source": [
        "\n",
        "features=['Age At Procurement','Mutation Count','Mutation Status','Person Gender','Primary Tumor Site','Sample Type','Specimen Site','Tissue Source Site']\n",
        "\n",
        "label='Type'\n",
        "#label2='Mutation Status'\n",
        "#label3='Person Gender'\n",
        "#label4='Primary Tumor Site'\n",
        "#label5='Sample Type'\n",
        "#label6='Specimen Site'\n",
        "#label7='Tissue Source Site'\n",
        "\n"
      ],
      "metadata": {
        "id": "W18l7xDChqNR"
      },
      "execution_count": 394,
      "outputs": []
    },
    {
      "cell_type": "code",
      "source": [
        "le=LabelEncoder()\n",
        "sobrevive=le\n",
        "y=sobrevive.fit_transform(df[label])\n",
        "\n",
        "le_gender = LabelEncoder()\n",
        "le_status = LabelEncoder()\n",
        "le_tumor_site = LabelEncoder()\n",
        "le_sample_type = LabelEncoder()\n",
        "le_specimen_site = LabelEncoder()\n",
        "le_source_site = LabelEncoder()\n",
        "\n",
        "df['Person Gender'] = le_gender.fit_transform(df['Person Gender'])\n",
        "df['Mutation Status'] = le_status.fit_transform(df['Mutation Status'])\n",
        "df['Primary Tumor Site'] = le_tumor_site.fit_transform(df['Primary Tumor Site'])\n",
        "df['Sample Type'] = le_sample_type.fit_transform(df['Sample Type'])\n",
        "df['Specimen Site'] = le_specimen_site.fit_transform(df['Specimen Site'])\n",
        "df['Tissue Source Site'] = le_source_site.fit_transform(df['Tissue Source Site'])\n",
        "y"
      ],
      "metadata": {
        "colab": {
          "base_uri": "https://localhost:8080/"
        },
        "id": "TMBRrgSajzoG",
        "outputId": "2f1784b8-d978-4151-d323-98434b506981"
      },
      "execution_count": 395,
      "outputs": [
        {
          "output_type": "execute_result",
          "data": {
            "text/plain": [
              "array([3, 3, 3, 3, 3, 3, 5, 1, 1, 3, 3, 3, 5, 3, 3, 3, 3, 3, 3, 4, 4, 4,\n",
              "       1, 3, 3, 5, 3, 3, 3, 5, 3, 3, 1, 2, 2, 3, 1, 1, 3, 3, 3, 3, 3, 4,\n",
              "       3, 4, 3, 3, 3, 3, 3, 1, 3, 3, 1, 2, 3, 1, 3, 3, 0, 3, 4, 3, 3, 3,\n",
              "       3, 3, 3, 3, 4, 1, 3, 1, 2, 3, 3, 4, 2, 3, 3, 3, 1, 3, 5, 3, 4, 3,\n",
              "       4, 4, 3])"
            ]
          },
          "metadata": {},
          "execution_count": 395
        }
      ]
    },
    {
      "cell_type": "code",
      "source": [
        "df.dtypes"
      ],
      "metadata": {
        "colab": {
          "base_uri": "https://localhost:8080/"
        },
        "id": "gY5AWtVdlbjr",
        "outputId": "0b98f611-9b72-4de2-e769-c75f845c38dc"
      },
      "execution_count": 396,
      "outputs": [
        {
          "output_type": "execute_result",
          "data": {
            "text/plain": [
              "Age At Procurement    float64\n",
              "Mutation Count        float64\n",
              "Mutation Status         int64\n",
              "Person Gender           int64\n",
              "Primary Tumor Site      int64\n",
              "Sample Type             int64\n",
              "Specimen Site           int64\n",
              "Tissue Source Site      int64\n",
              "Type                   object\n",
              "dtype: object"
            ]
          },
          "metadata": {},
          "execution_count": 396
        }
      ]
    },
    {
      "cell_type": "code",
      "source": [
        "df.isna().sum()"
      ],
      "metadata": {
        "colab": {
          "base_uri": "https://localhost:8080/"
        },
        "id": "F5M1nZYIUKop",
        "outputId": "7a3ea318-bdcb-4825-c613-d6b7d8ac3b26"
      },
      "execution_count": 397,
      "outputs": [
        {
          "output_type": "execute_result",
          "data": {
            "text/plain": [
              "Age At Procurement    0\n",
              "Mutation Count        0\n",
              "Mutation Status       0\n",
              "Person Gender         0\n",
              "Primary Tumor Site    0\n",
              "Sample Type           0\n",
              "Specimen Site         0\n",
              "Tissue Source Site    0\n",
              "Type                  0\n",
              "dtype: int64"
            ]
          },
          "metadata": {},
          "execution_count": 397
        }
      ]
    },
    {
      "cell_type": "code",
      "source": [],
      "metadata": {
        "id": "fhigPgFsUOGG"
      },
      "execution_count": 397,
      "outputs": []
    },
    {
      "cell_type": "code",
      "source": [
        "xtrain, xtest,ytrain, ytest = train_test_split(df[features],y,test_size=0.20, random_state=0)"
      ],
      "metadata": {
        "id": "XVSS4LAUlSZ8"
      },
      "execution_count": 398,
      "outputs": []
    },
    {
      "cell_type": "code",
      "source": [
        "print('xtrain.shape' )\n",
        "print(xtrain.shape)\n",
        "\n",
        "print('len(ytrain)')\n",
        "print(len(ytrain))\n",
        "\n",
        "print('xtest.shape ')\n",
        "print(xtest.shape)\n",
        "\n",
        "print('len(ytest)')\n",
        "print(len(ytest))\n"
      ],
      "metadata": {
        "colab": {
          "base_uri": "https://localhost:8080/"
        },
        "id": "1se3iIdFlWSe",
        "outputId": "55e61809-dae7-4d45-e6e3-dc14b3169d7a"
      },
      "execution_count": 399,
      "outputs": [
        {
          "output_type": "stream",
          "name": "stdout",
          "text": [
            "xtrain.shape\n",
            "(72, 8)\n",
            "len(ytrain)\n",
            "72\n",
            "xtest.shape \n",
            "(19, 8)\n",
            "len(ytest)\n",
            "19\n"
          ]
        }
      ]
    },
    {
      "cell_type": "code",
      "source": [
        "df['Type'].value_counts()"
      ],
      "metadata": {
        "colab": {
          "base_uri": "https://localhost:8080/"
        },
        "id": "6GeKcKuYmbVx",
        "outputId": "c3046a7d-8a34-47db-85bf-7d3836d7c49e"
      },
      "execution_count": 400,
      "outputs": [
        {
          "output_type": "execute_result",
          "data": {
            "text/plain": [
              "sun-exposed    57\n",
              "acral          12\n",
              "unknown        11\n",
              "uveal           5\n",
              "mucosal         5\n",
              "0               1\n",
              "Name: Type, dtype: int64"
            ]
          },
          "metadata": {},
          "execution_count": 400
        }
      ]
    },
    {
      "cell_type": "code",
      "source": [
        "svm = SVC (probability=True)\n",
        "modelo = svm.fit(xtrain,ytrain)\n",
        "prediccion = modelo.predict(xtest)"
      ],
      "metadata": {
        "id": "uqjVFpgzmjXc"
      },
      "execution_count": 401,
      "outputs": []
    },
    {
      "cell_type": "code",
      "source": [
        "# prediccion ~ ytest\n",
        "prediccion_lista=prediccion.tolist()\n",
        "ytest_lista = ytest.tolist()\n",
        "\n",
        "i = 0\n",
        "\n",
        "for pred in prediccion_lista:\n",
        "  print(f\"{pred} -> {ytest[i]}\")\n",
        "  i+=1"
      ],
      "metadata": {
        "colab": {
          "base_uri": "https://localhost:8080/"
        },
        "id": "p42ntTw5mlu7",
        "outputId": "41d4384d-dbd1-4439-daaa-17081cf77f92"
      },
      "execution_count": 402,
      "outputs": [
        {
          "output_type": "stream",
          "name": "stdout",
          "text": [
            "3 -> 3\n",
            "3 -> 3\n",
            "3 -> 3\n",
            "3 -> 3\n",
            "3 -> 4\n",
            "3 -> 3\n",
            "3 -> 4\n",
            "3 -> 4\n",
            "3 -> 3\n",
            "3 -> 3\n",
            "3 -> 1\n",
            "3 -> 3\n",
            "3 -> 2\n",
            "3 -> 3\n",
            "3 -> 1\n",
            "3 -> 3\n",
            "3 -> 3\n",
            "3 -> 3\n",
            "3 -> 3\n"
          ]
        }
      ]
    },
    {
      "cell_type": "code",
      "source": [
        "print('score: ',modelo.score(xtest, ytest))\n",
        "\n",
        "print('recall_score: ', recall_score(prediccion,ytest, average='micro'))\n",
        "\n",
        "print('f1_score: ', f1_score(prediccion,ytest,  average='micro'))\n",
        "\n",
        "print('classification_report=', classification_report(prediccion, ytest))\n",
        "\n",
        "cf= confusion_matrix(prediccion, ytest)\n",
        "asns.heatmap(cf, annot=True, cmap='Blues_r')"
      ],
      "metadata": {
        "colab": {
          "base_uri": "https://localhost:8080/",
          "height": 825
        },
        "id": "SvC8xQEc-Ng_",
        "outputId": "a1b36bb6-361b-4144-f8eb-4bcc5fb4474a"
      },
      "execution_count": 403,
      "outputs": [
        {
          "output_type": "stream",
          "name": "stdout",
          "text": [
            "score:  0.6842105263157895\n",
            "recall_score:  0.6842105263157895\n",
            "f1_score:  0.6842105263157895\n",
            "classification_report=               precision    recall  f1-score   support\n",
            "\n",
            "           1       0.00      0.00      0.00         0\n",
            "           2       0.00      0.00      0.00         0\n",
            "           3       1.00      0.68      0.81        19\n",
            "           4       0.00      0.00      0.00         0\n",
            "\n",
            "    accuracy                           0.68        19\n",
            "   macro avg       0.25      0.17      0.20        19\n",
            "weighted avg       1.00      0.68      0.81        19\n",
            "\n"
          ]
        },
        {
          "output_type": "stream",
          "name": "stderr",
          "text": [
            "/usr/local/lib/python3.10/dist-packages/sklearn/metrics/_classification.py:1344: UndefinedMetricWarning: Recall and F-score are ill-defined and being set to 0.0 in labels with no true samples. Use `zero_division` parameter to control this behavior.\n",
            "  _warn_prf(average, modifier, msg_start, len(result))\n",
            "/usr/local/lib/python3.10/dist-packages/sklearn/metrics/_classification.py:1344: UndefinedMetricWarning: Recall and F-score are ill-defined and being set to 0.0 in labels with no true samples. Use `zero_division` parameter to control this behavior.\n",
            "  _warn_prf(average, modifier, msg_start, len(result))\n",
            "/usr/local/lib/python3.10/dist-packages/sklearn/metrics/_classification.py:1344: UndefinedMetricWarning: Recall and F-score are ill-defined and being set to 0.0 in labels with no true samples. Use `zero_division` parameter to control this behavior.\n",
            "  _warn_prf(average, modifier, msg_start, len(result))\n"
          ]
        },
        {
          "output_type": "execute_result",
          "data": {
            "text/plain": [
              "<Axes: >"
            ]
          },
          "metadata": {},
          "execution_count": 403
        },
        {
          "output_type": "display_data",
          "data": {
            "text/plain": [
              "<Figure size 640x480 with 2 Axes>"
            ],
            "image/png": "[encoded data removed]"
          },
          "metadata": {}
        }
      ]
    },
    {
      "cell_type": "code",
      "source": [
        "print('score: ',modelo.score(xtest, ytest))\n",
        "\n",
        "print('recall_score: ', recall_score(prediccion,ytest, average='micro'))\n",
        "\n",
        "print('f1_score: ', f1_score(prediccion,ytest,  average='micro'))\n",
        "\n",
        "print('classification_report=', classification_report(prediccion, ytest))"
      ],
      "metadata": {
        "colab": {
          "base_uri": "https://localhost:8080/"
        },
        "id": "KA_lfSXOnshm",
        "outputId": "e36ca726-4267-48a7-91c0-73d9781e77d7"
      },
      "execution_count": 404,
      "outputs": [
        {
          "output_type": "stream",
          "name": "stdout",
          "text": [
            "score:  0.6842105263157895\n",
            "recall_score:  0.6842105263157895\n",
            "f1_score:  0.6842105263157895\n",
            "classification_report=               precision    recall  f1-score   support\n",
            "\n",
            "           1       0.00      0.00      0.00         0\n",
            "           2       0.00      0.00      0.00         0\n",
            "           3       1.00      0.68      0.81        19\n",
            "           4       0.00      0.00      0.00         0\n",
            "\n",
            "    accuracy                           0.68        19\n",
            "   macro avg       0.25      0.17      0.20        19\n",
            "weighted avg       1.00      0.68      0.81        19\n",
            "\n"
          ]
        },
        {
          "output_type": "stream",
          "name": "stderr",
          "text": [
            "/usr/local/lib/python3.10/dist-packages/sklearn/metrics/_classification.py:1344: UndefinedMetricWarning: Recall and F-score are ill-defined and being set to 0.0 in labels with no true samples. Use `zero_division` parameter to control this behavior.\n",
            "  _warn_prf(average, modifier, msg_start, len(result))\n",
            "/usr/local/lib/python3.10/dist-packages/sklearn/metrics/_classification.py:1344: UndefinedMetricWarning: Recall and F-score are ill-defined and being set to 0.0 in labels with no true samples. Use `zero_division` parameter to control this behavior.\n",
            "  _warn_prf(average, modifier, msg_start, len(result))\n",
            "/usr/local/lib/python3.10/dist-packages/sklearn/metrics/_classification.py:1344: UndefinedMetricWarning: Recall and F-score are ill-defined and being set to 0.0 in labels with no true samples. Use `zero_division` parameter to control this behavior.\n",
            "  _warn_prf(average, modifier, msg_start, len(result))\n"
          ]
        }
      ]
    },
    {
      "cell_type": "code",
      "source": [],
      "metadata": {
        "id": "ypAdhd0F-L2t"
      },
      "execution_count": 404,
      "outputs": []
    },
    {
      "cell_type": "code",
      "source": [
        "data = {'Age At Procurement': 61, 'Mutation Count': 246,'Mutation Count':45,'Mutation Status':60,'Person Gender':30,'Primary Tumor Site':55,'Sample Type':20,'Specimen Site':10,'Tissue Source Site':20}\n",
        "\n",
        "pp =pd.DataFrame(data, index=[0])\n",
        "pre_pp= modelo.predict(pp)\n",
        "print(pp)\n",
        "sobrevive.inverse_transform(pre_pp.tolist())[0]"
      ],
      "metadata": {
        "colab": {
          "base_uri": "https://localhost:8080/",
          "height": 125
        },
        "id": "Vyc1LSM6nwah",
        "outputId": "8365cc35-fa98-46da-becc-93489bb31907"
      },
      "execution_count": 405,
      "outputs": [
        {
          "output_type": "stream",
          "name": "stdout",
          "text": [
            "   Age At Procurement  Mutation Count  Mutation Status  Person Gender  \\\n",
            "0                  61              45               60             30   \n",
            "\n",
            "   Primary Tumor Site  Sample Type  Specimen Site  Tissue Source Site  \n",
            "0                  55           20             10                  20  \n"
          ]
        },
        {
          "output_type": "execute_result",
          "data": {
            "text/plain": [
              "'sun-exposed'"
            ],
            "application/vnd.google.colaboratory.intrinsic+json": {
              "type": "string"
            }
          },
          "metadata": {},
          "execution_count": 405
        }
      ]
    },
    {
      "cell_type": "code",
      "source": [
        "#DecisionTreeClassifier\n",
        "svm = DecisionTreeClassifier (max_depth=5)\n",
        "modelo = svm.fit(xtrain,ytrain)\n",
        "prediccion = modelo.predict(xtest)"
      ],
      "metadata": {
        "id": "WKlDa0CWpIA1"
      },
      "execution_count": 406,
      "outputs": []
    },
    {
      "cell_type": "code",
      "source": [
        "\n",
        "import graphviz\n",
        "from sklearn.tree import export_graphviz,DecisionTreeClassifier\n",
        "from IPython.display import Image\n",
        "import pydotplus"
      ],
      "metadata": {
        "id": "20RoDJmjp58c"
      },
      "execution_count": 407,
      "outputs": []
    },
    {
      "cell_type": "code",
      "source": [
        "''' dot_data = export_graphviz(modelo,out_file=None,\n",
        "                           feature_names=features,\n",
        "                           class_names= label,\n",
        "                           filled=True,rounded=True,\n",
        "                           special_characters=True)\n",
        "\n",
        "\n",
        "graph = pydotplus.graph_from_dot_data(dot_data)\n",
        "\n",
        "Image(graph.create_png())   '''"
      ],
      "metadata": {
        "colab": {
          "base_uri": "https://localhost:8080/",
          "height": 53
        },
        "id": "-FQe6KEbpI1N",
        "outputId": "e992b76c-55ea-4414-8474-e095bea070b4"
      },
      "execution_count": 408,
      "outputs": [
        {
          "output_type": "execute_result",
          "data": {
            "text/plain": [
              "' dot_data = export_graphviz(modelo,out_file=None,\\n                           feature_names=features,\\n                           class_names= label,\\n                           filled=True,rounded=True,\\n                           special_characters=True)\\n\\n\\ngraph = pydotplus.graph_from_dot_data(dot_data)\\n\\nImage(graph.create_png())   '"
            ],
            "application/vnd.google.colaboratory.intrinsic+json": {
              "type": "string"
            }
          },
          "metadata": {},
          "execution_count": 408
        }
      ]
    },
    {
      "cell_type": "code",
      "source": [
        "print('score: ',modelo.score(xtest, ytest))\n",
        "\n",
        "print('recall_score: ', recall_score(prediccion,ytest, average='micro'))\n",
        "\n",
        "print('f1_score: ', f1_score(prediccion,ytest,  average='micro'))\n",
        "\n",
        "print('classification_report=', classification_report(prediccion, ytest))\n",
        "\n",
        "cf= confusion_matrix(prediccion, ytest)\n",
        "asns.heatmap(cf, annot=True, cmap='Blues_r')"
      ],
      "metadata": {
        "id": "LI1MmZRpphr7",
        "colab": {
          "base_uri": "https://localhost:8080/",
          "height": 848
        },
        "outputId": "2e8cbf41-c1fd-4317-9db9-92c54b2fcd42"
      },
      "execution_count": 409,
      "outputs": [
        {
          "output_type": "stream",
          "name": "stdout",
          "text": [
            "score:  0.7894736842105263\n",
            "recall_score:  0.7894736842105263\n",
            "f1_score:  0.7894736842105263\n",
            "classification_report=               precision    recall  f1-score   support\n",
            "\n",
            "           0       0.00      0.00      0.00         2\n",
            "           1       0.50      0.50      0.50         2\n",
            "           2       1.00      0.50      0.67         2\n",
            "           3       0.77      1.00      0.87        10\n",
            "           4       1.00      1.00      1.00         3\n",
            "\n",
            "    accuracy                           0.79        19\n",
            "   macro avg       0.65      0.60      0.61        19\n",
            "weighted avg       0.72      0.79      0.74        19\n",
            "\n"
          ]
        },
        {
          "output_type": "stream",
          "name": "stderr",
          "text": [
            "/usr/local/lib/python3.10/dist-packages/sklearn/metrics/_classification.py:1344: UndefinedMetricWarning: Precision and F-score are ill-defined and being set to 0.0 in labels with no predicted samples. Use `zero_division` parameter to control this behavior.\n",
            "  _warn_prf(average, modifier, msg_start, len(result))\n",
            "/usr/local/lib/python3.10/dist-packages/sklearn/metrics/_classification.py:1344: UndefinedMetricWarning: Precision and F-score are ill-defined and being set to 0.0 in labels with no predicted samples. Use `zero_division` parameter to control this behavior.\n",
            "  _warn_prf(average, modifier, msg_start, len(result))\n",
            "/usr/local/lib/python3.10/dist-packages/sklearn/metrics/_classification.py:1344: UndefinedMetricWarning: Precision and F-score are ill-defined and being set to 0.0 in labels with no predicted samples. Use `zero_division` parameter to control this behavior.\n",
            "  _warn_prf(average, modifier, msg_start, len(result))\n"
          ]
        },
        {
          "output_type": "execute_result",
          "data": {
            "text/plain": [
              "<Axes: >"
            ]
          },
          "metadata": {},
          "execution_count": 409
        },
        {
          "output_type": "display_data",
          "data": {
            "text/plain": [
              "<Figure size 640x480 with 2 Axes>"
            ],
            "image/png": "[encoded data removed]"
          },
          "metadata": {}
        }
      ]
    },
    {
      "cell_type": "code",
      "source": [
        "print('score: ',modelo.score(xtest, ytest))\n",
        "\n",
        "print('recall_score: ', recall_score(prediccion,ytest, average='micro'))\n",
        "\n",
        "print('f1_score: ', f1_score(prediccion,ytest,  average='micro'))\n",
        "\n",
        "print('classification_report=', classification_report(prediccion, ytest))"
      ],
      "metadata": {
        "colab": {
          "base_uri": "https://localhost:8080/"
        },
        "id": "ZeuPUxkkpKQI",
        "outputId": "df45f3bf-8d3c-47ce-8c9c-67cf212d3e7d"
      },
      "execution_count": 410,
      "outputs": [
        {
          "output_type": "stream",
          "name": "stdout",
          "text": [
            "score:  0.7894736842105263\n",
            "recall_score:  0.7894736842105263\n",
            "f1_score:  0.7894736842105263\n",
            "classification_report=               precision    recall  f1-score   support\n",
            "\n",
            "           0       0.00      0.00      0.00         2\n",
            "           1       0.50      0.50      0.50         2\n",
            "           2       1.00      0.50      0.67         2\n",
            "           3       0.77      1.00      0.87        10\n",
            "           4       1.00      1.00      1.00         3\n",
            "\n",
            "    accuracy                           0.79        19\n",
            "   macro avg       0.65      0.60      0.61        19\n",
            "weighted avg       0.72      0.79      0.74        19\n",
            "\n"
          ]
        },
        {
          "output_type": "stream",
          "name": "stderr",
          "text": [
            "/usr/local/lib/python3.10/dist-packages/sklearn/metrics/_classification.py:1344: UndefinedMetricWarning: Precision and F-score are ill-defined and being set to 0.0 in labels with no predicted samples. Use `zero_division` parameter to control this behavior.\n",
            "  _warn_prf(average, modifier, msg_start, len(result))\n",
            "/usr/local/lib/python3.10/dist-packages/sklearn/metrics/_classification.py:1344: UndefinedMetricWarning: Precision and F-score are ill-defined and being set to 0.0 in labels with no predicted samples. Use `zero_division` parameter to control this behavior.\n",
            "  _warn_prf(average, modifier, msg_start, len(result))\n",
            "/usr/local/lib/python3.10/dist-packages/sklearn/metrics/_classification.py:1344: UndefinedMetricWarning: Precision and F-score are ill-defined and being set to 0.0 in labels with no predicted samples. Use `zero_division` parameter to control this behavior.\n",
            "  _warn_prf(average, modifier, msg_start, len(result))\n"
          ]
        }
      ]
    },
    {
      "cell_type": "code",
      "source": [
        "from sklearn.ensemble import GradientBoostingClassifier"
      ],
      "metadata": {
        "id": "zgDcvx0QpPgV"
      },
      "execution_count": 411,
      "outputs": []
    },
    {
      "cell_type": "code",
      "source": [
        "#GradientBoostingClassifier\n",
        "svm = GradientBoostingClassifier ()\n",
        "modelo = svm.fit(xtrain,ytrain)\n",
        "prediccion = modelo.predict(xtest)"
      ],
      "metadata": {
        "id": "yzhRWSsnpRcQ"
      },
      "execution_count": 412,
      "outputs": []
    },
    {
      "cell_type": "code",
      "source": [
        "print('score: ',modelo.score(xtest, ytest))\n",
        "\n",
        "print('recall_score: ', recall_score(prediccion,ytest, average='micro'))\n",
        "\n",
        "print('f1_score: ', f1_score(prediccion,ytest,  average='micro'))\n",
        "\n",
        "print('classification_report=', classification_report(prediccion, ytest))\n",
        "\n",
        "cf= confusion_matrix(prediccion, ytest)\n",
        "asns.heatmap(cf, annot=True, cmap='Blues_r')"
      ],
      "metadata": {
        "colab": {
          "base_uri": "https://localhost:8080/",
          "height": 843
        },
        "id": "y7Mez4YH-PLQ",
        "outputId": "5c460f7b-0a82-4eb5-ce90-ab43fcdceccc"
      },
      "execution_count": 413,
      "outputs": [
        {
          "output_type": "stream",
          "name": "stdout",
          "text": [
            "score:  0.8421052631578947\n",
            "recall_score:  0.8421052631578947\n",
            "f1_score:  0.8421052631578947\n",
            "classification_report=               precision    recall  f1-score   support\n",
            "\n",
            "           0       0.00      0.00      0.00         1\n",
            "           1       0.50      0.50      0.50         2\n",
            "           2       1.00      0.50      0.67         2\n",
            "           3       0.85      1.00      0.92        11\n",
            "           4       1.00      1.00      1.00         3\n",
            "\n",
            "    accuracy                           0.84        19\n",
            "   macro avg       0.67      0.60      0.62        19\n",
            "weighted avg       0.81      0.84      0.81        19\n",
            "\n"
          ]
        },
        {
          "output_type": "stream",
          "name": "stderr",
          "text": [
            "/usr/local/lib/python3.10/dist-packages/sklearn/metrics/_classification.py:1344: UndefinedMetricWarning: Precision and F-score are ill-defined and being set to 0.0 in labels with no predicted samples. Use `zero_division` parameter to control this behavior.\n",
            "  _warn_prf(average, modifier, msg_start, len(result))\n",
            "/usr/local/lib/python3.10/dist-packages/sklearn/metrics/_classification.py:1344: UndefinedMetricWarning: Precision and F-score are ill-defined and being set to 0.0 in labels with no predicted samples. Use `zero_division` parameter to control this behavior.\n",
            "  _warn_prf(average, modifier, msg_start, len(result))\n",
            "/usr/local/lib/python3.10/dist-packages/sklearn/metrics/_classification.py:1344: UndefinedMetricWarning: Precision and F-score are ill-defined and being set to 0.0 in labels with no predicted samples. Use `zero_division` parameter to control this behavior.\n",
            "  _warn_prf(average, modifier, msg_start, len(result))\n"
          ]
        },
        {
          "output_type": "execute_result",
          "data": {
            "text/plain": [
              "<Axes: >"
            ]
          },
          "metadata": {},
          "execution_count": 413
        },
        {
          "output_type": "display_data",
          "data": {
            "text/plain": [
              "<Figure size 640x480 with 2 Axes>"
            ],
            "image/png": "[encoded data removed]"
          },
          "metadata": {}
        }
      ]
    },
    {
      "cell_type": "code",
      "source": [
        "print('score: ',modelo.score(xtest, ytest))\n",
        "\n",
        "print('recall_score: ', recall_score(prediccion,ytest, average='micro'))\n",
        "\n",
        "print('f1_score: ', f1_score(prediccion,ytest,  average='micro'))\n",
        "\n",
        "print('classification_report=', classification_report(prediccion, ytest))"
      ],
      "metadata": {
        "colab": {
          "base_uri": "https://localhost:8080/"
        },
        "id": "x2PhAmuNpSjm",
        "outputId": "1b88561a-5724-499a-8909-566e135f9af8"
      },
      "execution_count": 414,
      "outputs": [
        {
          "output_type": "stream",
          "name": "stdout",
          "text": [
            "score:  0.8421052631578947\n",
            "recall_score:  0.8421052631578947\n",
            "f1_score:  0.8421052631578947\n",
            "classification_report=               precision    recall  f1-score   support\n",
            "\n",
            "           0       0.00      0.00      0.00         1\n",
            "           1       0.50      0.50      0.50         2\n",
            "           2       1.00      0.50      0.67         2\n",
            "           3       0.85      1.00      0.92        11\n",
            "           4       1.00      1.00      1.00         3\n",
            "\n",
            "    accuracy                           0.84        19\n",
            "   macro avg       0.67      0.60      0.62        19\n",
            "weighted avg       0.81      0.84      0.81        19\n",
            "\n"
          ]
        },
        {
          "output_type": "stream",
          "name": "stderr",
          "text": [
            "/usr/local/lib/python3.10/dist-packages/sklearn/metrics/_classification.py:1344: UndefinedMetricWarning: Precision and F-score are ill-defined and being set to 0.0 in labels with no predicted samples. Use `zero_division` parameter to control this behavior.\n",
            "  _warn_prf(average, modifier, msg_start, len(result))\n",
            "/usr/local/lib/python3.10/dist-packages/sklearn/metrics/_classification.py:1344: UndefinedMetricWarning: Precision and F-score are ill-defined and being set to 0.0 in labels with no predicted samples. Use `zero_division` parameter to control this behavior.\n",
            "  _warn_prf(average, modifier, msg_start, len(result))\n",
            "/usr/local/lib/python3.10/dist-packages/sklearn/metrics/_classification.py:1344: UndefinedMetricWarning: Precision and F-score are ill-defined and being set to 0.0 in labels with no predicted samples. Use `zero_division` parameter to control this behavior.\n",
            "  _warn_prf(average, modifier, msg_start, len(result))\n"
          ]
        }
      ]
    },
    {
      "cell_type": "code",
      "source": [],
      "metadata": {
        "id": "snozX5j6pUPW"
      },
      "execution_count": 414,
      "outputs": []
    }
  ]
}